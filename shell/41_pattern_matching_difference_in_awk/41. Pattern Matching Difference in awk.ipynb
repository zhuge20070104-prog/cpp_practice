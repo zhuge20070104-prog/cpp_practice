{
 "cells": [
  {
   "cell_type": "code",
   "execution_count": 2,
   "id": "37788212-acd6-4eb4-9d5d-61baaeb9fca7",
   "metadata": {},
   "outputs": [],
   "source": [
    "# 1. awk pattern differences\n",
    "# For \\b special expression, use \\y\n",
    "# \\' matches the empty string at the beginning of the buffer\n",
    "# \\' matches the empty string at the end of the buffer\n",
    "# Shell variables can't be used directly inside awk code"
   ]
  },
  {
   "cell_type": "code",
   "execution_count": 2,
   "id": "439f33e5-589b-4631-a88a-05f2a9a583cf",
   "metadata": {},
   "outputs": [
    {
     "name": "stdout",
     "output_type": "stream",
     "text": [
      "Shell value - fredric\n"
     ]
    }
   ],
   "source": [
    "# 2. 传递shell变量到awk\n",
    "! export USER=fredric && echo | awk -v u=$USER '{print \"Shell value - \" u}'"
   ]
  }
 ],
 "metadata": {
  "kernelspec": {
   "display_name": "Python 3 (ipykernel)",
   "language": "python",
   "name": "python3"
  },
  "language_info": {
   "codemirror_mode": {
    "name": "ipython",
    "version": 3
   },
   "file_extension": ".py",
   "mimetype": "text/x-python",
   "name": "python",
   "nbconvert_exporter": "python",
   "pygments_lexer": "ipython3",
   "version": "3.10.12"
  }
 },
 "nbformat": 4,
 "nbformat_minor": 5
}
