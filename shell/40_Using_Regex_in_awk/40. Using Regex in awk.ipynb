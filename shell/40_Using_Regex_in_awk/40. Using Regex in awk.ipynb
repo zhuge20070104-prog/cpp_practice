{
 "cells": [
  {
   "cell_type": "code",
   "execution_count": 2,
   "id": "d3635360-fb97-4fb5-92ca-c963b7fef737",
   "metadata": {},
   "outputs": [],
   "source": [
    "# awk\n",
    "# A special purpose programming language\n",
    "# Designed for text processing\n",
    "# Designed for data extraction and reporting\n",
    "# Awk uses Extended Regular Expressions only"
   ]
  },
  {
   "cell_type": "code",
   "execution_count": 5,
   "id": "848d10ba-d2eb-420d-8bae-62e265211fa6",
   "metadata": {},
   "outputs": [
    {
     "name": "stdout",
     "output_type": "stream",
     "text": [
      "/bin/bash\n"
     ]
    }
   ],
   "source": [
    "# 2. 有root开头的，用:分隔，打印第7个\n",
    "! awk -F':' '/^root/{print $7}' /etc/passwd"
   ]
  },
  {
   "cell_type": "code",
   "execution_count": 7,
   "id": "1fd0aa36-e85c-4258-903e-28383fd50916",
   "metadata": {},
   "outputs": [
    {
     "name": "stdout",
     "output_type": "stream",
     "text": [
      "/usr/sbin/nologin\n",
      "/usr/sbin/nologin\n",
      "/usr/sbin/nologin\n",
      "/bin/sync\n",
      "/usr/sbin/nologin\n",
      "/usr/sbin/nologin\n",
      "/usr/sbin/nologin\n",
      "/usr/sbin/nologin\n",
      "/usr/sbin/nologin\n",
      "/usr/sbin/nologin\n",
      "/usr/sbin/nologin\n",
      "/usr/sbin/nologin\n",
      "/usr/sbin/nologin\n",
      "/usr/sbin/nologin\n",
      "/usr/sbin/nologin\n",
      "/usr/sbin/nologin\n",
      "/usr/sbin/nologin\n",
      "/usr/sbin/nologin\n"
     ]
    }
   ],
   "source": [
    "# 3. 打印所有非root用户用的bash\n",
    "! awk -F':' '!/^root/{print $7}' /etc/passwd"
   ]
  },
  {
   "cell_type": "code",
   "execution_count": 10,
   "id": "faf8ee40-bd03-416b-814e-f2fed6f91e33",
   "metadata": {
    "scrolled": true
   },
   "outputs": [
    {
     "name": "stdout",
     "output_type": "stream",
     "text": [
      "root\n",
      "daemon\n",
      "bin\n",
      "sys\n",
      "sync\n",
      "games\n",
      "man\n",
      "lp\n",
      "mail\n",
      "news\n",
      "uucp\n",
      "proxy\n",
      "www-data\n",
      "backup\n",
      "Mailing List Manager\n",
      "ircd\n",
      "Gnats Bug-Reporting System (admin)\n",
      "nobody\n",
      "\n"
     ]
    }
   ],
   "source": [
    "# 4. match和不match的都指定结果\n",
    "# 是root，打印第一列，\n",
    "# 不是root，打印第5列\n",
    "\n",
    "# next 关键字的作用\n",
    "# awk 中的 next 关键字用于跳过当前记录并开始处理下一条记录。当 awk 处理文件或输入流时，它逐行读取内容，并对每一行应用定义的规则。\n",
    "# 使用 next 关键字可以在满足某些条件时跳过当前记录，而不再继续执行当前规则后面的语句。这对于需要在特定条件下忽略某些记录的情况非常有用。\n",
    "\n",
    "! awk -F':' '/^root/{print $1;next}{print $5}' /etc/passwd"
   ]
  },
  {
   "cell_type": "code",
   "execution_count": 17,
   "id": "a5721b4b-fc01-4dc7-bccb-de24b776cf41",
   "metadata": {},
   "outputs": [
    {
     "name": "stdout",
     "output_type": "stream",
     "text": [
      "USER       PID %CPU %MEM    VSZ   RSS TTY      STAT START   TIME COMMAND\n",
      "root         1  0.8  0.5 748048 96268 pts/0    Rsl+ 01:13   0:44 /usr/bin/python3 /usr/local/bin/jupyter-notebook --ip=0.0.0.0 --no-browser --allow-root\n",
      "root      1764  0.0  0.0   7440  1600 pts/3    R+   02:40   0:00 ps aux\n"
     ]
    }
   ],
   "source": [
    "# 5. 看第8列，看他是不是R，\n",
    "# 如果是R打印那行\n",
    "\n",
    "# NR==1 打印第一行，就是列名行\n",
    "# NR 变量的作用\n",
    "# NR 是 AWK 中的一个内置变量，用于表示当前处理的记录数（行数）。在 AWK 中，每次处理一行记录时，NR 变量会自动增加，从1开始逐行计数。\n",
    "# NR 变量通常用于在处理文本文件时跟踪当前的行数。它可以用于编写根据行数执行特定操作的 AWK 脚本。例如，你可以使用 NR 变量来打印文件的某些特定行，或者在达到特定行数时执行特定操作。\n",
    "\n",
    "\n",
    "# ~ 关键字的作用\n",
    "# 在 AWK 中，~ 是一个用于进行模式匹配的操作符。它用于判断字符串是否匹配某个正则表达式模式。\n",
    "# 具体来说，~ 的使用方式是将要匹配的字符串放在左侧，将正则表达式模式放在右侧。如果字符串与模式匹配，则返回真（1），否则返回假（0）。\n",
    "\n",
    "! ps aux | awk '$8 ~ /R/{print;} NR==1 {print;}' "
   ]
  },
  {
   "cell_type": "code",
   "execution_count": 28,
   "id": "3da7b578-1cad-47aa-bdf9-d4a814798984",
   "metadata": {},
   "outputs": [
    {
     "name": "stdout",
     "output_type": "stream",
     "text": [
      "COMMAND %CPU\n",
      "/usr/bin/python3 0.8\n",
      "/usr/bin/python3 0.0\n",
      "/usr/bin/python3 0.0\n",
      "/usr/bin/python3 0.0\n"
     ]
    }
   ],
   "source": [
    "# 6. 显示CPU用量\n",
    "# 查看11列 名字叫NetworkManager的进程，\n",
    "# 同时打印 第3列 列头 和列数据 [CPU info]\n",
    "# 后面一个print $3 是列头\n",
    "# 前面一个print $3 是列值\n",
    "\n",
    "!ps aux | awk '$11 ~ /^.*[Pp]ython3.*$/{print $11 \" \" $3;}  NR==1 {print $11 \" \" $3; }'"
   ]
  },
  {
   "cell_type": "code",
   "execution_count": 29,
   "id": "83ba7ea6-eaf1-4081-a81d-da400d775ac8",
   "metadata": {},
   "outputs": [
    {
     "name": "stdout",
     "output_type": "stream",
     "text": [
      "daemon:x:1:1:daemon:/usr/sbin:/usr/sbin/nologin\n",
      "bin:x:2:2:bin:/bin:/usr/sbin/nologin\n",
      "sys:x:3:3:sys:/dev:/usr/sbin/nologin\n",
      "sync:x:4:65534:sync:/bin:/bin/sync\n",
      "games:x:5:60:games:/usr/games:/usr/sbin/nologin\n"
     ]
    }
   ],
   "source": [
    "# 7. 查找以grant开头，以ted结束的行\n",
    "\n",
    "! awk '/^daemon/,/^games/' /etc/passwd"
   ]
  },
  {
   "cell_type": "code",
   "execution_count": 38,
   "id": "5cf4be5d-1f77-4027-aa4e-886a800492ff",
   "metadata": {},
   "outputs": [
    {
     "name": "stdout",
     "output_type": "stream",
     "text": [
      "2:daemon\n"
     ]
    }
   ],
   "source": [
    "# FNR 打印行号\n",
    "! awk -F':' '/^daemon/{print FNR \":\" $1}'  /etc/passwd"
   ]
  }
 ],
 "metadata": {
  "kernelspec": {
   "display_name": "Python 3 (ipykernel)",
   "language": "python",
   "name": "python3"
  },
  "language_info": {
   "codemirror_mode": {
    "name": "ipython",
    "version": 3
   },
   "file_extension": ".py",
   "mimetype": "text/x-python",
   "name": "python",
   "nbconvert_exporter": "python",
   "pygments_lexer": "ipython3",
   "version": "3.10.12"
  }
 },
 "nbformat": 4,
 "nbformat_minor": 5
}
