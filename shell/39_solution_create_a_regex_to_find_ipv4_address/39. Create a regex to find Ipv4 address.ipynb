{
 "cells": [
  {
   "cell_type": "code",
   "execution_count": 4,
   "id": "e7a80b68-3f0b-4886-8b7f-b2e51b241668",
   "metadata": {},
   "outputs": [
    {
     "name": "stdout",
     "output_type": "stream",
     "text": [
      "146.154.25.183,-,807302598,GET,/1.html\n",
      "128.183.76.159,-,807302598,GET,/2.html\n",
      "204.212.251.2,-,807302598,GET,/3.html\n"
     ]
    }
   ],
   "source": [
    "# 1. Challenge\n",
    "\n",
    "# 使用sed\n",
    "# 2. Regex\n",
    "# 0-199\n",
    "# 200-249\n",
    "# 250-255\n",
    "\n",
    "cmd='''sed -E -n '/((1?[0-9][0-9]?|2[0-4][0-9]|25[0-5])\\.){3}(1?[0-9][0-9]?|2[0-4][0-9]|25[0-5])/p' ./files/ipaddresses.csv'''\n",
    "!{cmd}"
   ]
  },
  {
   "cell_type": "code",
   "execution_count": 5,
   "id": "c1ee1f04-cfc7-4135-8f7a-c4306ce48a8a",
   "metadata": {},
   "outputs": [
    {
     "name": "stdout",
     "output_type": "stream",
     "text": [
      "146.154.25.183\n",
      "128.183.76.159\n",
      "204.212.251.2\n"
     ]
    }
   ],
   "source": [
    "# 3. 去除 ,后面所有的\n",
    "\n",
    "\n",
    "cmd='''sed -E -n '/((1?[0-9][0-9]?|2[0-4][0-9]|25[0-5])\\.){3}(1?[0-9][0-9]?|2[0-4][0-9]|25[0-5])/p' ./files/ipaddresses.csv | sed 's/,.*//g' '''\n",
    "!{cmd}"
   ]
  },
  {
   "cell_type": "code",
   "execution_count": 9,
   "id": "0571b740-9afa-44ed-ad82-42fde3cfc16c",
   "metadata": {},
   "outputs": [
    {
     "name": "stdout",
     "output_type": "stream",
     "text": [
      "146.154.25.183\n",
      "128.183.76.159\n",
      "204.212.251.2\n"
     ]
    }
   ],
   "source": [
    "# 4. 解决方案2\n",
    "# grep -E -o 也可以\n",
    "\n",
    "cmd='''grep -E -o '((1?[0-9][0-9]?|2[0-4][0-9]|25[0-5])\\.){3}(1?[0-9][0-9]?|2[0-4][0-9]|25[0-5])' ./files/ipaddresses.csv '''\n",
    "!{cmd}"
   ]
  },
  {
   "cell_type": "code",
   "execution_count": 16,
   "id": "03c684a5-1faf-4f50-b765-bd5368b82b3c",
   "metadata": {},
   "outputs": [
    {
     "name": "stdout",
     "output_type": "stream",
     "text": [
      "146.154.25.183\n",
      "128.183.76.159\n",
      "204.212.251.2\n"
     ]
    }
   ],
   "source": [
    "# 5. awk Solution\n",
    "\n",
    "cmd=''' awk '/(((1?[0-9][0-9]?|2[0-4][0-9]|25[0-5])\\.)((1?[0-9][0-9]?|2[0-4][0-9]|25[0-5])\\.)((1?[0-9][0-9]?|2[0-4][0-9]|25[0-5])\\.)((1?[0-9][0-9]?|2[0-4][0-9]|25[0-5])))/{print $1}' ./files/ipaddresses.csv | sed 's/,.*//g' '''\n",
    "!{cmd}"
   ]
  }
 ],
 "metadata": {
  "kernelspec": {
   "display_name": "Python 3 (ipykernel)",
   "language": "python",
   "name": "python3"
  },
  "language_info": {
   "codemirror_mode": {
    "name": "ipython",
    "version": 3
   },
   "file_extension": ".py",
   "mimetype": "text/x-python",
   "name": "python",
   "nbconvert_exporter": "python",
   "pygments_lexer": "ipython3",
   "version": "3.10.12"
  }
 },
 "nbformat": 4,
 "nbformat_minor": 5
}
