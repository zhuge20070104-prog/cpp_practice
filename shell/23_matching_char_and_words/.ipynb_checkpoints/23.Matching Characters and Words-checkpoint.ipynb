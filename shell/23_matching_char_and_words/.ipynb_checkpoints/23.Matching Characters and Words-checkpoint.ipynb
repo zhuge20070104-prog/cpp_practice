{
 "cells": [
  {
   "cell_type": "code",
   "execution_count": 1,
   "id": "07c16601-2c62-4439-b2c9-d3b9fcf35578",
   "metadata": {},
   "outputs": [
    {
     "name": "stdout",
     "output_type": "stream",
     "text": [
      "a\n"
     ]
    }
   ],
   "source": [
    "#  匹配单个字符\n",
    "! echo 'a' | sed -E -n '/./p'"
   ]
  },
  {
   "cell_type": "code",
   "execution_count": 3,
   "id": "238dc280-d498-438a-8165-0998ccf6c3ed",
   "metadata": {},
   "outputs": [
    {
     "name": "stdout",
     "output_type": "stream",
     "text": [
      "a\n"
     ]
    }
   ],
   "source": [
    "# One character in list\n",
    "! echo 'a' | sed -E -n '/[abc]/p'"
   ]
  },
  {
   "cell_type": "code",
   "execution_count": 4,
   "id": "358de30b-b51b-4ebb-b9c1-0349dc564467",
   "metadata": {},
   "outputs": [],
   "source": [
    "# One character not in list\n",
    "! echo 'a' | sed -E -n '/[^abc]/p'"
   ]
  },
  {
   "cell_type": "code",
   "execution_count": 5,
   "id": "7baceb13-2a64-45dc-a28b-cd453d6af41d",
   "metadata": {},
   "outputs": [
    {
     "name": "stdout",
     "output_type": "stream",
     "text": [
      "7\n"
     ]
    }
   ],
   "source": [
    "# One number in range\n",
    "! echo '7' | sed -E -n '/[0-9]/p'"
   ]
  },
  {
   "cell_type": "code",
   "execution_count": 10,
   "id": "0f377a39-4e2c-4a39-af0d-553dbca14aac",
   "metadata": {},
   "outputs": [
    {
     "name": "stdout",
     "output_type": "stream",
     "text": [
      "m\n"
     ]
    }
   ],
   "source": [
    "# One character in class\n",
    "! echo 'm' | sed -E -n '/[[:alpha:]]/p'"
   ]
  },
  {
   "cell_type": "code",
   "execution_count": 13,
   "id": "1089ed65-a9e3-41b8-a77d-2fd5059f9f93",
   "metadata": {},
   "outputs": [
    {
     "name": "stdout",
     "output_type": "stream",
     "text": [
      "amd\n"
     ]
    }
   ],
   "source": [
    "# One collation sequence\n",
    "! echo 'amd' | sed -E -n '/[.m.]/p'"
   ]
  },
  {
   "cell_type": "code",
   "execution_count": 16,
   "id": "9f2ac1e8-e417-4440-b025-05ccaae05476",
   "metadata": {},
   "outputs": [
    {
     "name": "stdout",
     "output_type": "stream",
     "text": [
      "amd\n"
     ]
    }
   ],
   "source": [
    "# One character equivalence\n",
    "! echo 'amd' | sed -E -n '/[=m=]/p'"
   ]
  },
  {
   "cell_type": "code",
   "execution_count": 28,
   "id": "edbb7135-3093-4546-8805-0af51d392fe5",
   "metadata": {},
   "outputs": [
    {
     "name": "stdout",
     "output_type": "stream",
     "text": [
      " rat \n"
     ]
    }
   ],
   "source": [
    "# 特殊表达式使用backslashes\n",
    "# match 词边界空格\n",
    "! echo ' rat ' | sed -E -n '/\\brat\\b/p'"
   ]
  },
  {
   "cell_type": "code",
   "execution_count": 34,
   "id": "911d6110-fafa-46db-9587-557495549a11",
   "metadata": {},
   "outputs": [
    {
     "name": "stdout",
     "output_type": "stream",
     "text": [
      "    rat    \n"
     ]
    }
   ],
   "source": [
    "# space match的时候会把空格match到string里面去\n",
    "# \\b 不会把空格match进去\n",
    "! echo '    rat    ' | sed -E -n '/[[:space:]]rat[[:space:]]/p'"
   ]
  },
  {
   "cell_type": "code",
   "execution_count": 37,
   "id": "9e536b7d-6259-4c38-bc4a-5cd76aacdbfb",
   "metadata": {},
   "outputs": [
    {
     "name": "stdout",
     "output_type": "stream",
     "text": [
      "crate\n"
     ]
    }
   ],
   "source": [
    "# 不在词边界有空格\n",
    "# 非词边界空格\n",
    "! echo 'crate' | sed -E -n '/\\Brat\\B/p'"
   ]
  },
  {
   "cell_type": "code",
   "execution_count": 44,
   "id": "375f82ba-7f39-407f-ade7-53c050de86ab",
   "metadata": {},
   "outputs": [
    {
     "name": "stdout",
     "output_type": "stream",
     "text": [
      "crate\n"
     ]
    }
   ],
   "source": [
    "# c和e将会被^space match进去\n",
    "# 非词边界空格的另一种match形式\n",
    "! echo 'crate' | sed -E -n '/[^[:space:]]rat[^[:space:]]/p'"
   ]
  },
  {
   "cell_type": "code",
   "execution_count": 46,
   "id": "fe73beee-fb88-4ae6-b8ec-7cfa84e6b467",
   "metadata": {},
   "outputs": [
    {
     "name": "stdout",
     "output_type": "stream",
     "text": [
      " rat \n"
     ]
    }
   ],
   "source": [
    "#  \\< \\> 空字符串begin word, end word\n",
    "! echo ' rat ' | sed -E -n '/\\<rat\\>/p'"
   ]
  },
  {
   "cell_type": "code",
   "execution_count": 60,
   "id": "2faee68c-71b1-45ff-a7e4-8d4fdd74dcce",
   "metadata": {},
   "outputs": [
    {
     "name": "stdout",
     "output_type": "stream",
     "text": [
      "crateandbarrel\n"
     ]
    }
   ],
   "source": [
    "# match整个单词的例子\n",
    "\n",
    "! echo 'crateandbarrel' | sed -E -n '/\\wrat/p'"
   ]
  },
  {
   "cell_type": "code",
   "execution_count": 76,
   "id": "1f0a0875-2118-4741-9b0c-ccc77baca0de",
   "metadata": {},
   "outputs": [
    {
     "name": "stdout",
     "output_type": "stream",
     "text": [
      "crateandbarrel\n"
     ]
    }
   ],
   "source": [
    "#  同样match整个word的方法\n",
    "! echo 'crateandbarrel' | sed -E -n '/[_[:alnum:]]rat/p'"
   ]
  }
 ],
 "metadata": {
  "kernelspec": {
   "display_name": "Python 3 (ipykernel)",
   "language": "python",
   "name": "python3"
  },
  "language_info": {
   "codemirror_mode": {
    "name": "ipython",
    "version": 3
   },
   "file_extension": ".py",
   "mimetype": "text/x-python",
   "name": "python",
   "nbconvert_exporter": "python",
   "pygments_lexer": "ipython3",
   "version": "3.11.6"
  }
 },
 "nbformat": 4,
 "nbformat_minor": 5
}
