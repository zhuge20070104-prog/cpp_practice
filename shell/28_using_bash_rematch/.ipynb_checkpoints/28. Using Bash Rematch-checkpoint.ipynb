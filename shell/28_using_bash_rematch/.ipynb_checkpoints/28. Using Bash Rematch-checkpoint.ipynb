{
 "cells": [
  {
   "cell_type": "code",
   "execution_count": 40,
   "id": "d195f3c7-c4f9-4a0c-b027-c719e1598391",
   "metadata": {},
   "outputs": [
    {
     "name": "stdout",
     "output_type": "stream",
     "text": [
      "bcd\n"
     ]
    }
   ],
   "source": [
    "# Bash的回顾模式有两种情况\n",
    "# 1. Backreferences\n",
    "# 2. BASH_REMATCH - Places matched text into array\n",
    "\n",
    "cmd='''\n",
    "if [[ abcdef =~ b.d ]]; then\n",
    "    echo ${BASH_REMATCH[0]}\n",
    "fi'''\n",
    "\n",
    "!{cmd}\n"
   ]
  },
  {
   "cell_type": "code",
   "execution_count": 42,
   "id": "f055ca92-8ad4-40ce-95f3-fc6337ea1cbb",
   "metadata": {},
   "outputs": [
    {
     "name": "stdout",
     "output_type": "stream",
     "text": [
      "No match\n"
     ]
    }
   ],
   "source": [
    "# No match的情况\n",
    "cmd='''\n",
    "if [[ xyz =~ b.d ]]; then\n",
    "    echo ${BASH_REMATCH[0]}\n",
    "else\n",
    "    echo \"No match\"\n",
    "fi'''\n",
    "\n",
    "!{cmd}\n"
   ]
  },
  {
   "cell_type": "code",
   "execution_count": 50,
   "id": "7b103fab-d15b-4e54-b7d9-9050c5407d73",
   "metadata": {},
   "outputs": [
    {
     "name": "stdout",
     "output_type": "stream",
     "text": [
      "bcde b c d\n",
      "bcde\n",
      "b\n",
      "c\n",
      "d\n",
      "\n"
     ]
    }
   ],
   "source": [
    "# Bash rematch 有点类似Back reference， 但是不限数量\n",
    "# Bash rematch 只能用一次，不能像backreferences一样多次使用\n",
    "\n",
    "# 5. 存储matched的字符串 分组\n",
    "# 因为e 不在括号里面，所以rematch 4 = null\n",
    "# 0 是整个子串\n",
    "cmd='''\n",
    "if [[ abcdef =~ (b)(.)(d)e ]]; then\n",
    "    echo ${BASH_REMATCH[@]}\n",
    "    echo ${BASH_REMATCH[0]}\n",
    "    echo ${BASH_REMATCH[1]}\n",
    "    echo ${BASH_REMATCH[2]}\n",
    "    echo ${BASH_REMATCH[3]}\n",
    "    echo ${BASH_REMATCH[4]}\n",
    "else\n",
    "    echo \"No match\"\n",
    "fi'''\n",
    "\n",
    "!{cmd}"
   ]
  },
  {
   "cell_type": "code",
   "execution_count": 51,
   "id": "4769514e-b984-42dc-a714-f6176ced69ca",
   "metadata": {},
   "outputs": [
    {
     "name": "stdout",
     "output_type": "stream",
     "text": [
      "Matched\n",
      "bcde\n"
     ]
    }
   ],
   "source": [
    "# 6. 延后使用rematch\n",
    "\n",
    "cmd='''\n",
    "if [[ abcdef =~ (b)(.)(d)e ]]; then\n",
    "    echo \"Matched\"\n",
    "else\n",
    "    echo \"No match\"\n",
    "fi\n",
    "\n",
    "echo ${BASH_REMATCH[0]}\n",
    "'''\n",
    "\n",
    "\n",
    "!{cmd}\n"
   ]
  },
  {
   "cell_type": "code",
   "execution_count": 52,
   "id": "1fe0adb4-dc00-4145-a492-5baab2e35202",
   "metadata": {},
   "outputs": [
    {
     "name": "stdout",
     "output_type": "stream",
     "text": [
      "Matched\n",
      "2345\n"
     ]
    }
   ],
   "source": [
    "# 7. 只有一个BASH_REMATCH对象，后面的会覆盖前面的\n",
    "\n",
    "cmd='''\n",
    "if [[ abcdef =~ (b)(.)(d)e ]]; then\n",
    "    echo \"Matched\"\n",
    "fi\n",
    "\n",
    "if [[ 12345 =~ (2)(.)(4)5 ]]; then\n",
    "    echo ${BASH_REMATCH[0]}\n",
    "fi\n",
    "'''\n",
    "\n",
    "\n",
    "!{cmd}"
   ]
  },
  {
   "cell_type": "code",
   "execution_count": 56,
   "id": "8be702e2-c07f-418c-a65e-74428e7acbef",
   "metadata": {
    "scrolled": true
   },
   "outputs": [
    {
     "name": "stdout",
     "output_type": "stream",
     "text": [
      "bcde b c d\n",
      "2345 2 3 4\n"
     ]
    }
   ],
   "source": [
    "# Copy BASH_REMATCH到一个array，留作后用是可以的\n",
    "\n",
    "cmd='''\n",
    "if [[ abcdef =~ (b)(.)(d)e ]]; then\n",
    "    LETARR=(${BASH_REMATCH[@]})\n",
    "fi\n",
    "\n",
    "if [[ 12345 =~ (2)(.)(4)5 ]]; then\n",
    "    NUMARR=(${BASH_REMATCH[@]})\n",
    "fi\n",
    "\n",
    "echo ${LETARR[@]}\n",
    "echo ${NUMARR[@]}\n",
    "'''\n",
    "\n",
    "\n",
    "!{cmd}"
   ]
  }
 ],
 "metadata": {
  "kernelspec": {
   "display_name": "Python 3 (ipykernel)",
   "language": "python",
   "name": "python3"
  },
  "language_info": {
   "codemirror_mode": {
    "name": "ipython",
    "version": 3
   },
   "file_extension": ".py",
   "mimetype": "text/x-python",
   "name": "python",
   "nbconvert_exporter": "python",
   "pygments_lexer": "ipython3",
   "version": "3.11.6"
  }
 },
 "nbformat": 4,
 "nbformat_minor": 5
}
