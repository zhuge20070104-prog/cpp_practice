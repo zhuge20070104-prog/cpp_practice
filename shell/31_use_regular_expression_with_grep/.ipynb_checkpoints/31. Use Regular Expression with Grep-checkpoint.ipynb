{
 "cells": [
  {
   "cell_type": "code",
   "execution_count": 1,
   "id": "15cafff5-3792-4bd4-98cc-a1991ed22582",
   "metadata": {},
   "outputs": [],
   "source": [
    "# Grep\n",
    "# Global Regular Expression Print\n",
    "# grep -E : Process as ERE\n",
    "# grep -G : Process as BRE\n",
    "# grep -P : Process as PCRE\n",
    "# grep -e <pattern> : Use <pattern> as the pattern\n",
    "# grep -f <file> : Get patterns from a file\n",
    "# grep -w : Match only whole words\n",
    "# grep -x : Match only whole lines\n",
    "# grep -o : Only return the text that matches the expression\n",
    "# grep -p : Do not return the match, only the return code"
   ]
  },
  {
   "cell_type": "code",
   "execution_count": 5,
   "id": "f7f93507-fa47-40c8-8003-1e0d53366904",
   "metadata": {},
   "outputs": [
    {
     "name": "stdout",
     "output_type": "stream",
     "text": [
      "virtuelessness\n",
      "voicelessness\n",
      "vowellessness\n"
     ]
    }
   ],
   "source": [
    "# 3. back reference\n",
    "# 可以match \n",
    "# ss xxxx ss\n",
    "\n",
    "!grep -E  '(ss).*\\1' ./files/words.txt"
   ]
  },
  {
   "cell_type": "code",
   "execution_count": 8,
   "id": "77724a25-7054-4efe-bed7-3b8ab2d47ed0",
   "metadata": {},
   "outputs": [
    {
     "name": "stdout",
     "output_type": "stream",
     "text": [
      "Lackawanna\n",
      "Lack-beard\n",
      "lack-brain\n",
      "Lacoca\n",
      "Locanian\n",
      "aziola\n",
      "azotea\n",
      "equal-area\n"
     ]
    }
   ],
   "source": [
    "# 4. 例子\n",
    "# a.*a\n",
    "# 第一个a到最后一个a，贪婪匹配\n",
    "\n",
    "! grep -E 'a.*a' ./files/words.txt"
   ]
  },
  {
   "cell_type": "code",
   "execution_count": 9,
   "id": "6e24d1e7-f87e-4a4c-a2f0-554a16d57267",
   "metadata": {},
   "outputs": [
    {
     "name": "stdout",
     "output_type": "stream",
     "text": [
      "aziola\n",
      "azotea\n",
      "equal-area\n"
     ]
    }
   ],
   "source": [
    "# 5. 只想match 以a开头，以a结尾的单词，怎么弄？\n",
    "# 加上  -w\n",
    "\n",
    "! grep -E -w 'a.*a' ./files/words.txt"
   ]
  },
  {
   "cell_type": "code",
   "execution_count": 10,
   "id": "eab73781-ab56-477e-bb1b-b71a04121f1b",
   "metadata": {},
   "outputs": [
    {
     "name": "stdout",
     "output_type": "stream",
     "text": [
      "aziola\n",
      "azotea\n"
     ]
    }
   ],
   "source": [
    "# 6.match 以a开头，以a结尾的句子\n",
    "\n",
    "! grep -E -x 'a.*a' ./files/words.txt"
   ]
  },
  {
   "cell_type": "code",
   "execution_count": 12,
   "id": "aa0467b7-cb99-4c26-aeb0-f9808c19b964",
   "metadata": {},
   "outputs": [
    {
     "name": "stdout",
     "output_type": "stream",
     "text": [
      "aziola\n",
      "azotea\n"
     ]
    }
   ],
   "source": [
    "# 7. 用开始和结束符 也可以match整句\n",
    "\n",
    "! grep -E '^a.*a$' ./files/words.txt"
   ]
  },
  {
   "cell_type": "code",
   "execution_count": 14,
   "id": "37893a1e-b406-4dfc-bf21-db8c0134aaa6",
   "metadata": {},
   "outputs": [
    {
     "name": "stdout",
     "output_type": "stream",
     "text": [
      "ackawanna\n",
      "ack-bea\n",
      "ack-bra\n",
      "acoca\n",
      "ania\n",
      "aziola\n",
      "azotea\n",
      "al-area\n"
     ]
    }
   ],
   "source": [
    "# 8. grep -o 只返回match的值\n",
    "\n",
    "! grep -E -o 'a.*a' ./files/words.txt"
   ]
  },
  {
   "cell_type": "code",
   "execution_count": 15,
   "id": "9e689695-39d9-4635-b13a-0b14f328afe9",
   "metadata": {},
   "outputs": [
    {
     "name": "stdout",
     "output_type": "stream",
     "text": [
      "The bob account dosen't exist\n"
     ]
    }
   ],
   "source": [
    "# 9. -q查询是否存在，返回一个返回码\n",
    "\n",
    "cmd='''\n",
    "if grep -E -q '^bob.*' /etc/passwd; then\n",
    "    echo \"The bob account exists\"\n",
    "else\n",
    "    echo \"The bob account dosen't exist\"\n",
    "fi\n",
    "'''\n",
    "\n",
    "!{cmd}"
   ]
  }
 ],
 "metadata": {
  "kernelspec": {
   "display_name": "Python 3 (ipykernel)",
   "language": "python",
   "name": "python3"
  },
  "language_info": {
   "codemirror_mode": {
    "name": "ipython",
    "version": 3
   },
   "file_extension": ".py",
   "mimetype": "text/x-python",
   "name": "python",
   "nbconvert_exporter": "python",
   "pygments_lexer": "ipython3",
   "version": "3.10.12"
  }
 },
 "nbformat": 4,
 "nbformat_minor": 5
}
