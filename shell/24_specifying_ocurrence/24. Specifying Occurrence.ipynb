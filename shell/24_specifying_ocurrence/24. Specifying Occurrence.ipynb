{
 "cells": [
  {
   "cell_type": "code",
   "execution_count": 26,
   "id": "97c112a5-fbbd-4f2c-b2f2-e3d1f04ae2c6",
   "metadata": {},
   "outputs": [
    {
     "name": "stdout",
     "output_type": "stream",
     "text": [
      "dog\n",
      "dogs\n"
     ]
    }
   ],
   "source": [
    "# 指定出现次数\n",
    "# 1. match一次或0次\n",
    "! echo 'dog' | sed -E -n '/dog.?$/p'\n",
    "! echo 'dogs' | sed -E -n '/dog.?$/p'\n",
    "! echo 'do' | sed -E -n '/dog.?$/p'\n",
    "! echo 'dogssssss' | sed -E -n '/dog.?$/p'"
   ]
  },
  {
   "cell_type": "code",
   "execution_count": 20,
   "id": "4e65fba4-1fbc-42de-b9e4-468f5bf26d63",
   "metadata": {},
   "outputs": [
    {
     "name": "stdout",
     "output_type": "stream",
     "text": [
      "dogs\n",
      "dogsssss\n"
     ]
    }
   ],
   "source": [
    "# 3. 一次或多次match\n",
    "! echo 'dog' | sed -E -n '/dog.+/p'\n",
    "! echo 'dogs' | sed -E -n '/dog.+/p'\n",
    "! echo 'dogsssss' | sed -E -n '/dog.+/p'"
   ]
  },
  {
   "cell_type": "code",
   "execution_count": 21,
   "id": "a97954c3-5aeb-452b-b0b1-59bf59477032",
   "metadata": {},
   "outputs": [
    {
     "name": "stdout",
     "output_type": "stream",
     "text": [
      "dog\n",
      "dogs\n",
      "dogsssss\n"
     ]
    }
   ],
   "source": [
    "# 3. o次或多次match\n",
    "! echo 'dog' | sed -E -n '/dog.*/p'\n",
    "! echo 'dogs' | sed -E -n '/dog.*/p'\n",
    "! echo 'dogsssss' | sed -E -n '/dog.*/p'"
   ]
  },
  {
   "cell_type": "code",
   "execution_count": 22,
   "id": "af8c4e78-bc70-41e2-98d0-a55dc61e0cd2",
   "metadata": {},
   "outputs": [
    {
     "name": "stdout",
     "output_type": "stream",
     "text": [
      "dogs\n"
     ]
    }
   ],
   "source": [
    "# 3. 一次match，一个字符\n",
    "! echo 'dog' | sed -E -n '/dog.$/p'\n",
    "! echo 'dogs' | sed -E -n '/dog.$/p'\n",
    "! echo 'dogsssss' | sed -E -n '/dog.$/p'"
   ]
  },
  {
   "cell_type": "code",
   "execution_count": 50,
   "id": "75378937-f60f-4264-bc66-25d02eec44d2",
   "metadata": {},
   "outputs": [
    {
     "name": "stdout",
     "output_type": "stream",
     "text": [
      "dogsss\n",
      "dogssssss\n",
      "dogss\n",
      "dog\n",
      "dogs\n"
     ]
    }
   ],
   "source": [
    "# 4. 指定match次数\n",
    "! shopt -s extglob\n",
    "# 刚好3次\n",
    "! echo 'dog' | sed -E -n '/dog.\\{3\\}$/p'\n",
    "! echo 'dogsss' | sed -n '/dog.\\{3\\}$/p'\n",
    "# 三次或更多\n",
    "! echo 'dogssssss' | sed  -n '/dog.\\{3,\\}$/p'\n",
    "# 1-3次\n",
    "! echo 'dogssssss' | sed  -n '/dog.\\{1,3\\}$/p'\n",
    "! echo 'dogss' | sed  -n '/dog.\\{1,3\\}$/p'\n",
    "# 0-3次\n",
    "! echo 'dog' | sed  -n '/dog.\\{,3\\}$/p'\n",
    "! echo 'dogs' | sed  -n '/dog.\\{,3\\}$/p'"
   ]
  }
 ],
 "metadata": {
  "kernelspec": {
   "display_name": "Python 3 (ipykernel)",
   "language": "python",
   "name": "python3"
  },
  "language_info": {
   "codemirror_mode": {
    "name": "ipython",
    "version": 3
   },
   "file_extension": ".py",
   "mimetype": "text/x-python",
   "name": "python",
   "nbconvert_exporter": "python",
   "pygments_lexer": "ipython3",
   "version": "3.11.6"
  }
 },
 "nbformat": 4,
 "nbformat_minor": 5
}
