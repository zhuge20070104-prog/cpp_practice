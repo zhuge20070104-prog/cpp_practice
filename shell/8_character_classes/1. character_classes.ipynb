{
 "cells": [
  {
   "cell_type": "markdown",
   "id": "0c54d27f",
   "metadata": {},
   "source": [
    "* Character Set不大稳定，我们需要了解Character Class\n",
    "* 不管是否设置Locale，下面这个Character class 都works well"
   ]
  },
  {
   "cell_type": "code",
   "execution_count": 2,
   "id": "70ebab39",
   "metadata": {},
   "outputs": [
    {
     "name": "stdout",
     "output_type": "stream",
     "text": [
      "./alpha_files/A  ./alpha_files/B  ./alpha_files/Ç  ./alpha_files/Y\r\n",
      "./alpha_files/À  ./alpha_files/C  ./alpha_files/X  ./alpha_files/Z\r\n"
     ]
    }
   ],
   "source": [
    "! ls ./alpha_files/[[:upper:]]"
   ]
  },
  {
   "cell_type": "markdown",
   "id": "681a52a5",
   "metadata": {},
   "source": [
    "* 小写字母"
   ]
  },
  {
   "cell_type": "code",
   "execution_count": 4,
   "id": "dcef670d",
   "metadata": {},
   "outputs": [
    {
     "name": "stdout",
     "output_type": "stream",
     "text": [
      "./alpha_files/a  ./alpha_files/c  ./alpha_files/y\r\n",
      "./alpha_files/b  ./alpha_files/x  ./alpha_files/z\r\n"
     ]
    }
   ],
   "source": [
    "! ls ./alpha_files/[[:lower:]]"
   ]
  },
  {
   "cell_type": "markdown",
   "id": "ce5724a7",
   "metadata": {},
   "source": [
    "* 例子\n",
    "* 字母和数字"
   ]
  },
  {
   "cell_type": "code",
   "execution_count": 7,
   "id": "1a99cfcd",
   "metadata": {},
   "outputs": [
    {
     "name": "stdout",
     "output_type": "stream",
     "text": [
      "files/file0.txt  files/filed.txt  files/filel.txt  files/filet.txt\r\n",
      "files/file1.txt  files/fileD.txt  files/fileL.txt  files/fileT.txt\r\n",
      "files/file2.txt  files/filee.txt  files/filem.txt  files/fileu.txt\r\n",
      "files/file3.txt  files/fileE.txt  files/fileM.txt  files/fileU.txt\r\n",
      "files/file4.txt  files/filef.txt  files/filen.txt  files/filev.txt\r\n",
      "files/file5.txt  files/fileF.txt  files/fileN.txt  files/fileV.txt\r\n",
      "files/file6.txt  files/fileg.txt  files/fileo.txt  files/filew.txt\r\n",
      "files/file7.txt  files/fileG.txt  files/fileO.txt  files/fileW.txt\r\n",
      "files/file8.txt  files/fileh.txt  files/filep.txt  files/filex.txt\r\n",
      "files/file9.txt  files/fileH.txt  files/fileP.txt  files/fileX.txt\r\n",
      "files/filea.txt  files/filei.txt  files/fileq.txt  files/filey.txt\r\n",
      "files/fileA.txt  files/fileI.txt  files/fileQ.txt  files/fileY.txt\r\n",
      "files/fileb.txt  files/filej.txt  files/filer.txt  files/filez.txt\r\n",
      "files/fileB.txt  files/fileJ.txt  files/fileR.txt  files/fileZ.txt\r\n",
      "files/filec.txt  files/filek.txt  files/files.txt\r\n",
      "files/fileC.txt  files/fileK.txt  files/fileS.txt\r\n"
     ]
    }
   ],
   "source": [
    "! ls files/file[[:alnum:]].txt"
   ]
  },
  {
   "cell_type": "markdown",
   "id": "10dd7d76",
   "metadata": {},
   "source": [
    "* 包括字母数字和标点符号"
   ]
  },
  {
   "cell_type": "code",
   "execution_count": 10,
   "id": "4299e60c",
   "metadata": {},
   "outputs": [
    {
     "name": "stdout",
     "output_type": "stream",
     "text": [
      " files/file0.txt   files/fileD.txt   files/filem.txt    files/file-.txt\r\n",
      " files/file1.txt   files/filee.txt   files/fileM.txt   'files/file[.txt'\r\n",
      " files/file2.txt   files/fileE.txt   files/filen.txt    files/fileu.txt\r\n",
      " files/file3.txt   files/filef.txt   files/fileN.txt    files/fileU.txt\r\n",
      " files/file4.txt   files/fileF.txt   files/fileo.txt    files/filev.txt\r\n",
      " files/file5.txt   files/fileg.txt   files/fileO.txt    files/fileV.txt\r\n",
      " files/file6.txt   files/fileG.txt   files/filep.txt    files/filew.txt\r\n",
      " files/file7.txt   files/fileh.txt   files/fileP.txt    files/fileW.txt\r\n",
      " files/file8.txt   files/fileH.txt   files/fileq.txt    files/filex.txt\r\n",
      " files/file9.txt   files/filei.txt   files/fileQ.txt    files/fileX.txt\r\n",
      " files/filea.txt   files/fileI.txt   files/filer.txt    files/filey.txt\r\n",
      " files/fileA.txt   files/filej.txt   files/fileR.txt    files/fileY.txt\r\n",
      " files/fileb.txt   files/fileJ.txt   files/files.txt    files/filez.txt\r\n",
      " files/fileB.txt   files/filek.txt   files/fileS.txt    files/fileZ.txt\r\n",
      " files/filec.txt   files/fileK.txt   files/filet.txt\r\n",
      " files/fileC.txt   files/filel.txt   files/fileT.txt\r\n",
      " files/filed.txt   files/fileL.txt  'files/file*.txt'\r\n"
     ]
    }
   ],
   "source": [
    "! ls files/file[[:alnum:][:punct:]].txt"
   ]
  },
  {
   "cell_type": "markdown",
   "id": "0a94cd0b",
   "metadata": {},
   "source": [
    "* 所有字母，数字和标点符号都不要"
   ]
  },
  {
   "cell_type": "code",
   "execution_count": 15,
   "id": "d61afe2b",
   "metadata": {},
   "outputs": [
    {
     "name": "stdout",
     "output_type": "stream",
     "text": [
      "'files/file .txt'\r\n"
     ]
    }
   ],
   "source": [
    "! ls files/file[![:alnum:][:punct:]].txt "
   ]
  },
  {
   "cell_type": "markdown",
   "id": "7803b0ee",
   "metadata": {},
   "source": [
    "* 顺序序列"
   ]
  },
  {
   "cell_type": "code",
   "execution_count": 20,
   "id": "00eb340f",
   "metadata": {},
   "outputs": [
    {
     "name": "stdout",
     "output_type": "stream",
     "text": [
      "files/filea.txt\r\n"
     ]
    }
   ],
   "source": [
    "! ls files/file[[=a=]].txt"
   ]
  },
  {
   "cell_type": "code",
   "execution_count": 21,
   "id": "7dd95c1a",
   "metadata": {},
   "outputs": [
    {
     "name": "stdout",
     "output_type": "stream",
     "text": [
      "files/fileb.txt\r\n"
     ]
    }
   ],
   "source": [
    "! ls files/file[[=b=]].txt"
   ]
  }
 ],
 "metadata": {
  "kernelspec": {
   "display_name": "Python 3 (ipykernel)",
   "language": "python",
   "name": "python3"
  },
  "language_info": {
   "codemirror_mode": {
    "name": "ipython",
    "version": 3
   },
   "file_extension": ".py",
   "mimetype": "text/x-python",
   "name": "python",
   "nbconvert_exporter": "python",
   "pygments_lexer": "ipython3",
   "version": "3.8.17"
  }
 },
 "nbformat": 4,
 "nbformat_minor": 5
}
