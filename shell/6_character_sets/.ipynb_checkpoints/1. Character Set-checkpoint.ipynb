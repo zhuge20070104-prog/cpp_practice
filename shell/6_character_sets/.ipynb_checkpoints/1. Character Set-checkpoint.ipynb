{
 "cells": [
  {
   "cell_type": "markdown",
   "id": "abe99723",
   "metadata": {},
   "source": [
    "## How to Generate files"
   ]
  },
  {
   "cell_type": "markdown",
   "id": "ae437ef4",
   "metadata": {},
   "source": [
    "* 生成file{i}.txt\n",
    "* seq 0 15 | xargs -I {} touch file{}.txt\n",
    "\n",
    "* 生成a-z的序列\n",
    "* a=({a..z})\n",
    "* for i in ${a[*]}; do echo $i ; done | xargs -I {} touch file{}.txt"
   ]
  },
  {
   "cell_type": "markdown",
   "id": "1f615087",
   "metadata": {},
   "source": [
    "* 下面这个Character Set，match的文件名有\n",
    "* 1.txt\n",
    "2.txt\n",
    "3.txt\n",
    "a.txt\n",
    "b.txt\n",
    "c.txt\n",
    "* 反正只能match 一个字符"
   ]
  },
  {
   "cell_type": "code",
   "execution_count": 3,
   "id": "e291f076",
   "metadata": {},
   "outputs": [
    {
     "name": "stdout",
     "output_type": "stream",
     "text": [
      "./files/1.txt  ./files/3.txt  ./files/b.txt\r\n",
      "./files/2.txt  ./files/a.txt  ./files/c.txt\r\n"
     ]
    }
   ],
   "source": [
    "! ls ./files/[123abc].txt"
   ]
  },
  {
   "cell_type": "markdown",
   "id": "94f5a601",
   "metadata": {},
   "source": [
    "* 例子，只match \n",
    "* filea.txt, fileb.txt 和 filec.txt\n"
   ]
  },
  {
   "cell_type": "code",
   "execution_count": 5,
   "id": "d36948af",
   "metadata": {},
   "outputs": [
    {
     "name": "stdout",
     "output_type": "stream",
     "text": [
      "./files/filea.txt  ./files/fileb.txt  ./files/filec.txt\r\n"
     ]
    }
   ],
   "source": [
    "! ls ./files/file[abc].txt"
   ]
  },
  {
   "cell_type": "markdown",
   "id": "da320071",
   "metadata": {},
   "source": [
    "* match file[0-9].txt"
   ]
  },
  {
   "cell_type": "code",
   "execution_count": 6,
   "id": "66a8d908",
   "metadata": {},
   "outputs": [
    {
     "name": "stdout",
     "output_type": "stream",
     "text": [
      "./files/file0.txt  ./files/file3.txt  ./files/file6.txt  ./files/file9.txt\r\n",
      "./files/file1.txt  ./files/file4.txt  ./files/file7.txt\r\n",
      "./files/file2.txt  ./files/file5.txt  ./files/file8.txt\r\n"
     ]
    }
   ],
   "source": [
    "! ls ./files/file[0-9].txt"
   ]
  },
  {
   "cell_type": "markdown",
   "id": "ca8188ac",
   "metadata": {},
   "source": [
    "* 这样写不行，也是只能match 0-9\n",
    "* 原因\n",
    "* match  0-9 和 9\n",
    "* 不是0-99"
   ]
  },
  {
   "cell_type": "code",
   "execution_count": 9,
   "id": "616ade3e",
   "metadata": {},
   "outputs": [
    {
     "name": "stdout",
     "output_type": "stream",
     "text": [
      "./files/file0.txt  ./files/file3.txt  ./files/file6.txt  ./files/file9.txt\r\n",
      "./files/file1.txt  ./files/file4.txt  ./files/file7.txt\r\n",
      "./files/file2.txt  ./files/file5.txt  ./files/file8.txt\r\n"
     ]
    }
   ],
   "source": [
    "! ls ./files/file[0-99].txt"
   ]
  },
  {
   "cell_type": "markdown",
   "id": "3268a536",
   "metadata": {},
   "source": [
    "* 这个match所有字母和 9\n",
    "* 不区分大小写"
   ]
  },
  {
   "cell_type": "code",
   "execution_count": 10,
   "id": "588905ae",
   "metadata": {},
   "outputs": [
    {
     "name": "stdout",
     "output_type": "stream",
     "text": [
      "./files/file9.txt  ./files/fileg.txt  ./files/filen.txt  ./files/fileu.txt\r\n",
      "./files/filea.txt  ./files/fileh.txt  ./files/fileo.txt  ./files/filev.txt\r\n",
      "./files/fileb.txt  ./files/filei.txt  ./files/filep.txt  ./files/filew.txt\r\n",
      "./files/filec.txt  ./files/filej.txt  ./files/fileq.txt  ./files/filex.txt\r\n",
      "./files/filed.txt  ./files/filek.txt  ./files/filer.txt  ./files/filey.txt\r\n",
      "./files/filee.txt  ./files/filel.txt  ./files/files.txt  ./files/filez.txt\r\n",
      "./files/filef.txt  ./files/filem.txt  ./files/filet.txt\r\n"
     ]
    }
   ],
   "source": [
    "! ls ./files/file[a-z9].txt"
   ]
  },
  {
   "cell_type": "markdown",
   "id": "8e91d79e",
   "metadata": {},
   "source": [
    "* 这样也可以"
   ]
  },
  {
   "cell_type": "code",
   "execution_count": 12,
   "id": "bbc590d1",
   "metadata": {},
   "outputs": [
    {
     "name": "stdout",
     "output_type": "stream",
     "text": [
      "./files/file1.txt  ./files/file4.txt  ./files/file7.txt  ./files/filea.txt\r\n",
      "./files/file2.txt  ./files/file5.txt  ./files/file8.txt  ./files/fileb.txt\r\n",
      "./files/file3.txt  ./files/file6.txt  ./files/file9.txt  ./files/filec.txt\r\n"
     ]
    }
   ],
   "source": [
    "! ls ./files/file[123456789abc].txt"
   ]
  },
  {
   "cell_type": "markdown",
   "id": "dde014b7",
   "metadata": {},
   "source": [
    "* 不是a-z开头的所有文件名"
   ]
  },
  {
   "cell_type": "code",
   "execution_count": 16,
   "id": "7c4edf2a",
   "metadata": {},
   "outputs": [
    {
     "name": "stdout",
     "output_type": "stream",
     "text": [
      "1.txt\r\n",
      "2.txt\r\n",
      "3.txt\r\n",
      "a.txt\r\n",
      "A.txt\r\n",
      "b.txt\r\n",
      "B.txt\r\n",
      "c.txt\r\n",
      "C.txt\r\n",
      "d.txt\r\n",
      "D.txt\r\n",
      "e.txt\r\n",
      "E.txt\r\n",
      "file0.txt\r\n",
      "file10.txt\r\n",
      "file11.txt\r\n",
      "file12.txt\r\n",
      "file13.txt\r\n",
      "file14.txt\r\n",
      "file15.txt\r\n",
      "file1.txt\r\n",
      "file2.txt\r\n",
      "file3.txt\r\n",
      "file4.txt\r\n",
      "file5.txt\r\n",
      "file6.txt\r\n",
      "file7.txt\r\n",
      "file8.txt\r\n",
      "file9.txt\r\n",
      "filea.txt\r\n",
      "fileA.txt\r\n",
      "fileb.txt\r\n",
      "fileB.txt\r\n",
      "filec.txt\r\n",
      "fileC.txt\r\n",
      "filed.txt\r\n",
      "fileD.txt\r\n",
      "filee.txt\r\n",
      "fileE.txt\r\n",
      "filef.txt\r\n",
      "fileF.txt\r\n",
      "fileg.txt\r\n",
      "fileG.txt\r\n",
      "fileh.txt\r\n",
      "fileH.txt\r\n",
      "filei.txt\r\n",
      "fileI.txt\r\n",
      "filej.txt\r\n",
      "fileJ.txt\r\n",
      "filek.txt\r\n",
      "fileK.txt\r\n",
      "filel.txt\r\n",
      "fileL.txt\r\n",
      "filem.txt\r\n",
      "fileM.txt\r\n",
      "filen.txt\r\n",
      "fileN.txt\r\n",
      "fileo.txt\r\n",
      "fileO.txt\r\n",
      "filep.txt\r\n",
      "fileP.txt\r\n",
      "fileq.txt\r\n",
      "fileQ.txt\r\n",
      "filer.txt\r\n",
      "fileR.txt\r\n",
      "files.txt\r\n",
      "fileS.txt\r\n",
      "filet.txt\r\n",
      "fileT.txt\r\n",
      "file-.txt\r\n",
      "file[.txt\r\n",
      "fileu.txt\r\n",
      "fileU.txt\r\n",
      "filev.txt\r\n",
      "fileV.txt\r\n",
      "filew.txt\r\n",
      "fileW.txt\r\n",
      "filex.txt\r\n",
      "fileX.txt\r\n",
      "filey.txt\r\n",
      "fileY.txt\r\n",
      "filez.txt\r\n",
      "fileZ.txt\r\n"
     ]
    }
   ],
   "source": [
    "ls ./files | grep '^[^a-z]*'"
   ]
  },
  {
   "cell_type": "markdown",
   "id": "847887cf",
   "metadata": {},
   "source": [
    "* 第一是开始标志符，第二个是inversion\n",
    "*  ！也可以inversion"
   ]
  },
  {
   "cell_type": "code",
   "execution_count": 18,
   "id": "0199a515",
   "metadata": {},
   "outputs": [
    {
     "name": "stdout",
     "output_type": "stream",
     "text": [
      "1.txt\r\n",
      "2.txt\r\n",
      "3.txt\r\n",
      "a.txt\r\n",
      "A.txt\r\n",
      "b.txt\r\n",
      "B.txt\r\n",
      "c.txt\r\n",
      "C.txt\r\n",
      "d.txt\r\n",
      "D.txt\r\n",
      "e.txt\r\n",
      "E.txt\r\n",
      "file0.txt\r\n",
      "file10.txt\r\n",
      "file11.txt\r\n",
      "file12.txt\r\n",
      "file13.txt\r\n",
      "file14.txt\r\n",
      "file15.txt\r\n",
      "file1.txt\r\n",
      "file2.txt\r\n",
      "file3.txt\r\n",
      "file4.txt\r\n",
      "file5.txt\r\n",
      "file6.txt\r\n",
      "file7.txt\r\n",
      "file8.txt\r\n",
      "file9.txt\r\n",
      "filea.txt\r\n",
      "fileA.txt\r\n",
      "fileb.txt\r\n",
      "fileB.txt\r\n",
      "filec.txt\r\n",
      "fileC.txt\r\n",
      "filed.txt\r\n",
      "fileD.txt\r\n",
      "filee.txt\r\n",
      "fileE.txt\r\n",
      "filef.txt\r\n",
      "fileF.txt\r\n",
      "fileg.txt\r\n",
      "fileG.txt\r\n",
      "fileh.txt\r\n",
      "fileH.txt\r\n",
      "filei.txt\r\n",
      "fileI.txt\r\n",
      "filej.txt\r\n",
      "fileJ.txt\r\n",
      "filek.txt\r\n",
      "fileK.txt\r\n",
      "filel.txt\r\n",
      "fileL.txt\r\n",
      "filem.txt\r\n",
      "fileM.txt\r\n",
      "filen.txt\r\n",
      "fileN.txt\r\n",
      "fileo.txt\r\n",
      "fileO.txt\r\n",
      "filep.txt\r\n",
      "fileP.txt\r\n",
      "fileq.txt\r\n",
      "fileQ.txt\r\n",
      "filer.txt\r\n",
      "fileR.txt\r\n",
      "files.txt\r\n",
      "fileS.txt\r\n",
      "filet.txt\r\n",
      "fileT.txt\r\n",
      "file-.txt\r\n",
      "file[.txt\r\n",
      "fileu.txt\r\n",
      "fileU.txt\r\n",
      "filev.txt\r\n",
      "fileV.txt\r\n",
      "filew.txt\r\n",
      "fileW.txt\r\n",
      "filex.txt\r\n",
      "fileX.txt\r\n",
      "filey.txt\r\n",
      "fileY.txt\r\n",
      "filez.txt\r\n",
      "fileZ.txt\r\n"
     ]
    }
   ],
   "source": [
    "! ls ./files | grep '^[!a-z]*'"
   ]
  },
  {
   "cell_type": "markdown",
   "id": "918162f1",
   "metadata": {},
   "source": [
    "* 不是a-z.txt"
   ]
  },
  {
   "cell_type": "code",
   "execution_count": 20,
   "id": "0c652539",
   "metadata": {},
   "outputs": [
    {
     "name": "stdout",
     "output_type": "stream",
     "text": [
      " ./files/file0.txt   ./files/fileA.txt\t ./files/fileK.txt   ./files/file-.txt\r\n",
      " ./files/file1.txt   ./files/fileB.txt\t ./files/fileL.txt  './files/file[.txt'\r\n",
      " ./files/file2.txt   ./files/fileC.txt\t ./files/fileM.txt   ./files/fileU.txt\r\n",
      " ./files/file3.txt   ./files/fileD.txt\t ./files/fileN.txt   ./files/fileV.txt\r\n",
      " ./files/file4.txt   ./files/fileE.txt\t ./files/fileO.txt   ./files/fileW.txt\r\n",
      " ./files/file5.txt   ./files/fileF.txt\t ./files/fileP.txt   ./files/fileX.txt\r\n",
      " ./files/file6.txt   ./files/fileG.txt\t ./files/fileQ.txt   ./files/fileY.txt\r\n",
      " ./files/file7.txt   ./files/fileH.txt\t ./files/fileR.txt   ./files/fileZ.txt\r\n",
      " ./files/file8.txt   ./files/fileI.txt\t ./files/fileS.txt\r\n",
      " ./files/file9.txt   ./files/fileJ.txt\t ./files/fileT.txt\r\n"
     ]
    }
   ],
   "source": [
    "! ls ./files/file[!a-z].txt"
   ]
  },
  {
   "cell_type": "markdown",
   "id": "a9695d12",
   "metadata": {},
   "source": [
    "* match 特殊字符需要用\\转义"
   ]
  },
  {
   "cell_type": "code",
   "execution_count": 23,
   "id": "25573b99",
   "metadata": {},
   "outputs": [
    {
     "name": "stdout",
     "output_type": "stream",
     "text": [
      "files/file-.txt\r\n"
     ]
    }
   ],
   "source": [
    "! ls files/file[\\-].txt"
   ]
  },
  {
   "cell_type": "code",
   "execution_count": 25,
   "id": "87c74049",
   "metadata": {},
   "outputs": [
    {
     "name": "stdout",
     "output_type": "stream",
     "text": [
      "'files/file[.txt'\r\n"
     ]
    }
   ],
   "source": [
    "! ls files/file[\\[].txt"
   ]
  },
  {
   "cell_type": "markdown",
   "id": "eb77f5e1",
   "metadata": {},
   "source": [
    "* match一个下划线，可以这样写"
   ]
  },
  {
   "cell_type": "code",
   "execution_count": 27,
   "id": "b4b65a8c",
   "metadata": {},
   "outputs": [
    {
     "name": "stdout",
     "output_type": "stream",
     "text": [
      "files/filea.txt  files/fileb.txt  files/filec.txt  files/file-.txt\r\n"
     ]
    }
   ],
   "source": [
    "! ls files/file[-abc].txt"
   ]
  },
  {
   "cell_type": "code",
   "execution_count": 29,
   "id": "a69ba730",
   "metadata": {},
   "outputs": [
    {
     "name": "stdout",
     "output_type": "stream",
     "text": [
      "files/filea.txt  files/fileb.txt  files/filec.txt  files/file-.txt\r\n"
     ]
    }
   ],
   "source": [
    "! ls files/file[abc-].txt"
   ]
  },
  {
   "cell_type": "markdown",
   "id": "eeec9e52",
   "metadata": {},
   "source": [
    "* match单个中划线"
   ]
  },
  {
   "cell_type": "code",
   "execution_count": 31,
   "id": "116640d4",
   "metadata": {},
   "outputs": [
    {
     "name": "stdout",
     "output_type": "stream",
     "text": [
      "files/file-.txt\r\n"
     ]
    }
   ],
   "source": [
    "! ls files/file[-].txt"
   ]
  },
  {
   "cell_type": "markdown",
   "id": "fd4c5581",
   "metadata": {},
   "source": [
    "* 这样也可以"
   ]
  },
  {
   "cell_type": "code",
   "execution_count": 34,
   "id": "d44f1628",
   "metadata": {},
   "outputs": [
    {
     "name": "stdout",
     "output_type": "stream",
     "text": [
      "files/file-.txt\r\n"
     ]
    }
   ],
   "source": [
    "! ls files/file-.txt"
   ]
  },
  {
   "cell_type": "markdown",
   "id": "7c3dbeca",
   "metadata": {},
   "source": [
    "* 你要match这个东西，可以放在第一个"
   ]
  },
  {
   "cell_type": "code",
   "execution_count": 38,
   "id": "2d2940ac",
   "metadata": {},
   "outputs": [
    {
     "name": "stdout",
     "output_type": "stream",
     "text": [
      " files/filea.txt   files/fileb.txt   files/filec.txt  'files/file[.txt'\r\n"
     ]
    }
   ],
   "source": [
    "! ls files/file[[abc].txt"
   ]
  },
  {
   "cell_type": "markdown",
   "id": "2617cf09",
   "metadata": {},
   "source": [
    "* 例子\n",
    "* 列出file开头，.txt结束的所有文件"
   ]
  },
  {
   "cell_type": "code",
   "execution_count": 40,
   "id": "90436e50",
   "metadata": {},
   "outputs": [
    {
     "name": "stdout",
     "output_type": "stream",
     "text": [
      " files/file0.txt    files/fileb.txt   files/filek.txt   files/filet.txt\r\n",
      " files/file10.txt   files/fileB.txt   files/fileK.txt   files/fileT.txt\r\n",
      " files/file11.txt   files/filec.txt   files/filel.txt   files/file-.txt\r\n",
      " files/file12.txt   files/fileC.txt   files/fileL.txt  'files/file[.txt'\r\n",
      " files/file13.txt   files/filed.txt   files/filem.txt   files/fileu.txt\r\n",
      " files/file14.txt   files/fileD.txt   files/fileM.txt   files/fileU.txt\r\n",
      " files/file15.txt   files/filee.txt   files/filen.txt   files/filev.txt\r\n",
      " files/file1.txt    files/fileE.txt   files/fileN.txt   files/fileV.txt\r\n",
      " files/file2.txt    files/filef.txt   files/fileo.txt   files/filew.txt\r\n",
      " files/file3.txt    files/fileF.txt   files/fileO.txt   files/fileW.txt\r\n",
      " files/file4.txt    files/fileg.txt   files/filep.txt   files/filex.txt\r\n",
      " files/file5.txt    files/fileG.txt   files/fileP.txt   files/fileX.txt\r\n",
      " files/file6.txt    files/fileh.txt   files/fileq.txt   files/filey.txt\r\n",
      " files/file7.txt    files/fileH.txt   files/fileQ.txt   files/fileY.txt\r\n",
      " files/file8.txt    files/filei.txt   files/filer.txt   files/filez.txt\r\n",
      " files/file9.txt    files/fileI.txt   files/fileR.txt   files/fileZ.txt\r\n",
      " files/filea.txt    files/filej.txt   files/files.txt\r\n",
      " files/fileA.txt    files/fileJ.txt   files/fileS.txt\r\n"
     ]
    }
   ],
   "source": [
    "! ls files/file*.txt "
   ]
  },
  {
   "cell_type": "markdown",
   "id": "471ebb00",
   "metadata": {},
   "source": [
    "* ls 'file*.txt' 可以列出单个的file*.txt* \n",
    "* 但是不大灵活"
   ]
  },
  {
   "cell_type": "code",
   "execution_count": 41,
   "id": "4931193f",
   "metadata": {},
   "outputs": [],
   "source": [
    "! touch files/file*.txt"
   ]
  },
  {
   "cell_type": "code",
   "execution_count": 45,
   "id": "9a985b08",
   "metadata": {},
   "outputs": [
    {
     "name": "stdout",
     "output_type": "stream",
     "text": [
      "'files/file*.txt'\r\n"
     ]
    }
   ],
   "source": [
    "! ls 'files/file*.txt'"
   ]
  },
  {
   "cell_type": "code",
   "execution_count": 69,
   "id": "4e4a7860",
   "metadata": {},
   "outputs": [
    {
     "name": "stdout",
     "output_type": "stream",
     "text": [
      " files/filea.txt   files/fileb.txt   files/filec.txt  'files/file*.txt'\r\n"
     ]
    }
   ],
   "source": [
    "! ls files/file[*abc].txt"
   ]
  },
  {
   "cell_type": "markdown",
   "id": "d8a104cf",
   "metadata": {},
   "source": [
    "* Range可能match小写的出来"
   ]
  },
  {
   "cell_type": "code",
   "execution_count": 72,
   "id": "675faba7",
   "metadata": {},
   "outputs": [
    {
     "name": "stdout",
     "output_type": "stream",
     "text": [
      "files/fileA.txt  files/fileB.txt  files/fileC.txt\r\n"
     ]
    }
   ],
   "source": [
    "! ls files/file[ABC].txt"
   ]
  },
  {
   "cell_type": "code",
   "execution_count": 73,
   "id": "8537bde3",
   "metadata": {},
   "outputs": [
    {
     "name": "stdout",
     "output_type": "stream",
     "text": [
      "files/fileA.txt  files/fileH.txt  files/fileO.txt  files/fileV.txt\r\n",
      "files/fileB.txt  files/fileI.txt  files/fileP.txt  files/fileW.txt\r\n",
      "files/fileC.txt  files/fileJ.txt  files/fileQ.txt  files/fileX.txt\r\n",
      "files/fileD.txt  files/fileK.txt  files/fileR.txt  files/fileY.txt\r\n",
      "files/fileE.txt  files/fileL.txt  files/fileS.txt  files/fileZ.txt\r\n",
      "files/fileF.txt  files/fileM.txt  files/fileT.txt\r\n",
      "files/fileG.txt  files/fileN.txt  files/fileU.txt\r\n"
     ]
    }
   ],
   "source": [
    "! ls files/file[A-Z].txt"
   ]
  }
 ],
 "metadata": {
  "kernelspec": {
   "display_name": "Python 3 (ipykernel)",
   "language": "python",
   "name": "python3"
  },
  "language_info": {
   "codemirror_mode": {
    "name": "ipython",
    "version": 3
   },
   "file_extension": ".py",
   "mimetype": "text/x-python",
   "name": "python",
   "nbconvert_exporter": "python",
   "pygments_lexer": "ipython3",
   "version": "3.8.17"
  }
 },
 "nbformat": 4,
 "nbformat_minor": 5
}
