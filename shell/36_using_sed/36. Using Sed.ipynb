{
 "cells": [
  {
   "cell_type": "code",
   "execution_count": 1,
   "id": "7bc12bef-67ee-4700-b100-7d6035feaf44",
   "metadata": {},
   "outputs": [],
   "source": [
    "# sed 简介\n",
    "# Stream editor: edits text on the fly\n",
    "# Uses BREs by default\n",
    "# Can use EREs with -r or -E option"
   ]
  },
  {
   "cell_type": "code",
   "execution_count": 3,
   "id": "7cb8bdab-9823-4e1e-84f8-1dd9ba04642e",
   "metadata": {},
   "outputs": [],
   "source": [
    "# sed 的模式\n",
    "# Print\n",
    "# Delete\n",
    "# Substitute"
   ]
  },
  {
   "cell_type": "code",
   "execution_count": 5,
   "id": "33f07779-77c7-454b-a89e-daa6641eb276",
   "metadata": {},
   "outputs": [],
   "source": [
    "# sed -n print\n",
    "# Printing with BRE\n",
    "# sed -n '/BRE Regex/p'"
   ]
  },
  {
   "cell_type": "code",
   "execution_count": 6,
   "id": "2750c483-2315-4eeb-a642-56c6e852a088",
   "metadata": {},
   "outputs": [],
   "source": [
    "# Printing with ERE\n",
    "# sed -n -E '/ERE regex/p'"
   ]
  },
  {
   "cell_type": "code",
   "execution_count": 7,
   "id": "1c1d5de2-f4e1-40fa-84f6-e679ef0e1a7f",
   "metadata": {},
   "outputs": [],
   "source": [
    "# Taking input from stdin\n",
    "# cat /etc/passwd | sed -n '/BRE regex/p'"
   ]
  },
  {
   "cell_type": "code",
   "execution_count": 8,
   "id": "a3f24503-f72d-4db9-bcca-db1f1e9ef4c6",
   "metadata": {},
   "outputs": [],
   "source": [
    "# 输出到文件\n",
    "# cat /etc/passwd | sed -n '/BRE regex/p' > newpasswd"
   ]
  },
  {
   "cell_type": "code",
   "execution_count": 9,
   "id": "4f2b105d-200b-4980-92f2-a4a19da82cd1",
   "metadata": {},
   "outputs": [],
   "source": [
    "# 从文件输入，并做删除操作\n",
    "# sed -n '/BRE regex/d' /etc/passwd"
   ]
  },
  {
   "cell_type": "code",
   "execution_count": 10,
   "id": "5f77fd8e-b154-439a-bac8-cf8623be9e31",
   "metadata": {},
   "outputs": [],
   "source": [
    "# 做删除操作并输出到新文件\n",
    "# sed -n '/BRE regex/d'  /etc/passwd > newpasswd"
   ]
  },
  {
   "cell_type": "code",
   "execution_count": 12,
   "id": "bf2a42cf-c421-4e35-bd02-486977197466",
   "metadata": {},
   "outputs": [],
   "source": [
    "# 就地修改 -i\n",
    "# sed -n -i '/BRE regex/d' /etc/passwd"
   ]
  },
  {
   "cell_type": "code",
   "execution_count": 14,
   "id": "eb7bb2ea-eb1f-4f78-b81f-7fadfb09b81c",
   "metadata": {},
   "outputs": [],
   "source": [
    "# 删除文件，后面是d就行了\n",
    "# sed '/BRE regex/d'\n",
    "# sed -E '/ERE regex/d'"
   ]
  },
  {
   "cell_type": "code",
   "execution_count": 15,
   "id": "78e8501a-938f-4a03-b4f6-017f344f5c43",
   "metadata": {},
   "outputs": [],
   "source": [
    "# 替换文本\n",
    "# sed 's/BRE regex/BRE regex/g'"
   ]
  },
  {
   "cell_type": "code",
   "execution_count": 16,
   "id": "2943b0af-c388-48fc-ad30-5cff6a097719",
   "metadata": {},
   "outputs": [],
   "source": [
    "# Global Replace\n",
    "# 替换一行里面的所有\n",
    "# 没有g，非贪婪匹配，只替换第一个\n",
    "\n",
    "# sed 's/BRE regex/BRE regex/g'"
   ]
  },
  {
   "cell_type": "code",
   "execution_count": 17,
   "id": "2cf33591-a476-4a18-8015-08489fb0d316",
   "metadata": {},
   "outputs": [],
   "source": [
    "# 使用ERE\n",
    "\n",
    "# sed 's/BRE regex/BRE regex/g'\n",
    "# sed -E 's/ERE regex/ERE regex/g'"
   ]
  },
  {
   "cell_type": "code",
   "execution_count": 18,
   "id": "c0a4108b-21f4-4fb5-9448-4024de9b88ff",
   "metadata": {},
   "outputs": [],
   "source": [
    "# 打印5-10行\n",
    "# sed '5,10p'"
   ]
  },
  {
   "cell_type": "code",
   "execution_count": 19,
   "id": "c04dc611-0e0b-48ca-9641-54c858ae1671",
   "metadata": {},
   "outputs": [],
   "source": [
    "# 删除 5-10行\n",
    "# sed '5,10d'"
   ]
  }
 ],
 "metadata": {
  "kernelspec": {
   "display_name": "Python 3 (ipykernel)",
   "language": "python",
   "name": "python3"
  },
  "language_info": {
   "codemirror_mode": {
    "name": "ipython",
    "version": 3
   },
   "file_extension": ".py",
   "mimetype": "text/x-python",
   "name": "python",
   "nbconvert_exporter": "python",
   "pygments_lexer": "ipython3",
   "version": "3.10.12"
  }
 },
 "nbformat": 4,
 "nbformat_minor": 5
}
