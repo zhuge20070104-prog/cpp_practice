{
 "cells": [
  {
   "cell_type": "code",
   "execution_count": 12,
   "id": "aa3c6277-27e6-4ffb-af86-eb7f353eed88",
   "metadata": {},
   "outputs": [
    {
     "data": {
      "text/plain": [
       "'4f8dc9f1'"
      ]
     },
     "execution_count": 12,
     "metadata": {},
     "output_type": "execute_result"
    }
   ],
   "source": [
    "import uuid\n",
    "\n",
    "def short_guid():\n",
    "    # 生成一个 UUID\n",
    "    guid = uuid.uuid4()\n",
    "    # 将 UUID 转换为字符串，并去掉横杠\n",
    "    guid_str = str(guid).replace('-', '')\n",
    "    # 返回前 8 位作为短 GUID\n",
    "    return guid_str[:8]\n",
    "\n",
    "short_guid()"
   ]
  }
 ],
 "metadata": {
  "kernelspec": {
   "display_name": "Python 3 (ipykernel)",
   "language": "python",
   "name": "python3"
  },
  "language_info": {
   "codemirror_mode": {
    "name": "ipython",
    "version": 3
   },
   "file_extension": ".py",
   "mimetype": "text/x-python",
   "name": "python",
   "nbconvert_exporter": "python",
   "pygments_lexer": "ipython3",
   "version": "3.10.12"
  }
 },
 "nbformat": 4,
 "nbformat_minor": 5
}
