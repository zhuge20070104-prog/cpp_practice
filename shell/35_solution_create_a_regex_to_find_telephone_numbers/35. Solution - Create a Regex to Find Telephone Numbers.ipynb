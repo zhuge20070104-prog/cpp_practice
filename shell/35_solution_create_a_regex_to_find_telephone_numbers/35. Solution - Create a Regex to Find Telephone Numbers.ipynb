{
 "cells": [
  {
   "cell_type": "code",
   "execution_count": 12,
   "id": "92328216-f91f-4dda-9e3a-587248af02bb",
   "metadata": {},
   "outputs": [],
   "source": [
    "# Challenge\n",
    "# Use the contacts.csv file in the files directory\n",
    "# Parse the file with grep and find telephone numbers\n",
    "# Print each number on the screen\n",
    "\n",
    "\n",
    "# 第二个正则比较复杂，\n",
    "# [(]? ( 可能有\n",
    "# [)]? ) 可能有 "
   ]
  },
  {
   "cell_type": "code",
   "execution_count": 13,
   "id": "1134bc6e-5f6d-4e97-bc45-2b1c0478ba3a",
   "metadata": {},
   "outputs": [
    {
     "name": "stdout",
     "output_type": "stream",
     "text": [
      "907-870-5536\n",
      "(510)-503-7169\n",
      "+1-510-993-3758\n",
      "+01-(510)-503-7169\n",
      "+1-(510)-503-7169\n"
     ]
    }
   ],
   "source": [
    "cmd='''\n",
    "    cat ./files/contacts.csv |  grep -E -o '([+][0-9][0-9]?-)?[(]?[0-9]{3}[)]?-[0-9]{3}-[0-9]{4}?' \n",
    "'''\n",
    "!{cmd} "
   ]
  }
 ],
 "metadata": {
  "kernelspec": {
   "display_name": "Python 3 (ipykernel)",
   "language": "python",
   "name": "python3"
  },
  "language_info": {
   "codemirror_mode": {
    "name": "ipython",
    "version": 3
   },
   "file_extension": ".py",
   "mimetype": "text/x-python",
   "name": "python",
   "nbconvert_exporter": "python",
   "pygments_lexer": "ipython3",
   "version": "3.10.12"
  }
 },
 "nbformat": 4,
 "nbformat_minor": 5
}
