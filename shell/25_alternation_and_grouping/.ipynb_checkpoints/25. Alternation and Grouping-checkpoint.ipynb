{
 "cells": [
  {
   "cell_type": "code",
   "execution_count": 14,
   "id": "0e7f0975-e317-4438-9a05-4ad65b564ef7",
   "metadata": {},
   "outputs": [
    {
     "name": "stdout",
     "output_type": "stream",
     "text": [
      "dog\n",
      "cat\n"
     ]
    }
   ],
   "source": [
    "# 2. 或的例子 [Alternation]\n",
    "! echo 'dog' | sed -E -n '/dog$|cat$/p'\n",
    "! echo 'cat' | sed -E -n '/dog$|cat$/p'\n",
    "! echo 'cats' | sed -E -n '/dog$|cat$/p'\n",
    "! echo 'dogs' | sed -E -n '/dog$|cat$/p'"
   ]
  },
  {
   "cell_type": "code",
   "execution_count": 19,
   "id": "f5f1ad05-9a0b-44a3-a2a8-7350ca701dd5",
   "metadata": {},
   "outputs": [
    {
     "name": "stdout",
     "output_type": "stream",
     "text": [
      "dog\n",
      "cat\n"
     ]
    }
   ],
   "source": [
    "# 3. 0次或1次\n",
    "# ？ 非贪婪匹配\n",
    "! echo 'dog' | sed -E -n '/^(dog|cat)?$/p'\n",
    "! echo 'cat' | sed -E -n '/^(dog|cat)?$/p'\n",
    "! echo 'dogdog' | sed -E -n '/^(dog|cat)?$/p'\n",
    "! echo 'catcat' | sed -E -n '/^(dog|cat)?$/p'"
   ]
  },
  {
   "cell_type": "code",
   "execution_count": 21,
   "id": "29b1d507-ca35-4c36-b034-127c8c4755eb",
   "metadata": {},
   "outputs": [
    {
     "name": "stdout",
     "output_type": "stream",
     "text": [
      "dog\n",
      "cat\n",
      "dogdog\n",
      "catcat\n"
     ]
    }
   ],
   "source": [
    "# 4. 1次或多次\n",
    "! echo 'dog' | sed -E -n '/^(dog|cat)+$/p'\n",
    "! echo 'cat' | sed -E -n '/^(dog|cat)+$/p'\n",
    "! echo 'dogdog' | sed -E -n '/^(dog|cat)+$/p'\n",
    "! echo 'catcat' | sed -E -n '/^(dog|cat)+$/p'"
   ]
  },
  {
   "cell_type": "code",
   "execution_count": 27,
   "id": "3f0b83d0-890d-4672-883a-cd4750cdfdaa",
   "metadata": {},
   "outputs": [
    {
     "name": "stdout",
     "output_type": "stream",
     "text": [
      "0\n",
      "1\n",
      "11\n",
      "99\n"
     ]
    }
   ],
   "source": [
    "# 5. 左边0-9\n",
    "# 6. 右边10-99\n",
    "# 7.  两边都加上就是 0-99\n",
    "! echo '0' | sed -E -n '/^([0-9]|[1-9][0-9])$/p'\n",
    "! echo '1' | sed -E -n '/^([0-9]|[1-9][0-9])$/p'\n",
    "! echo '11' | sed -E -n '/^([0-9]|[1-9][0-9])$/p'\n",
    "! echo '99' | sed -E -n '/^([0-9]|[1-9][0-9])$/p'\n",
    "! echo '100' | sed -E -n '/^([0-9]|[1-9][0-9])$/p'"
   ]
  },
  {
   "cell_type": "code",
   "execution_count": 29,
   "id": "5b4d6d5f-3d93-4673-bcf0-1f6ead97e9ff",
   "metadata": {},
   "outputs": [
    {
     "name": "stdout",
     "output_type": "stream",
     "text": [
      "0\n",
      "1\n",
      "11\n",
      "99\n"
     ]
    }
   ],
   "source": [
    "# 8. 这样也可以match 0-99\n",
    "! echo '0' | sed -E -n '/^([0-9][0-9]?)$/p'\n",
    "! echo '1' | sed -E -n '/^([0-9][0-9]?)$/p'\n",
    "! echo '11' | sed -E -n '/^([0-9][0-9]?)$/p'\n",
    "! echo '99' | sed -E -n '/^([0-9][0-9]?)$/p'\n",
    "! echo '100' | sed -E -n '/^([0-9][0-9]?)$/p'"
   ]
  },
  {
   "cell_type": "code",
   "execution_count": 35,
   "id": "13779e86-d398-4dca-8e14-9de04ce13211",
   "metadata": {},
   "outputs": [
    {
     "name": "stdout",
     "output_type": "stream",
     "text": [
      "0\n",
      "150\n",
      "149\n"
     ]
    }
   ],
   "source": [
    "# Match 0-150\n",
    "# 9. 这个任务分三步，有点难\n",
    "# match 150; match 100-149; match 0-99\n",
    "! echo '0' | sed -E -n '/^(150|1[0-4][0-9]|[0-9][0-9]?)$/p'\n",
    "! echo '150' | sed -E -n '/^(150|1[0-4][0-9]|[0-9][0-9]?)$/p'\n",
    "! echo '149' | sed -E -n '/^(150|1[0-4][0-9]|[0-9][0-9]?)$/p'\n",
    "! echo '151' | sed -E -n '/^(150|1[0-4][0-9]|[0-9][0-9]?)$/p'"
   ]
  },
  {
   "cell_type": "code",
   "execution_count": 4,
   "id": "5e9d2bdf-9fc5-4c02-ac1c-58455f4e3c4a",
   "metadata": {},
   "outputs": [
    {
     "name": "stdout",
     "output_type": "stream",
     "text": [
      "0\n",
      "100\n",
      "149\n",
      "150\n"
     ]
    }
   ],
   "source": [
    "# 使用grep -E 进行测试\n",
    "! echo '0' | grep -E '^(150|1[0-4][0-9]|[0-9][0-9]?)$'  \n",
    "! echo '100' | grep -E '^(150|1[0-4][0-9]|[0-9][0-9]?)$'   \n",
    "! echo '149' | grep -E '^(150|1[0-4][0-9]|[0-9][0-9]?)$'   \n",
    "! echo '150' | grep -E '^(150|1[0-4][0-9]|[0-9][0-9]?)$'   \n",
    "! echo '151' | grep -E '^(150|1[0-4][0-9]|[0-9][0-9]?)$'   "
   ]
  }
 ],
 "metadata": {
  "kernelspec": {
   "display_name": "Python 3 (ipykernel)",
   "language": "python",
   "name": "python3"
  },
  "language_info": {
   "codemirror_mode": {
    "name": "ipython",
    "version": 3
   },
   "file_extension": ".py",
   "mimetype": "text/x-python",
   "name": "python",
   "nbconvert_exporter": "python",
   "pygments_lexer": "ipython3",
   "version": "3.11.6"
  }
 },
 "nbformat": 4,
 "nbformat_minor": 5
}
