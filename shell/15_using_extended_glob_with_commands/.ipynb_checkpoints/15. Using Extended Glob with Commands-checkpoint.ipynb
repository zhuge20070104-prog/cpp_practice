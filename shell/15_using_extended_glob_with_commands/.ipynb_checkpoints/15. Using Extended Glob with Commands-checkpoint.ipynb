{
 "cells": [
  {
   "cell_type": "code",
   "execution_count": 9,
   "id": "89c4d5a6",
   "metadata": {},
   "outputs": [
    {
     "name": "stdout",
     "output_type": "stream",
     "text": [
      "93\r\n"
     ]
    }
   ],
   "source": [
    "# match 这个文件，并wc -l count\n",
    "\n",
    "cmd='''\n",
    "shopt -s extglob\n",
    "\n",
    "ls -l ./files/@(Archive|Backup)-[0-9][0-9][0-9][0-9]-[0-9][0-9]-@([0-9]|[0-9][0-9])@(@(.bak|.tar)?(.bz2|.gz|.xz)|.tgz) | wc -l\n",
    "'''\n",
    "\n",
    "!{cmd}"
   ]
  },
  {
   "cell_type": "code",
   "execution_count": 37,
   "id": "65692c3a",
   "metadata": {},
   "outputs": [
    {
     "name": "stdout",
     "output_type": "stream",
     "text": [
      "-rw-rw-r-- 1 fredric fredric 0 3月  12 11:01 Backup-2017-03.tar.bz2\r\n",
      "-rw-rw-r-- 1 fredric fredric 0 3月  12 11:00 Backup-2017-05.tar.gz\r\n"
     ]
    }
   ],
   "source": [
    "# 对上面那一坨取反，求不满足条件的记录\n",
    "# 下面两个匹配的是因为少了日期\n",
    "\n",
    "cmd='''\n",
    "shopt -s extglob\n",
    "\n",
    "cd ./files && ls -l !(*@(Archive|Backup)-[0-9][0-9][0-9][0-9]-[0-9][0-9]-@([0-9]|[0-9][0-9])@(@(.bak|.tar)?(.bz2|.gz|.xz)|.tgz))\n",
    "'''\n",
    "\n",
    "!{cmd}"
   ]
  },
  {
   "cell_type": "code",
   "execution_count": 41,
   "id": "1747a32f",
   "metadata": {},
   "outputs": [
    {
     "name": "stdout",
     "output_type": "stream",
     "text": [
      "-rw-rw-r-- 1 fredric fredric 0 3月  12 11:01 Backup-2017-03.tar.bz2\r\n",
      "-rw-rw-r-- 1 fredric fredric 0 3月  12 11:00 Backup-2017-05.tar.gz\r\n"
     ]
    }
   ],
   "source": [
    "# 还有一种方法就是把day去掉就能match上了\n",
    "\n",
    "cmd='''\n",
    "shopt -s extglob\n",
    "\n",
    "cd ./files && ls -l @(Archive|Backup)-[0-9][0-9][0-9][0-9]-[0-9][0-9]@(@(.bak|.tar)?(.bz2|.gz|.xz)|.tgz)\n",
    "'''\n",
    "\n",
    "!{cmd}"
   ]
  },
  {
   "cell_type": "code",
   "execution_count": 43,
   "id": "ce3817db",
   "metadata": {},
   "outputs": [
    {
     "name": "stdout",
     "output_type": "stream",
     "text": [
      "./files/Backup-2017-03.tar.bz2\r\n",
      "./files/Backup-2017-05.tar.gz\r\n"
     ]
    }
   ],
   "source": [
    "# 在for 循环中使用extended glob\n",
    "\n",
    "cmd='''\n",
    "shopt -s extglob\n",
    "\n",
    "for i in ./files/@(Archive|Backup)-[0-9][0-9][0-9][0-9]-[0-9][0-9]@(@(.bak|.tar)?(.bz2|.gz|.xz)|.tgz); do\n",
    "    echo $i\n",
    "done\n",
    "'''\n",
    "\n",
    "!{cmd}"
   ]
  },
  {
   "cell_type": "code",
   "execution_count": 76,
   "id": "f4beaf82",
   "metadata": {},
   "outputs": [
    {
     "name": "stdout",
     "output_type": "stream",
     "text": [
      "Backup-2017-03-1.tar.bz2\r\n",
      "Backup-2017-05-1.tar.gz\r\n"
     ]
    }
   ],
   "source": [
    "# 两个 %% match最前面的.\n",
    "# ${i#*.} ， .号前面的都不要，只要.号后面的扩展名\n",
    "\n",
    "cmd='''\n",
    "shopt -s extglob\n",
    "\n",
    "cd ./files && for i in @(Archive|Backup)-[0-9][0-9][0-9][0-9]-[0-9][0-9]@(@(.bak|.tar)?(.bz2|.gz|.xz)|.tgz); do echo ${i%%.*}-1.${i#*.}; done\n",
    "'''\n",
    "\n",
    "!{cmd}"
   ]
  },
  {
   "cell_type": "code",
   "execution_count": 77,
   "id": "3d59b04b",
   "metadata": {},
   "outputs": [
    {
     "name": "stdout",
     "output_type": "stream",
     "text": [
      "已重命名 'Backup-2017-03.tar.bz2' -> 'Backup-2017-03-1.tar.bz2'\r\n",
      "已重命名 'Backup-2017-05.tar.gz' -> 'Backup-2017-05-1.tar.gz'\r\n"
     ]
    }
   ],
   "source": [
    "# 使用for 循环 mv -v 进行重命名\n",
    "\n",
    "cmd='''\n",
    "shopt -s extglob\n",
    "\n",
    "cd ./files && for i in @(Archive|Backup)-[0-9][0-9][0-9][0-9]-[0-9][0-9]@(@(.bak|.tar)?(.bz2|.gz|.xz)|.tgz); do mv -v $i ${i%%.*}-1.${i#*.}; done\n",
    "'''\n",
    "\n",
    "!{cmd}"
   ]
  },
  {
   "cell_type": "code",
   "execution_count": 78,
   "id": "0be71712",
   "metadata": {},
   "outputs": [
    {
     "name": "stdout",
     "output_type": "stream",
     "text": [
      "Archive-2017-03-10.tar.gz  Backup-2017-03-10.tar.gz   Backup-2017-03-25.tar.gz\r\n",
      "Archive-2017-03-11.tar.gz  Backup-2017-03-11.tar.bz2  Backup-2017-03-26.tar.bz2\r\n",
      "Archive-2017-03-12.tar.gz  Backup-2017-03-11.tar.gz   Backup-2017-03-26.tar.gz\r\n",
      "Archive-2017-03-13.tar.gz  Backup-2017-03-12.tar.bz2  Backup-2017-03-27.tar.bz2\r\n",
      "Archive-2017-03-14.tar.gz  Backup-2017-03-12.tar.gz   Backup-2017-03-27.tar.gz\r\n",
      "Archive-2017-03-15.tar.gz  Backup-2017-03-13.tar.bz2  Backup-2017-03-28.tar.bz2\r\n",
      "Archive-2017-03-16.tar.gz  Backup-2017-03-13.tar.gz   Backup-2017-03-28.tar.gz\r\n",
      "Archive-2017-03-17.tar.gz  Backup-2017-03-14.tar.bz2  Backup-2017-03-29.tar.bz2\r\n",
      "Archive-2017-03-18.tar.gz  Backup-2017-03-14.tar.gz   Backup-2017-03-29.tar.gz\r\n",
      "Archive-2017-03-19.tar.gz  Backup-2017-03-15.tar.bz2  Backup-2017-03-2.tar.bz2\r\n",
      "Archive-2017-03-1.tar.gz   Backup-2017-03-15.tar.gz   Backup-2017-03-2.tar.gz\r\n",
      "Archive-2017-03-20.tar.gz  Backup-2017-03-16.tar.bz2  Backup-2017-03-30.tar.bz2\r\n",
      "Archive-2017-03-21.tar.gz  Backup-2017-03-16.tar.gz   Backup-2017-03-30.tar.gz\r\n",
      "Archive-2017-03-22.tar.gz  Backup-2017-03-17.tar.bz2  Backup-2017-03-31.tar.bz2\r\n",
      "Archive-2017-03-23.tar.gz  Backup-2017-03-17.tar.gz   Backup-2017-03-31.tar.gz\r\n",
      "Archive-2017-03-24.tar.gz  Backup-2017-03-18.tar.bz2  Backup-2017-03-3.tar.bz2\r\n",
      "Archive-2017-03-25.tar.gz  Backup-2017-03-18.tar.gz   Backup-2017-03-3.tar.gz\r\n",
      "Archive-2017-03-26.tar.gz  Backup-2017-03-19.tar.bz2  Backup-2017-03-4.tar.bz2\r\n",
      "Archive-2017-03-27.tar.gz  Backup-2017-03-19.tar.gz   Backup-2017-03-4.tar.gz\r\n",
      "Archive-2017-03-28.tar.gz  Backup-2017-03-1.tar.bz2   Backup-2017-03-5.tar.bz2\r\n",
      "Archive-2017-03-29.tar.gz  Backup-2017-03-1.tar.gz    Backup-2017-03-5.tar.gz\r\n",
      "Archive-2017-03-2.tar.gz   Backup-2017-03-20.tar.bz2  Backup-2017-03-6.tar.bz2\r\n",
      "Archive-2017-03-30.tar.gz  Backup-2017-03-20.tar.gz   Backup-2017-03-6.tar.gz\r\n",
      "Archive-2017-03-31.tar.gz  Backup-2017-03-21.tar.bz2  Backup-2017-03-7.tar.bz2\r\n",
      "Archive-2017-03-3.tar.gz   Backup-2017-03-21.tar.gz   Backup-2017-03-7.tar.gz\r\n",
      "Archive-2017-03-4.tar.gz   Backup-2017-03-22.tar.bz2  Backup-2017-03-8.tar.bz2\r\n",
      "Archive-2017-03-5.tar.gz   Backup-2017-03-22.tar.gz   Backup-2017-03-8.tar.gz\r\n",
      "Archive-2017-03-6.tar.gz   Backup-2017-03-23.tar.bz2  Backup-2017-03-9.tar.bz2\r\n",
      "Archive-2017-03-7.tar.gz   Backup-2017-03-23.tar.gz   Backup-2017-03-9.tar.gz\r\n",
      "Archive-2017-03-8.tar.gz   Backup-2017-03-24.tar.bz2  Backup-2017-05-1.tar.gz\r\n",
      "Archive-2017-03-9.tar.gz   Backup-2017-03-24.tar.gz\r\n",
      "Backup-2017-03-10.tar.bz2  Backup-2017-03-25.tar.bz2\r\n"
     ]
    }
   ],
   "source": [
    "# 这个句子的意义\n",
    "# 以Archived或者Backup开头，\n",
    "# 以.tar.gz, .tar.bz2, .tar.xz结尾\n",
    "# 或者以 .bak.gz, .bak.bz2, .bak.xz结尾\n",
    "# 或者直接以.tgz结尾\n",
    "\n",
    "cmd='''\n",
    "shopt -s extglob\n",
    "\n",
    "cd ./files && ls @(Archive|Backup)*@(@(.tar|.bak)@(.gz|.bz2|.xz)|.tgz)\n",
    "'''\n",
    "\n",
    "!{cmd}"
   ]
  }
 ],
 "metadata": {
  "kernelspec": {
   "display_name": "Python 3 (ipykernel)",
   "language": "python",
   "name": "python3"
  },
  "language_info": {
   "codemirror_mode": {
    "name": "ipython",
    "version": 3
   },
   "file_extension": ".py",
   "mimetype": "text/x-python",
   "name": "python",
   "nbconvert_exporter": "python",
   "pygments_lexer": "ipython3",
   "version": "3.8.17"
  }
 },
 "nbformat": 4,
 "nbformat_minor": 5
}
