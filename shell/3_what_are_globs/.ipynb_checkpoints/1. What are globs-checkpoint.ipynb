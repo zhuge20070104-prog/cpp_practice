{
 "cells": [
  {
   "cell_type": "markdown",
   "id": "e4af307c",
   "metadata": {},
   "source": [
    "* 文件生成语句:\n",
    "* seq 1 20 | xargs -I {} touch {}-file-rev1.txt"
   ]
  },
  {
   "cell_type": "markdown",
   "id": "5359966a",
   "metadata": {},
   "source": [
    "* Globs和正则表达式差不多，但是更简单\n",
    "* 0-9 后面是单个任意字符，file后面是多个任意字符\n",
    "* ls glob 是 matching文件的， grep regex是match string的"
   ]
  },
  {
   "cell_type": "code",
   "execution_count": 6,
   "id": "e6251f78",
   "metadata": {},
   "outputs": [
    {
     "name": "stdout",
     "output_type": "stream",
     "text": [
      "./files/1-file-rev1.txt  ./files/4-file-rev1.txt  ./files/7-file-rev1.txt\r\n",
      "./files/2-file-rev1.txt  ./files/5-file-rev1.txt  ./files/8-file-rev1.txt\r\n",
      "./files/3-file-rev1.txt  ./files/6-file-rev1.txt  ./files/9-file-rev1.txt\r\n"
     ]
    }
   ],
   "source": [
    "! ls ./files/[0-9]?file*.txt"
   ]
  },
  {
   "cell_type": "markdown",
   "id": "48fb3750",
   "metadata": {},
   "source": [
    "* 同样的套路用正则表达式应该这样实现"
   ]
  },
  {
   "cell_type": "code",
   "execution_count": 12,
   "id": "4f806b39",
   "metadata": {},
   "outputs": [
    {
     "name": "stdout",
     "output_type": "stream",
     "text": [
      "10-file-rev1.txt\r\n",
      "11-file-rev1.txt\r\n",
      "12-file-rev1.txt\r\n",
      "13-file-rev1.txt\r\n",
      "14-file-rev1.txt\r\n",
      "15-file-rev1.txt\r\n",
      "16-file-rev1.txt\r\n",
      "17-file-rev1.txt\r\n",
      "18-file-rev1.txt\r\n",
      "19-file-rev1.txt\r\n",
      "1-file-rev1.txt\r\n",
      "20-file-rev1.txt\r\n",
      "2-file-rev1.txt\r\n",
      "3-file-rev1.txt\r\n",
      "4-file-rev1.txt\r\n",
      "5-file-rev1.txt\r\n",
      "6-file-rev1.txt\r\n",
      "7-file-rev1.txt\r\n",
      "8-file-rev1.txt\r\n",
      "9-file-rev1.txt\r\n"
     ]
    }
   ],
   "source": [
    "! ls ./files | grep '[0-9].file.*\\.txt'"
   ]
  },
  {
   "cell_type": "markdown",
   "id": "a806c81f",
   "metadata": {},
   "source": [
    "* 正则表达式和glob可以同时使用\n",
    "* 前面是正则，后面是glob\n",
    "* 这个命令的意思是，先找.txt文件，再找里面包含 \"AXXX.txt\"行的文件"
   ]
  },
  {
   "cell_type": "code",
   "execution_count": 14,
   "id": "f340cecf",
   "metadata": {},
   "outputs": [
    {
     "name": "stdout",
     "output_type": "stream",
     "text": [
      "./files/1-file-rev1.txt:ABC.txt\r\n",
      "./files/2-file-rev1.txt:ABC.txt\r\n",
      "./files/3-file-rev1.txt:ABC.txt\r\n"
     ]
    }
   ],
   "source": [
    "! grep '^A.*\\.txt' ./files/*.txt"
   ]
  },
  {
   "cell_type": "markdown",
   "id": "8fc36c85",
   "metadata": {},
   "source": [
    "* 正则表达式用 '', 以区别于glob"
   ]
  },
  {
   "cell_type": "code",
   "execution_count": 18,
   "id": "8a34586d",
   "metadata": {},
   "outputs": [
    {
     "name": "stdout",
     "output_type": "stream",
     "text": [
      "./files/1-file-rev1.txt:ABC.txt\r\n",
      "./files/2-file-rev1.txt:ABC.txt\r\n"
     ]
    }
   ],
   "source": [
    "! grep '^A.*\\.txt' ./files/1-file-rev1.txt ./files/2-file-rev1.txt"
   ]
  }
 ],
 "metadata": {
  "kernelspec": {
   "display_name": "Python 3 (ipykernel)",
   "language": "python",
   "name": "python3"
  },
  "language_info": {
   "codemirror_mode": {
    "name": "ipython",
    "version": 3
   },
   "file_extension": ".py",
   "mimetype": "text/x-python",
   "name": "python",
   "nbconvert_exporter": "python",
   "pygments_lexer": "ipython3",
   "version": "3.8.17"
  }
 },
 "nbformat": 4,
 "nbformat_minor": 5
}
