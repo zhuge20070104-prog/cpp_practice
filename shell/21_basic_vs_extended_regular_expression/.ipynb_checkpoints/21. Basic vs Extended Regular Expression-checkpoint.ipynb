{
 "cells": [
  {
   "cell_type": "code",
   "execution_count": 76,
   "id": "18eb3ec9-ee79-4fb6-8584-ef8f40cbf88d",
   "metadata": {},
   "outputs": [
    {
     "name": "stdout",
     "output_type": "stream",
     "text": [
      "ababab\n"
     ]
    }
   ],
   "source": [
    "# ERE match 所有ab\n",
    "!echo \"abababccccccd\" | sed -E  's/((ab)+).*/\\1/'\n"
   ]
  },
  {
   "cell_type": "code",
   "execution_count": 120,
   "id": "dc28a978-3546-40f5-8cfd-4caa25dbfe59",
   "metadata": {},
   "outputs": [
    {
     "name": "stdout",
     "output_type": "stream",
     "text": [
      "ab\n"
     ]
    }
   ],
   "source": [
    "# 6. BRE match\n",
    "!echo \"abababccccccd\" | sed   's/\\(ab\\).*/\\1/'"
   ]
  },
  {
   "cell_type": "code",
   "execution_count": 123,
   "id": "4f437e56-1637-4e05-8c8b-a0702eecd2e3",
   "metadata": {},
   "outputs": [
    {
     "name": "stdout",
     "output_type": "stream",
     "text": [
      "ababccccccd\n"
     ]
    }
   ],
   "source": [
    "# ERE match\n",
    "# ab 两次\n",
    "# cd 0次或1次\n",
    "!echo \"abababccccccd\" | sed -E  's/(ab){2}|(cd){,1}/\\1/'"
   ]
  },
  {
   "cell_type": "code",
   "execution_count": 129,
   "id": "53691df2-6efb-46c3-94ad-ff6d403cd29c",
   "metadata": {},
   "outputs": [
    {
     "name": "stdout",
     "output_type": "stream",
     "text": [
      "abababccccccd\n"
     ]
    }
   ],
   "source": [
    "# BRE因为有转义字符，就复杂一点\n",
    "!echo \"abababccccccd\" | sed 's/\\(ab\\)\\{2\\}|\\(cd\\)\\{,1\\}/\\1/'"
   ]
  }
 ],
 "metadata": {
  "kernelspec": {
   "display_name": "Python 3 (ipykernel)",
   "language": "python",
   "name": "python3"
  },
  "language_info": {
   "codemirror_mode": {
    "name": "ipython",
    "version": 3
   },
   "file_extension": ".py",
   "mimetype": "text/x-python",
   "name": "python",
   "nbconvert_exporter": "python",
   "pygments_lexer": "ipython3",
   "version": "3.11.6"
  }
 },
 "nbformat": 4,
 "nbformat_minor": 5
}
