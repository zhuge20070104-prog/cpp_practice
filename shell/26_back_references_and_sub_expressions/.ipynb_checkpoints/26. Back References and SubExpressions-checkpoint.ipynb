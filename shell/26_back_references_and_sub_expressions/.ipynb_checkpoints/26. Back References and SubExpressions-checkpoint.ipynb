{
 "cells": [
  {
   "cell_type": "code",
   "execution_count": 19,
   "id": "92d06348-5c03-4f9a-b746-2025a7c78868",
   "metadata": {},
   "outputs": [
    {
     "name": "stdout",
     "output_type": "stream",
     "text": [
      "unpossess\n",
      "sleeplessness\n",
      "selflessness\n"
     ]
    }
   ],
   "source": [
    "# 1. Posix EREs 不支持 backreferences\n",
    "# 2. Patterns stored in buffer\n",
    "# 3. Can be recalled later\n",
    "# 4. Limit of nine\n",
    "\n",
    "# 2. 简单的backreferences\n",
    "! echo 'unpossess' | grep  '\\(ss\\).*\\1'  \n",
    "! echo 'sleeplessness' | grep  '\\(ss\\).*\\1'  \n",
    "! echo 'selflessness' | grep  '\\(ss\\).*\\1'  "
   ]
  },
  {
   "cell_type": "code",
   "execution_count": 24,
   "id": "41283e83-e455-4697-a152-fe4d32809feb",
   "metadata": {},
   "outputs": [
    {
     "name": "stdout",
     "output_type": "stream",
     "text": [
      "classlessness\n",
      "possessiveness\n",
      "stresslessness\n"
     ]
    }
   ],
   "source": [
    "# 两次backreferences\n",
    "! echo 'classlessness' | grep  '\\(ss\\).*\\1.*\\1'  \n",
    "! echo 'possessiveness' | grep  '\\(ss\\).*\\1.*\\1'  \n",
    "! echo 'stresslessness' | grep  '\\(ss\\).*\\1.*\\1'  "
   ]
  },
  {
   "cell_type": "code",
   "execution_count": 33,
   "id": "d7efea97-64d7-48d1-87bc-9e83b21a00b3",
   "metadata": {},
   "outputs": [
    {
     "name": "stdout",
     "output_type": "stream",
     "text": [
      "radar\n",
      "kayak\n",
      "level\n"
     ]
    }
   ],
   "source": [
    "# 4. Multiple Backreferences\n",
    "# r match 第一个(.),存储到 \\1里面\n",
    "# a match第二个(.)，存储到 \\2里面\n",
    "# d match第三个点，因为没有打() 所以不存储\n",
    "# 接着a match \\2\n",
    "# r match \\1\n",
    "\n",
    "! echo 'radar' | grep  '^\\(.\\)\\(.\\).\\2\\1$'  \n",
    "! echo 'kayak' | grep  '^\\(.\\)\\(.\\).\\2\\1$'  \n",
    "! echo 'civil' | grep  '^\\(.\\)\\(.\\).\\2\\1$'  \n",
    "! echo 'level' | grep  '^\\(.\\)\\(.\\).\\2\\1$'  "
   ]
  },
  {
   "cell_type": "code",
   "execution_count": 100,
   "id": "31679389-02f3-4b99-bb8f-a6cb28f3023c",
   "metadata": {},
   "outputs": [
    {
     "name": "stdout",
     "output_type": "stream",
     "text": [
      "1234567890987654321\n",
      "12344321\n",
      "123404321\n"
     ]
    }
   ],
   "source": [
    "# 5. match 可选的19个词长的水仙花数\n",
    "! echo '1234567890987654321' | grep  '^\\(.\\?\\)\\(.\\?\\)\\(.\\?\\)\\(.\\?\\)\\(.\\?\\)\\(.\\?\\)\\(.\\?\\)\\(.\\?\\)\\(.\\?\\).\\?\\9\\8\\7\\6\\5\\4\\3\\2\\1$'  \n",
    "! echo '12344321' | grep  '^\\(.\\?\\)\\(.\\?\\)\\(.\\?\\)\\(.\\?\\)\\(.\\?\\)\\(.\\?\\)\\(.\\?\\)\\(.\\?\\)\\(.\\?\\).\\?\\9\\8\\7\\6\\5\\4\\3\\2\\1$'  \n",
    "! echo '123404321' | grep  '^\\(.\\?\\)\\(.\\?\\)\\(.\\?\\)\\(.\\?\\)\\(.\\?\\)\\(.\\?\\)\\(.\\?\\)\\(.\\?\\)\\(.\\?\\).\\?\\9\\8\\7\\6\\5\\4\\3\\2\\1$'  "
   ]
  }
 ],
 "metadata": {
  "kernelspec": {
   "display_name": "Python 3 (ipykernel)",
   "language": "python",
   "name": "python3"
  },
  "language_info": {
   "codemirror_mode": {
    "name": "ipython",
    "version": 3
   },
   "file_extension": ".py",
   "mimetype": "text/x-python",
   "name": "python",
   "nbconvert_exporter": "python",
   "pygments_lexer": "ipython3",
   "version": "3.11.6"
  }
 },
 "nbformat": 4,
 "nbformat_minor": 5
}
