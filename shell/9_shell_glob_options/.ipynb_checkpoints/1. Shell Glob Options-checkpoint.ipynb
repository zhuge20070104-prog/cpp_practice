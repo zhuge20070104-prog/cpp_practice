{
 "cells": [
  {
   "cell_type": "markdown",
   "id": "04a230f8",
   "metadata": {},
   "source": [
    "* 文件构造法\n",
    "* a=({a..z})\n",
    "* seq 1 20 | xargs -I {} touch File{}.txt\n",
    "* for i in ${a[*]}; do echo $i; done | xargs -I {} touch File{}.txt"
   ]
  },
  {
   "cell_type": "markdown",
   "id": "60d4747e",
   "metadata": {},
   "source": [
    "* Shell Glob 选项\n",
    "* Shell 通配符选项"
   ]
  },
  {
   "cell_type": "markdown",
   "id": "b3d5190f",
   "metadata": {},
   "source": [
    "* 设置选项的参数\n",
    "* shopt -s 设置\n",
    "* shopt -u 取消设置\n",
    "* shopt -p 当前设置"
   ]
  },
  {
   "cell_type": "markdown",
   "id": "83d0024c",
   "metadata": {},
   "source": [
    "* 打印.bin文件，found设置为1\n",
    "* 如果不设置 nullglob，如果目录里面有 file1.bin这些，会打印file1.bin，是正常的，\n",
    "* 如果目录里面没有XX.bin文件，会直接输出 *.bin，found =1,这个不正常。\n",
    "* 设置为 nullglob之后，found = 0, 而且 str=\"\"了, 符合预期了"
   ]
  },
  {
   "cell_type": "code",
   "execution_count": 8,
   "id": "ada79b8e",
   "metadata": {},
   "outputs": [
    {
     "name": "stdout",
     "output_type": "stream",
     "text": [
      "./files/1.bin\r\n",
      "./files/2.bin\r\n",
      "./files/3.bin\r\n",
      "./files/4.bin\r\n",
      "./files/5.bin\r\n",
      "./files/a.bin\r\n",
      "./files/b.bin\r\n",
      "./files/c.bin\r\n",
      "./files/d.bin\r\n",
      "./files/e.bin\r\n",
      "./files/f.bin\r\n",
      "Found: 1\r\n"
     ]
    }
   ],
   "source": [
    "cmd='''\n",
    "shopt -u nullglob\n",
    "found=0\n",
    "for i in ./files/*.bin; do\n",
    "    echo $i\n",
    "    found=1\n",
    "done\n",
    "echo \"Found: \"$found\n",
    "set -u nullglob\n",
    "'''\n",
    "!{cmd}"
   ]
  },
  {
   "cell_type": "markdown",
   "id": "e7432a9e",
   "metadata": {},
   "source": [
    "* failglob会直接fail掉程序，如果pattern不match"
   ]
  },
  {
   "cell_type": "markdown",
   "id": "a5781cbd",
   "metadata": {},
   "source": [
    "* 设置dotglob将会显示隐藏文件"
   ]
  },
  {
   "cell_type": "code",
   "execution_count": 14,
   "id": "3cc6ea70",
   "metadata": {},
   "outputs": [
    {
     "name": "stdout",
     "output_type": "stream",
     "text": [
      "'1. Shell Glob Options.ipynb'   .hidden\r\n",
      "\r\n",
      "files:\r\n",
      "1.bin  e.bin\t   File13.txt  file18.txt  File2.txt  file7.txt  Fileb.txt\r\n",
      "2.bin  f.bin\t   file14.txt  File18.txt  file3.txt  File7.txt  filec.txt\r\n",
      "3.bin  file10.txt  File14.txt  file19.txt  File3.txt  file8.txt  Filec.txt\r\n",
      "4.bin  File10.txt  file15.txt  File19.txt  file4.txt  File8.txt  filed.txt\r\n",
      "5.bin  file11.txt  File15.txt  file1.txt   File4.txt  file9.txt  Filed.txt\r\n",
      "a.bin  File11.txt  file16.txt  File1.txt   file5.txt  File9.txt  filee.txt\r\n",
      "b.bin  file12.txt  File16.txt  file20.txt  File5.txt  filea.txt  Filee.txt\r\n",
      "c.bin  File12.txt  file17.txt  File20.txt  file6.txt  Filea.txt  filef.txt\r\n",
      "d.bin  file13.txt  File17.txt  file2.txt   File6.txt  fileb.txt  Filef.txt\r\n",
      "\r\n",
      ".ipynb_checkpoints:\r\n",
      "'1. Shell Glob Options-checkpoint.ipynb'\r\n"
     ]
    }
   ],
   "source": [
    "cmd='''\n",
    "shopt -s dotglob\n",
    "ls *\n",
    "set -u dotglob\n",
    "'''\n",
    "!{cmd}"
   ]
  },
  {
   "cell_type": "markdown",
   "id": "331e1033",
   "metadata": {},
   "source": [
    "* globstar, 两个 **会递归二级子目录\n",
    "* Shell 4.X以上才支持"
   ]
  },
  {
   "cell_type": "code",
   "execution_count": 17,
   "id": "a6315fea",
   "metadata": {},
   "outputs": [
    {
     "name": "stdout",
     "output_type": "stream",
     "text": [
      "'1. Shell Glob Options.ipynb'   files/file15.txt   files/file6.txt\r\n",
      " files/1.bin\t\t        files/File15.txt   files/File6.txt\r\n",
      " files/2.bin\t\t        files/file16.txt   files/file7.txt\r\n",
      " files/3.bin\t\t        files/File16.txt   files/File7.txt\r\n",
      " files/4.bin\t\t        files/file17.txt   files/file8.txt\r\n",
      " files/5.bin\t\t        files/File17.txt   files/File8.txt\r\n",
      " files/a.bin\t\t        files/file18.txt   files/file9.txt\r\n",
      " files/b.bin\t\t        files/File18.txt   files/File9.txt\r\n",
      " files/c.bin\t\t        files/file19.txt   files/filea.txt\r\n",
      " files/d.bin\t\t        files/File19.txt   files/Filea.txt\r\n",
      " files/e.bin\t\t        files/file1.txt    files/fileb.txt\r\n",
      " files/f.bin\t\t        files/File1.txt    files/Fileb.txt\r\n",
      " files/file10.txt\t        files/file20.txt   files/filec.txt\r\n",
      " files/File10.txt\t        files/File20.txt   files/Filec.txt\r\n",
      " files/file11.txt\t        files/file2.txt    files/filed.txt\r\n",
      " files/File11.txt\t        files/File2.txt    files/Filed.txt\r\n",
      " files/file12.txt\t        files/file3.txt    files/filee.txt\r\n",
      " files/File12.txt\t        files/File3.txt    files/Filee.txt\r\n",
      " files/file13.txt\t        files/file4.txt    files/filef.txt\r\n",
      " files/File13.txt\t        files/File4.txt    files/Filef.txt\r\n",
      " files/file14.txt\t        files/file5.txt\r\n",
      " files/File14.txt\t        files/File5.txt\r\n",
      "\r\n",
      "files:\r\n",
      "1.bin  e.bin\t   File13.txt  file18.txt  File2.txt  file7.txt  Fileb.txt\r\n",
      "2.bin  f.bin\t   file14.txt  File18.txt  file3.txt  File7.txt  filec.txt\r\n",
      "3.bin  file10.txt  File14.txt  file19.txt  File3.txt  file8.txt  Filec.txt\r\n",
      "4.bin  File10.txt  file15.txt  File19.txt  file4.txt  File8.txt  filed.txt\r\n",
      "5.bin  file11.txt  File15.txt  file1.txt   File4.txt  file9.txt  Filed.txt\r\n",
      "a.bin  File11.txt  file16.txt  File1.txt   file5.txt  File9.txt  filee.txt\r\n",
      "b.bin  file12.txt  File16.txt  file20.txt  File5.txt  filea.txt  Filee.txt\r\n",
      "c.bin  File12.txt  file17.txt  File20.txt  file6.txt  Filea.txt  filef.txt\r\n",
      "d.bin  file13.txt  File17.txt  file2.txt   File6.txt  fileb.txt  Filef.txt\r\n"
     ]
    }
   ],
   "source": [
    "cmd='''\n",
    "shopt -s globstar\n",
    "ls **\n",
    "set -u globstar\n",
    "'''\n",
    "\n",
    "!{cmd}"
   ]
  },
  {
   "cell_type": "markdown",
   "id": "0a6c951a",
   "metadata": {},
   "source": [
    "* 递归显示目录也可用于for循环"
   ]
  },
  {
   "cell_type": "markdown",
   "id": "ea89a628",
   "metadata": {},
   "source": [
    "*  只递归所有.txt文件"
   ]
  },
  {
   "cell_type": "code",
   "execution_count": 20,
   "id": "be7de992",
   "metadata": {},
   "outputs": [
    {
     "name": "stdout",
     "output_type": "stream",
     "text": [
      "files/file10.txt\r\n",
      "files/File10.txt\r\n",
      "files/file11.txt\r\n",
      "files/File11.txt\r\n",
      "files/file12.txt\r\n",
      "files/File12.txt\r\n",
      "files/file13.txt\r\n",
      "files/File13.txt\r\n",
      "files/file14.txt\r\n",
      "files/File14.txt\r\n",
      "files/file15.txt\r\n",
      "files/File15.txt\r\n",
      "files/file16.txt\r\n",
      "files/File16.txt\r\n",
      "files/file17.txt\r\n",
      "files/File17.txt\r\n",
      "files/file18.txt\r\n",
      "files/File18.txt\r\n",
      "files/file19.txt\r\n",
      "files/File19.txt\r\n",
      "files/file1.txt\r\n",
      "files/File1.txt\r\n",
      "files/file20.txt\r\n",
      "files/File20.txt\r\n",
      "files/file2.txt\r\n",
      "files/File2.txt\r\n",
      "files/file3.txt\r\n",
      "files/File3.txt\r\n",
      "files/file4.txt\r\n",
      "files/File4.txt\r\n",
      "files/file5.txt\r\n",
      "files/File5.txt\r\n",
      "files/file6.txt\r\n",
      "files/File6.txt\r\n",
      "files/file7.txt\r\n",
      "files/File7.txt\r\n",
      "files/file8.txt\r\n",
      "files/File8.txt\r\n",
      "files/file9.txt\r\n",
      "files/File9.txt\r\n",
      "files/filea.txt\r\n",
      "files/Filea.txt\r\n",
      "files/fileb.txt\r\n",
      "files/Fileb.txt\r\n",
      "files/filec.txt\r\n",
      "files/Filec.txt\r\n",
      "files/filed.txt\r\n",
      "files/Filed.txt\r\n",
      "files/filee.txt\r\n",
      "files/Filee.txt\r\n",
      "files/filef.txt\r\n",
      "files/Filef.txt\r\n"
     ]
    }
   ],
   "source": [
    "cmd='''\n",
    "shopt -s globstar\n",
    "for i in **/*.txt; do\n",
    "    echo $i\n",
    "done\n",
    "set -u globstar\n",
    "'''\n",
    "!{cmd}"
   ]
  },
  {
   "cell_type": "markdown",
   "id": "47adba51",
   "metadata": {},
   "source": [
    "* 不管大小写, 都match"
   ]
  },
  {
   "cell_type": "code",
   "execution_count": 23,
   "id": "9f5d5949",
   "metadata": {},
   "outputs": [
    {
     "name": "stdout",
     "output_type": "stream",
     "text": [
      "./files/file10.txt\r\n",
      "./files/File10.txt\r\n",
      "./files/file11.txt\r\n",
      "./files/File11.txt\r\n",
      "./files/file12.txt\r\n",
      "./files/File12.txt\r\n",
      "./files/file13.txt\r\n",
      "./files/File13.txt\r\n",
      "./files/file14.txt\r\n",
      "./files/File14.txt\r\n",
      "./files/file15.txt\r\n",
      "./files/File15.txt\r\n",
      "./files/file16.txt\r\n",
      "./files/File16.txt\r\n",
      "./files/file17.txt\r\n",
      "./files/File17.txt\r\n",
      "./files/file18.txt\r\n",
      "./files/File18.txt\r\n",
      "./files/file19.txt\r\n",
      "./files/File19.txt\r\n",
      "./files/file1.txt\r\n",
      "./files/File1.txt\r\n",
      "./files/file20.txt\r\n",
      "./files/File20.txt\r\n",
      "./files/file2.txt\r\n",
      "./files/File2.txt\r\n",
      "./files/file3.txt\r\n",
      "./files/File3.txt\r\n",
      "./files/file4.txt\r\n",
      "./files/File4.txt\r\n",
      "./files/file5.txt\r\n",
      "./files/File5.txt\r\n",
      "./files/file6.txt\r\n",
      "./files/File6.txt\r\n",
      "./files/file7.txt\r\n",
      "./files/File7.txt\r\n",
      "./files/file8.txt\r\n",
      "./files/File8.txt\r\n",
      "./files/file9.txt\r\n",
      "./files/File9.txt\r\n",
      "./files/filea.txt\r\n",
      "./files/Filea.txt\r\n",
      "./files/fileb.txt\r\n",
      "./files/Fileb.txt\r\n",
      "./files/filec.txt\r\n",
      "./files/Filec.txt\r\n",
      "./files/filed.txt\r\n",
      "./files/Filed.txt\r\n",
      "./files/filee.txt\r\n",
      "./files/Filee.txt\r\n",
      "./files/filef.txt\r\n",
      "./files/Filef.txt\r\n"
     ]
    }
   ],
   "source": [
    "cmd='''\n",
    "shopt -s nocasematch\n",
    "for file in ./files/*; do\n",
    "    if [[ $file = ./files/file*.txt ]]; then\n",
    "        echo $file\n",
    "    fi\n",
    "done\n",
    "set -u nocasematch\n",
    "'''\n",
    "\n",
    "!{cmd}"
   ]
  },
  {
   "cell_type": "markdown",
   "id": "47f7b773",
   "metadata": {},
   "source": [
    "* nocaseglob打开以后，也可以不管大小写，cd到一个目录\n",
    "* 这个不好使"
   ]
  },
  {
   "cell_type": "code",
   "execution_count": 43,
   "id": "fefac492",
   "metadata": {},
   "outputs": [
    {
     "name": "stdout",
     "output_type": "stream",
     "text": [
      "/bin/bash: 第 1 行： cd: ./FILES: 没有那个文件或目录\r\n"
     ]
    }
   ],
   "source": [
    "cmd='''\n",
    "shopt -s nocaseglob && cd ./FILES && ls\n",
    "'''\n",
    "!{cmd}"
   ]
  }
 ],
 "metadata": {
  "kernelspec": {
   "display_name": "Python 3 (ipykernel)",
   "language": "python",
   "name": "python3"
  },
  "language_info": {
   "codemirror_mode": {
    "name": "ipython",
    "version": 3
   },
   "file_extension": ".py",
   "mimetype": "text/x-python",
   "name": "python",
   "nbconvert_exporter": "python",
   "pygments_lexer": "ipython3",
   "version": "3.8.17"
  }
 },
 "nbformat": 4,
 "nbformat_minor": 5
}
