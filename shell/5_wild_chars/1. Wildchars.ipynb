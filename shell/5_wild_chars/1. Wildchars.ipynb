{
 "cells": [
  {
   "cell_type": "markdown",
   "id": "a74ad48e",
   "metadata": {},
   "source": [
    "* ls * \n",
    "* ls all files"
   ]
  },
  {
   "cell_type": "code",
   "execution_count": 2,
   "id": "ced26434",
   "metadata": {},
   "outputs": [
    {
     "name": "stdout",
     "output_type": "stream",
     "text": [
      "./files/File10.tgz  ./files/file1.txt  ./files/file5.txt  ./files/File9.tgz\r\n",
      "./files/File11.txt  ./files/file2.txt  ./files/File6.tgz\r\n",
      "./files/File12.txt  ./files/file3.txt  ./files/File7.tgz\r\n",
      "./files/File13.txt  ./files/file4.txt  ./files/File8.tgz\r\n"
     ]
    }
   ],
   "source": [
    "! ls ./files/*"
   ]
  },
  {
   "cell_type": "markdown",
   "id": "8e0632bc",
   "metadata": {},
   "source": [
    "* ls *.txt \n",
    "* ls所有txt"
   ]
  },
  {
   "cell_type": "code",
   "execution_count": 4,
   "id": "ed4dfb4f",
   "metadata": {},
   "outputs": [
    {
     "name": "stdout",
     "output_type": "stream",
     "text": [
      "./files/File11.txt  ./files/File13.txt\t./files/file2.txt  ./files/file4.txt\r\n",
      "./files/File12.txt  ./files/file1.txt\t./files/file3.txt  ./files/file5.txt\r\n"
     ]
    }
   ],
   "source": [
    "! ls ./files/*.txt"
   ]
  },
  {
   "cell_type": "markdown",
   "id": "2574720f",
   "metadata": {},
   "source": [
    "* ls F*\n",
    "* 以大F开头的文件"
   ]
  },
  {
   "cell_type": "code",
   "execution_count": 6,
   "id": "a4d98a96",
   "metadata": {},
   "outputs": [
    {
     "name": "stdout",
     "output_type": "stream",
     "text": [
      "./files/File10.tgz  ./files/File12.txt\t./files/File6.tgz  ./files/File8.tgz\r\n",
      "./files/File11.txt  ./files/File13.txt\t./files/File7.tgz  ./files/File9.tgz\r\n"
     ]
    }
   ],
   "source": [
    "! ls ./files/F*"
   ]
  },
  {
   "cell_type": "markdown",
   "id": "f1392651",
   "metadata": {},
   "source": [
    "* 也可以列出file打头, .txt结尾的文件"
   ]
  },
  {
   "cell_type": "code",
   "execution_count": 8,
   "id": "7c5b05df",
   "metadata": {},
   "outputs": [
    {
     "name": "stdout",
     "output_type": "stream",
     "text": [
      "./files/file1.txt  ./files/file3.txt  ./files/file5.txt\r\n",
      "./files/file2.txt  ./files/file4.txt\r\n"
     ]
    }
   ],
   "source": [
    "! ls ./files/file*.txt"
   ]
  },
  {
   "cell_type": "markdown",
   "id": "cfd9886a",
   "metadata": {},
   "source": [
    "* 一个question mark只能match 一个"
   ]
  },
  {
   "cell_type": "markdown",
   "id": "2bee9697",
   "metadata": {},
   "source": [
    "*  file，中间一个字符，然后.txt"
   ]
  },
  {
   "cell_type": "code",
   "execution_count": 9,
   "id": "18d5c130",
   "metadata": {},
   "outputs": [
    {
     "name": "stdout",
     "output_type": "stream",
     "text": [
      "./files/file1.txt  ./files/file3.txt  ./files/file5.txt\r\n",
      "./files/file2.txt  ./files/file4.txt\r\n"
     ]
    }
   ],
   "source": [
    "! ls ./files/file?.txt"
   ]
  }
 ],
 "metadata": {
  "kernelspec": {
   "display_name": "Python 3 (ipykernel)",
   "language": "python",
   "name": "python3"
  },
  "language_info": {
   "codemirror_mode": {
    "name": "ipython",
    "version": 3
   },
   "file_extension": ".py",
   "mimetype": "text/x-python",
   "name": "python",
   "nbconvert_exporter": "python",
   "pygments_lexer": "ipython3",
   "version": "3.8.17"
  }
 },
 "nbformat": 4,
 "nbformat_minor": 5
}
