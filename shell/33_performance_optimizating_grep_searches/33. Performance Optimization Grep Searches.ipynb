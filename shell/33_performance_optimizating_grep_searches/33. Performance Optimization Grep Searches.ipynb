{
 "cells": [
  {
   "cell_type": "code",
   "execution_count": 1,
   "id": "54bc44ca-6d4c-4807-9df6-beaf540e0d17",
   "metadata": {},
   "outputs": [],
   "source": [
    "# Change the locale to C\n",
    "# For non C locales, avoid [a-z] and [[=a=]]\n",
    "# Avoid backreferences\n",
    "# Don't use grep -i\n",
    "# Simplify searches"
   ]
  }
 ],
 "metadata": {
  "kernelspec": {
   "display_name": "Python 3 (ipykernel)",
   "language": "python",
   "name": "python3"
  },
  "language_info": {
   "codemirror_mode": {
    "name": "ipython",
    "version": 3
   },
   "file_extension": ".py",
   "mimetype": "text/x-python",
   "name": "python",
   "nbconvert_exporter": "python",
   "pygments_lexer": "ipython3",
   "version": "3.10.12"
  }
 },
 "nbformat": 4,
 "nbformat_minor": 5
}
