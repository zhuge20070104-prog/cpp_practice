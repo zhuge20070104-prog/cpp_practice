{
 "cells": [
  {
   "cell_type": "code",
   "execution_count": 6,
   "id": "f5a6584a-c2b8-447f-8cae-4b82e79af8af",
   "metadata": {},
   "outputs": [
    {
     "name": "stdout",
     "output_type": "stream",
     "text": [
      "\n",
      "real\t0m0.007s\n",
      "user\t0m0.002s\n",
      "sys\t0m0.000s\n"
     ]
    }
   ],
   "source": [
    "# Pattern matching in bash\n",
    "# 1. Extended regexes in [[=~]]\n",
    "# 2. Extended globs\n",
    "\n",
    "# 2. 使用Glob做Pattern Matching\n",
    "\n",
    "! time ./extended_glob.sh > /dev/null\n"
   ]
  },
  {
   "cell_type": "code",
   "execution_count": 10,
   "id": "e2c6018b-05bb-43fc-87ab-1b534beb2b05",
   "metadata": {},
   "outputs": [
    {
     "name": "stdout",
     "output_type": "stream",
     "text": [
      "\n",
      "real\t0m0.004s\n",
      "user\t0m0.001s\n",
      "sys\t0m0.000s\n"
     ]
    }
   ],
   "source": [
    "# Extended Glob和Regex对比\n",
    "# Extended globs match files\n",
    "# 使用场景\n",
    "#  For loops\n",
    "#  If conditionals\n",
    "#  Case statements\n",
    "#  Variable Pattern matching\n",
    "\n",
    "# Regular Expression match text\n",
    "# 使用场景\n",
    "#   grep\n",
    "#   awk\n",
    "#   sed\n",
    "\n",
    "! time ./regular_expression.sh &> /dev/null"
   ]
  },
  {
   "cell_type": "code",
   "execution_count": 17,
   "id": "ad1e96f8-1ad5-4dda-9f44-c7960c196a2a",
   "metadata": {},
   "outputs": [],
   "source": [
    "# 7. Glob比较快，但是难写\n",
    "# 正则好写，但是慢"
   ]
  }
 ],
 "metadata": {
  "kernelspec": {
   "display_name": "Python 3 (ipykernel)",
   "language": "python",
   "name": "python3"
  },
  "language_info": {
   "codemirror_mode": {
    "name": "ipython",
    "version": 3
   },
   "file_extension": ".py",
   "mimetype": "text/x-python",
   "name": "python",
   "nbconvert_exporter": "python",
   "pygments_lexer": "ipython3",
   "version": "3.11.6"
  }
 },
 "nbformat": 4,
 "nbformat_minor": 5
}
