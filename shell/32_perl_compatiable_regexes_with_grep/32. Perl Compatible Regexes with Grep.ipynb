{
 "cells": [
  {
   "cell_type": "code",
   "execution_count": 2,
   "id": "16f7b498-e677-402c-99c9-7f96cb5dafd6",
   "metadata": {},
   "outputs": [
    {
     "name": "stdout",
     "output_type": "stream",
     "text": [
      "{ Grep ERE matches this! }\n"
     ]
    }
   ],
   "source": [
    "# 3. 不是 }的字符，0个或多个\n",
    "! grep -o -E '{([^}]*)}' ./files/multilines.txt"
   ]
  },
  {
   "cell_type": "code",
   "execution_count": 14,
   "id": "bdbe685a-bd66-4f28-8bd1-be852db22a01",
   "metadata": {},
   "outputs": [
    {
     "name": "stdout",
     "output_type": "stream",
     "text": [
      "{ Grep ERE matches this! }\u0000{\n",
      "Grep ERE's can't\n",
      "match this.\n",
      "}\u0000"
     ]
    }
   ],
   "source": [
    "# 4. Perl兼容的正则表达式可以match多行\n",
    "! grep -o -z -P '{([^}]*)}' ./files/multilines.txt"
   ]
  },
  {
   "cell_type": "code",
   "execution_count": 6,
   "id": "47d18b0d-daeb-40ef-b4ab-cdc5196878db",
   "metadata": {},
   "outputs": [
    {
     "name": "stdout",
     "output_type": "stream",
     "text": [
      "(https://example.com/photos/photo1.jpg)photo1.jpg\n",
      "(https://example.com/photos/photo2.jpg)photo2.jpg\n",
      "(https://example.com/photos/photo3.jpg)photo3.jpg\n",
      "(https://example.com/photos/photo4.jpg)photo4.jpg\n",
      "(https://example.com/photos/photo5.jpg)photo5.jpg\n"
     ]
    }
   ],
   "source": [
    "# 5. 默认ERE 使用贪婪匹配, P.*\\.jpg 会匹配如下\n",
    "# Photo.jpg.jpg\n",
    "# 6.想要做非贪婪匹配，ERE做不到\n",
    "# 只匹配到第一个Photo.jpg\n",
    "\n",
    "#BRE 默认贪婪匹配\n",
    "\n",
    "! grep -o '^(https.*.jpg' ./files/photofile.txt\n"
   ]
  },
  {
   "cell_type": "code",
   "execution_count": 15,
   "id": "eb2159a2-74b6-40dd-9b48-6e0d6447231c",
   "metadata": {},
   "outputs": [
    {
     "name": "stdout",
     "output_type": "stream",
     "text": [
      "https://example.com/photos/photo1.jpg\n",
      "https://example.com/photos/photo2.jpg\n",
      "https://example.com/photos/photo3.jpg\n",
      "https://example.com/photos/photo4.jpg\n",
      "https://example.com/photos/photo5.jpg\n"
     ]
    }
   ],
   "source": [
    "# PCRE 非贪婪匹配，匹配第一个jpg\n",
    "\n",
    "! grep -o -P '(https).*?.jpg' ./files/photofile.txt"
   ]
  }
 ],
 "metadata": {
  "kernelspec": {
   "display_name": "Python 3 (ipykernel)",
   "language": "python",
   "name": "python3"
  },
  "language_info": {
   "codemirror_mode": {
    "name": "ipython",
    "version": 3
   },
   "file_extension": ".py",
   "mimetype": "text/x-python",
   "name": "python",
   "nbconvert_exporter": "python",
   "pygments_lexer": "ipython3",
   "version": "3.10.12"
  }
 },
 "nbformat": 4,
 "nbformat_minor": 5
}
