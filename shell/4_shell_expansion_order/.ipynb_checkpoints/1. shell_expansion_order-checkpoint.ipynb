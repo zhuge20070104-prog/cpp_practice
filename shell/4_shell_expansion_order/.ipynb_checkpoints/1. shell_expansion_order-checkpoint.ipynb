{
 "cells": [
  {
   "cell_type": "markdown",
   "id": "8d484284",
   "metadata": {},
   "source": [
    "* FileName Expansion \n",
    "* 从左往右"
   ]
  },
  {
   "cell_type": "markdown",
   "id": "3bef8b37",
   "metadata": {},
   "source": [
    "* 套路\n",
    "* ~/\"${USER}\"  输出 /home/fredric/fredric\n",
    "\n"
   ]
  },
  {
   "cell_type": "markdown",
   "id": "c1e88daa",
   "metadata": {},
   "source": [
    "* $(w | tail -n1 | awk '{print $1}') 输出fredric"
   ]
  },
  {
   "cell_type": "markdown",
   "id": "732f7424",
   "metadata": {},
   "source": [
    "$(($USERID+10))/file{1..10}.* 输出 10/file1.* 10/file2.*"
   ]
  },
  {
   "cell_type": "code",
   "execution_count": 1,
   "id": "5c51ea91",
   "metadata": {},
   "outputs": [
    {
     "name": "stdout",
     "output_type": "stream",
     "text": [
      "/home/fredric/fredric/fredric 10/file1.* 10/file2.* 10/file3.* 10/file4.* 10/file5.* 10/file6.* 10/file7.* 10/file8.* 10/file9.* 10/file10.*\r\n"
     ]
    }
   ],
   "source": [
    "! echo ~/\"${USER}\"/$(w | tail -n1 | awk '{print $1}') $(($USERID+10))/file{1..10}.*"
   ]
  },
  {
   "cell_type": "markdown",
   "id": "0576bba9",
   "metadata": {},
   "source": [
    "*  {1...10}会被展开成为 12345678910"
   ]
  },
  {
   "cell_type": "code",
   "execution_count": 4,
   "id": "fdd3d3f9",
   "metadata": {},
   "outputs": [
    {
     "name": "stdout",
     "output_type": "stream",
     "text": [
      "1 2 3 4 5 6 7 8 9 10\r\n"
     ]
    }
   ],
   "source": [
    "! echo {1..10}"
   ]
  },
  {
   "cell_type": "markdown",
   "id": "97af7e4c",
   "metadata": {},
   "source": [
    "* 单个词展开成单个词"
   ]
  },
  {
   "cell_type": "code",
   "execution_count": 6,
   "id": "bbed1c83",
   "metadata": {},
   "outputs": [
    {
     "name": "stdout",
     "output_type": "stream",
     "text": [
      "4\r\n"
     ]
    }
   ],
   "source": [
    "! echo $((2+2))"
   ]
  },
  {
   "cell_type": "code",
   "execution_count": 7,
   "id": "5cd01d52",
   "metadata": {},
   "outputs": [
    {
     "name": "stdout",
     "output_type": "stream",
     "text": [
      "fredric\r\n"
     ]
    }
   ],
   "source": [
    "! echo $(whoami)"
   ]
  },
  {
   "cell_type": "code",
   "execution_count": 19,
   "id": "0525090e",
   "metadata": {},
   "outputs": [
    {
     "name": "stdout",
     "output_type": "stream",
     "text": [
      "fredric\r\n"
     ]
    }
   ],
   "source": [
    "! echo ${USER}"
   ]
  }
 ],
 "metadata": {
  "kernelspec": {
   "display_name": "Python 3 (ipykernel)",
   "language": "python",
   "name": "python3"
  },
  "language_info": {
   "codemirror_mode": {
    "name": "ipython",
    "version": 3
   },
   "file_extension": ".py",
   "mimetype": "text/x-python",
   "name": "python",
   "nbconvert_exporter": "python",
   "pygments_lexer": "ipython3",
   "version": "3.8.17"
  }
 },
 "nbformat": 4,
 "nbformat_minor": 5
}
