{
 "cells": [
  {
   "cell_type": "code",
   "execution_count": 1,
   "id": "7325a86c-4612-49c8-8a19-496a992b9600",
   "metadata": {},
   "outputs": [
    {
     "name": "stdout",
     "output_type": "stream",
     "text": [
      "root:x:0:0:root:/root:/bin/bash\n"
     ]
    }
   ],
   "source": [
    "# 1. 查找root，然后打印\n",
    "# -n  quiet, silent\n",
    "\n",
    "! sed -n '/root/p' /etc/passwd"
   ]
  },
  {
   "cell_type": "code",
   "execution_count": 2,
   "id": "a3ce629a-8605-4d55-ab20-253f87fa9f16",
   "metadata": {},
   "outputs": [
    {
     "name": "stdout",
     "output_type": "stream",
     "text": [
      "root:x:0:0:root:/root:/bin/bash\n"
     ]
    }
   ],
   "source": [
    "# 2. 打印以root开头的\n",
    "\n",
    "! sed -n '/^root/p' /etc/passwd"
   ]
  },
  {
   "cell_type": "code",
   "execution_count": 4,
   "id": "d08fd424-82af-4318-8950-d7dd02aeba11",
   "metadata": {},
   "outputs": [
    {
     "name": "stdout",
     "output_type": "stream",
     "text": [
      "toor:x:0:0:root:/root:/bin/bash\n"
     ]
    }
   ],
   "source": [
    "# 3. 替换第一个root为toor，并打印\n",
    "! sed -n 's/^root/toor/p' /etc/passwd"
   ]
  },
  {
   "cell_type": "code",
   "execution_count": 5,
   "id": "23d5d45e-8715-4ee1-a312-9463d3ba7630",
   "metadata": {},
   "outputs": [
    {
     "name": "stdout",
     "output_type": "stream",
     "text": [
      "toor:x:0:0:root:/root:/bin/bash\n",
      "toor:x:0:0:root:/root:/bin/bash\n",
      "daemon:x:1:1:daemon:/usr/sbin:/usr/sbin/nologin\n",
      "bin:x:2:2:bin:/bin:/usr/sbin/nologin\n",
      "sys:x:3:3:sys:/dev:/usr/sbin/nologin\n",
      "sync:x:4:65534:sync:/bin:/bin/sync\n",
      "games:x:5:60:games:/usr/games:/usr/sbin/nologin\n",
      "man:x:6:12:man:/var/cache/man:/usr/sbin/nologin\n",
      "lp:x:7:7:lp:/var/spool/lpd:/usr/sbin/nologin\n",
      "mail:x:8:8:mail:/var/mail:/usr/sbin/nologin\n",
      "news:x:9:9:news:/var/spool/news:/usr/sbin/nologin\n",
      "uucp:x:10:10:uucp:/var/spool/uucp:/usr/sbin/nologin\n",
      "proxy:x:13:13:proxy:/bin:/usr/sbin/nologin\n",
      "www-data:x:33:33:www-data:/var/www:/usr/sbin/nologin\n",
      "backup:x:34:34:backup:/var/backups:/usr/sbin/nologin\n",
      "list:x:38:38:Mailing List Manager:/var/list:/usr/sbin/nologin\n",
      "irc:x:39:39:ircd:/run/ircd:/usr/sbin/nologin\n",
      "gnats:x:41:41:Gnats Bug-Reporting System (admin):/var/lib/gnats:/usr/sbin/nologin\n",
      "nobody:x:65534:65534:nobody:/nonexistent:/usr/sbin/nologin\n",
      "_apt:x:100:65534::/nonexistent:/usr/sbin/nologin\n"
     ]
    }
   ],
   "source": [
    "# 4. 如果在替换后想要打印所有行，可以去掉 -n\n",
    "\n",
    "! sed 's/^root/toor/p' /etc/passwd"
   ]
  },
  {
   "cell_type": "code",
   "execution_count": 16,
   "id": "06de53a9-159b-48cb-be63-253e44e003ac",
   "metadata": {},
   "outputs": [
    {
     "name": "stdout",
     "output_type": "stream",
     "text": [
      "root:x:uid:0:root:/root:/bin/bash\n",
      "daemon:x:uid:1:daemon:/usr/sbin:/usr/sbin/nologin\n",
      "bin:x:uid:2:bin:/bin:/usr/sbin/nologin\n",
      "sys:x:uid:3:sys:/dev:/usr/sbin/nologin\n",
      "sync:x:uid:65534:sync:/bin:/bin/sync\n",
      "games:x:uid:60:games:/usr/games:/usr/sbin/nologin\n",
      "man:x:uid:12:man:/var/cache/man:/usr/sbin/nologin\n",
      "lp:x:uid:7:lp:/var/spool/lpd:/usr/sbin/nologin\n",
      "mail:x:uid:8:mail:/var/mail:/usr/sbin/nologin\n",
      "news:x:uid:9:news:/var/spool/news:/usr/sbin/nologin\n",
      "uucp:x:uid:10:uucp:/var/spool/uucp:/usr/sbin/nologin\n",
      "proxy:x:uid:13:proxy:/bin:/usr/sbin/nologin\n",
      "www-data:x:uid:33:www-data:/var/www:/usr/sbin/nologin\n",
      "backup:x:uid:34:backup:/var/backups:/usr/sbin/nologin\n",
      "list:x:uid:38:Mailing List Manager:/var/list:/usr/sbin/nologin\n",
      "irc:x:uid:39:ircd:/run/ircd:/usr/sbin/nologin\n",
      "gnats:x:uid:41:Gnats Bug-Reporting System (admin):/var/lib/gnats:/usr/sbin/nologin\n",
      "nobody:x:65534:65534:nobody:/nonexistent:/usr/sbin/nologin\n",
      "_apt:x:uid:65534::/nonexistent:/usr/sbin/nologin\n"
     ]
    }
   ],
   "source": [
    "# 5. 将:0: --> :999: 替换成 :uid:\n",
    "# 只替换第一个，没有用g\n",
    "\n",
    "cmd='''sed -E  's/:([0-9][0-9]{0,2}):/:uid:/' /etc/passwd'''\n",
    "!{cmd}"
   ]
  },
  {
   "cell_type": "code",
   "execution_count": 18,
   "id": "4bc6ccbc-f9ee-477d-a9a5-d67bdb6b7188",
   "metadata": {},
   "outputs": [
    {
     "name": "stdout",
     "output_type": "stream",
     "text": [
      "root:x:0:root:/root:/bin/bash\n",
      "daemon:x:1:daemon:/usr/sbin:/usr/sbin/nologin\n",
      "bin:x:2:bin:/bin:/usr/sbin/nologin\n",
      "sys:x:3:sys:/dev:/usr/sbin/nologin\n",
      "sync:x:65534:sync:/bin:/bin/sync\n",
      "games:x:60:games:/usr/games:/usr/sbin/nologin\n",
      "man:x:12:man:/var/cache/man:/usr/sbin/nologin\n",
      "lp:x:7:lp:/var/spool/lpd:/usr/sbin/nologin\n",
      "mail:x:8:mail:/var/mail:/usr/sbin/nologin\n",
      "news:x:9:news:/var/spool/news:/usr/sbin/nologin\n",
      "uucp:x:10:uucp:/var/spool/uucp:/usr/sbin/nologin\n",
      "proxy:x:13:proxy:/bin:/usr/sbin/nologin\n",
      "www-data:x:33:www-data:/var/www:/usr/sbin/nologin\n",
      "backup:x:34:backup:/var/backups:/usr/sbin/nologin\n",
      "list:x:38:Mailing List Manager:/var/list:/usr/sbin/nologin\n",
      "irc:x:39:ircd:/run/ircd:/usr/sbin/nologin\n",
      "gnats:x:41:Gnats Bug-Reporting System (admin):/var/lib/gnats:/usr/sbin/nologin\n",
      "nobody:x34:65534:nobody:/nonexistent:/usr/sbin/nologin\n",
      "_apt:x:65534::/nonexistent:/usr/sbin/nologin\n"
     ]
    }
   ],
   "source": [
    "# 6. 把:0: ---> :999: 那列 uid 清空\n",
    "cmd='''\n",
    "sed -E 's/:([0-9][0-9]{0,2})//' /etc/passwd\n",
    "'''\n",
    "\n",
    "!{cmd}"
   ]
  },
  {
   "cell_type": "code",
   "execution_count": 19,
   "id": "c3267b08-82f7-40e1-ab19-44b1142ae61a",
   "metadata": {},
   "outputs": [
    {
     "name": "stdout",
     "output_type": "stream",
     "text": [
      "(076)9500963\n",
      "(076)9500964\n",
      "(076)9500965\n",
      "(076)9500966\n",
      "(076)9500967\n",
      "(076)9500968\n",
      "(076)9500969\n",
      "(076)9500970\n",
      "(076)9500971\n",
      "(076)9500972\n"
     ]
    }
   ],
   "source": [
    "# 0-9的前三位值，把他上面加个括号\n",
    "\n",
    "cmd='''\n",
    "    sed -E 's/[0-9]{3}/(&)/' ./files/phonenumbers.txt\n",
    "'''\n",
    "\n",
    "!{cmd}"
   ]
  },
  {
   "cell_type": "code",
   "execution_count": 28,
   "id": "1935560e-8033-46eb-a4b5-cbd04ca45b4c",
   "metadata": {},
   "outputs": [
    {
     "name": "stdout",
     "output_type": "stream",
     "text": [
      "0769500963\n",
      "0769500964\n",
      "0769500965\n",
      "0769500966\n",
      "0769500967\n",
      "0769500968\n",
      "0769500969\n",
      "0769500970\n",
      "0769500971\n",
      "0769500972\n"
     ]
    }
   ],
   "source": [
    "# 8. backreference，前面三个数字打括号\n",
    "# 后面四个数字之前加 -\n",
    "\n",
    "! sed -E 's/([0-9]{3})([0-9]{3})([0-9]{4})/(\\1)\\2-\\3/' ./files/phonenumbers.txt"
   ]
  }
 ],
 "metadata": {
  "kernelspec": {
   "display_name": "Python 3 (ipykernel)",
   "language": "python",
   "name": "python3"
  },
  "language_info": {
   "codemirror_mode": {
    "name": "ipython",
    "version": 3
   },
   "file_extension": ".py",
   "mimetype": "text/x-python",
   "name": "python",
   "nbconvert_exporter": "python",
   "pygments_lexer": "ipython3",
   "version": "3.10.12"
  }
 },
 "nbformat": 4,
 "nbformat_minor": 5
}
