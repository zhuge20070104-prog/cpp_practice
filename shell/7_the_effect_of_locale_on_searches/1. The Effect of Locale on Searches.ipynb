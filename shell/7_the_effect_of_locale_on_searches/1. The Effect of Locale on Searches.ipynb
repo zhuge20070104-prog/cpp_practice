{
 "cells": [
  {
   "cell_type": "markdown",
   "id": "ac5eccf0",
   "metadata": {},
   "source": [
    "* files目录的所有文件"
   ]
  },
  {
   "cell_type": "markdown",
   "id": "3d94de72",
   "metadata": {},
   "source": [
    "* 去除文件后缀的方法\n",
    "* ls | awk -F'.' '{print $1}' | xargs -I {} mv {}.txt {}"
   ]
  },
  {
   "cell_type": "code",
   "execution_count": 5,
   "id": "eb171ef9",
   "metadata": {},
   "outputs": [
    {
     "name": "stdout",
     "output_type": "stream",
     "text": [
      "a  A  À  b  B  c  C  Ç\tx  X  y  Y  z  Z\r\n"
     ]
    }
   ],
   "source": [
    "! ls ./files"
   ]
  },
  {
   "cell_type": "markdown",
   "id": "cb271378",
   "metadata": {},
   "source": [
    "* 使用range匹配，第一个小写a不见了，这与locale有关"
   ]
  },
  {
   "cell_type": "code",
   "execution_count": 7,
   "id": "6800fd07",
   "metadata": {},
   "outputs": [
    {
     "name": "stdout",
     "output_type": "stream",
     "text": [
      "files/A  files/B  files/C  files/X  files/Y  files/Z\r\n"
     ]
    }
   ],
   "source": [
    "! ls files/[A-Z]"
   ]
  },
  {
   "cell_type": "markdown",
   "id": "75890974",
   "metadata": {},
   "source": [
    "* ls [a-z]\n",
    "* 小写a-z，大写Z不见了"
   ]
  },
  {
   "cell_type": "code",
   "execution_count": 10,
   "id": "cdd624c5",
   "metadata": {},
   "outputs": [
    {
     "name": "stdout",
     "output_type": "stream",
     "text": [
      "files/a  files/b  files/c  files/x  files/y  files/z\r\n"
     ]
    }
   ],
   "source": [
    "! ls files/[a-z]"
   ]
  },
  {
   "cell_type": "markdown",
   "id": "4d69e824",
   "metadata": {},
   "source": [
    "* 我们locale里面的COLLATE，\n",
    "* 这里设置成了en_US.UTF-8\n",
    "* 把LC_COLLATE 设置成C\n",
    "* 现在正常了"
   ]
  },
  {
   "cell_type": "code",
   "execution_count": 13,
   "id": "2be858d9",
   "metadata": {},
   "outputs": [
    {
     "name": "stdout",
     "output_type": "stream",
     "text": [
      "LANG=zh_CN.UTF-8\r\n",
      "LANGUAGE=zh_CN:zh\r\n",
      "LC_CTYPE=\"zh_CN.UTF-8\"\r\n",
      "LC_NUMERIC=\"zh_CN.UTF-8\"\r\n",
      "LC_TIME=\"zh_CN.UTF-8\"\r\n",
      "LC_COLLATE=\"zh_CN.UTF-8\"\r\n",
      "LC_MONETARY=\"zh_CN.UTF-8\"\r\n",
      "LC_MESSAGES=\"zh_CN.UTF-8\"\r\n",
      "LC_PAPER=\"zh_CN.UTF-8\"\r\n",
      "LC_NAME=\"zh_CN.UTF-8\"\r\n",
      "LC_ADDRESS=\"zh_CN.UTF-8\"\r\n",
      "LC_TELEPHONE=\"zh_CN.UTF-8\"\r\n",
      "LC_MEASUREMENT=\"zh_CN.UTF-8\"\r\n",
      "LC_IDENTIFICATION=\"zh_CN.UTF-8\"\r\n",
      "LC_ALL=\r\n"
     ]
    }
   ],
   "source": [
    "! locale"
   ]
  },
  {
   "cell_type": "markdown",
   "id": "82e0a38e",
   "metadata": {},
   "source": [
    "* export LC_COLLATE=C\n",
    "* ls [a-z]\n",
    "* ls [A-Z]\n",
    "* 设置成 zh_CN.UTF-8 也可以"
   ]
  }
 ],
 "metadata": {
  "kernelspec": {
   "display_name": "Python 3 (ipykernel)",
   "language": "python",
   "name": "python3"
  },
  "language_info": {
   "codemirror_mode": {
    "name": "ipython",
    "version": 3
   },
   "file_extension": ".py",
   "mimetype": "text/x-python",
   "name": "python",
   "nbconvert_exporter": "python",
   "pygments_lexer": "ipython3",
   "version": "3.8.17"
  }
 },
 "nbformat": 4,
 "nbformat_minor": 5
}
