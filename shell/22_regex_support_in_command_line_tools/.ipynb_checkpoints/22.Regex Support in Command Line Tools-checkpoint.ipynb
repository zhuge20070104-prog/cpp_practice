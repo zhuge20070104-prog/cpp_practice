{
 "cells": [
  {
   "cell_type": "code",
   "execution_count": 4,
   "id": "4029d841-680f-4315-954d-33c59c5dc4a4",
   "metadata": {},
   "outputs": [
    {
     "name": "stdout",
     "output_type": "stream",
     "text": [
      "a+b=c\n"
     ]
    }
   ],
   "source": [
    "# 默认sed行为\n",
    "# BRE\n",
    "\n",
    "!echo 'a+b=c' | sed -n '/a+b/p'"
   ]
  },
  {
   "cell_type": "code",
   "execution_count": 7,
   "id": "dfc272a4-167b-4b0b-b131-99ddd032efa2",
   "metadata": {},
   "outputs": [
    {
     "name": "stdout",
     "output_type": "stream",
     "text": [
      "a+b=c\n"
     ]
    }
   ],
   "source": [
    "#  sed ERE\n",
    "! echo 'a+b=c' | sed -E -n '/a\\+b/p'"
   ]
  },
  {
   "cell_type": "code",
   "execution_count": 9,
   "id": "2fef5592-a252-4d58-a07d-95862d2b4bc9",
   "metadata": {},
   "outputs": [],
   "source": [
    "# awk都是ERE"
   ]
  },
  {
   "cell_type": "code",
   "execution_count": 11,
   "id": "9ab2ca0b-e5f3-4a1d-964f-09b575b05150",
   "metadata": {},
   "outputs": [],
   "source": [
    "# bash比较操作符是ERE"
   ]
  },
  {
   "cell_type": "code",
   "execution_count": 12,
   "id": "c4e13e0e-a546-40fb-a7f1-76039a5450eb",
   "metadata": {},
   "outputs": [],
   "source": [
    "# 如果想要使用ERE，那么只需要记住grep和sed的时候加上 -E就可以了，\n",
    "# 到处都是ERE了"
   ]
  }
 ],
 "metadata": {
  "kernelspec": {
   "display_name": "Python 3 (ipykernel)",
   "language": "python",
   "name": "python3"
  },
  "language_info": {
   "codemirror_mode": {
    "name": "ipython",
    "version": 3
   },
   "file_extension": ".py",
   "mimetype": "text/x-python",
   "name": "python",
   "nbconvert_exporter": "python",
   "pygments_lexer": "ipython3",
   "version": "3.11.6"
  }
 },
 "nbformat": 4,
 "nbformat_minor": 5
}
