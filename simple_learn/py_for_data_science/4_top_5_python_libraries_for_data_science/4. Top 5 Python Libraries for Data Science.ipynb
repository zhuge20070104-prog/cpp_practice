{
 "cells": [
  {
   "cell_type": "code",
   "execution_count": 1,
   "id": "387cb0f8-cf9c-41f6-b52c-992c64d7c712",
   "metadata": {},
   "outputs": [],
   "source": [
    "# 2. Tensorflow\n",
    "# 3. Tensorflow 特性\n",
    "# Better computational graph visualization\n",
    "# In neural machine translation, reduces error by 50% - 60%\n",
    "# Parallel computing to execute complex models\n",
    "# seamless library management"
   ]
  },
  {
   "cell_type": "code",
   "execution_count": 2,
   "id": "4f492a47-b0fa-49eb-b03e-36908ead8bd8",
   "metadata": {},
   "outputs": [],
   "source": [
    "# 4. Tensorflow的应用\n",
    "# Speech/image recognition\n",
    "# text based applications\n",
    "# time series\n",
    "# video detection"
   ]
  },
  {
   "cell_type": "code",
   "execution_count": 3,
   "id": "c44fff66-c22e-47ca-b34d-2900c156c9c8",
   "metadata": {},
   "outputs": [],
   "source": [
    "# 5. numpy\n",
    "# standards for numeric python\n",
    "# general purpose array-processing package\n",
    "# \n",
    "# Numpy is the fundamental package for numerical computation with Python, it contains a powerful \n",
    "# N-dimensional array object"
   ]
  },
  {
   "cell_type": "code",
   "execution_count": 4,
   "id": "3c55ec06-5a1b-477a-acf6-6e951ad9b9f0",
   "metadata": {},
   "outputs": [],
   "source": [
    "# numpy的特性\n",
    "# provides fast precompiled functions for numerical routines\n",
    "# array orentied computing for better efficiency\n",
    "# supports object-oriented approach\n",
    "# compact & fast computations with vectorization"
   ]
  },
  {
   "cell_type": "code",
   "execution_count": 5,
   "id": "f13f046b-0dd1-4054-8633-95cf99d84c2c",
   "metadata": {},
   "outputs": [],
   "source": [
    "# numpy的应用\n",
    "# Extensively used in data analysis\n",
    "# creating powerful N-dimensional array\n",
    "# forms the base of other libraries, like scipy, scikit-learn\n",
    "# replacement of matlab when used with scipy, matplotlib"
   ]
  },
  {
   "cell_type": "code",
   "execution_count": 6,
   "id": "17005131-25e3-4eb4-acb8-f7bf70601380",
   "metadata": {},
   "outputs": [
    {
     "name": "stdout",
     "output_type": "stream",
     "text": [
      "<class 'numpy.ndarray'>\n"
     ]
    }
   ],
   "source": [
    "# numpy array有很多个方法\n",
    "# 举个例子\n",
    "# 查看array类型\n",
    "\n",
    "import numpy as np\n",
    "a = np.array([1, 2, 3])\n",
    "print(type(a))"
   ]
  },
  {
   "cell_type": "code",
   "execution_count": 7,
   "id": "fc014cd2-aa30-4ed0-8f5b-4ee6dcf92a7d",
   "metadata": {},
   "outputs": [
    {
     "name": "stdout",
     "output_type": "stream",
     "text": [
      "(3,)\n"
     ]
    }
   ],
   "source": [
    "# 查看array的shape\n",
    "print(a.shape)"
   ]
  },
  {
   "cell_type": "code",
   "execution_count": 8,
   "id": "566717aa-8ae0-4070-baa5-f9fff1e1fe6e",
   "metadata": {},
   "outputs": [
    {
     "data": {
      "text/plain": [
       "array([ 0,  1,  2,  3,  4,  5,  6,  7,  8,  9, 10, 11])"
      ]
     },
     "execution_count": 8,
     "metadata": {},
     "output_type": "execute_result"
    }
   ],
   "source": [
    "# np.arrange\n",
    "b = np.arange(12)\n",
    "b"
   ]
  },
  {
   "cell_type": "code",
   "execution_count": 9,
   "id": "6cf0b246-fe7b-4553-bb6c-84849863a2f6",
   "metadata": {},
   "outputs": [
    {
     "data": {
      "text/plain": [
       "array([[ 0,  1,  2,  3],\n",
       "       [ 4,  5,  6,  7],\n",
       "       [ 8,  9, 10, 11]])"
      ]
     },
     "execution_count": 9,
     "metadata": {},
     "output_type": "execute_result"
    }
   ],
   "source": [
    "# reshape\n",
    "b.reshape(3, 4)"
   ]
  },
  {
   "cell_type": "code",
   "execution_count": 16,
   "id": "929e8b5e-7c7d-488c-9dd1-51e105105baf",
   "metadata": {},
   "outputs": [
    {
     "data": {
      "text/plain": [
       "array([[ 0,  1,  2,  3],\n",
       "       [ 4,  5,  6,  7],\n",
       "       [ 8,  9, 10, 11]])"
      ]
     },
     "execution_count": 16,
     "metadata": {},
     "output_type": "execute_result"
    }
   ],
   "source": [
    "# fluent 接口\n",
    "b = np.arange(12).reshape(3, 4)\n",
    "b"
   ]
  },
  {
   "cell_type": "code",
   "execution_count": 17,
   "id": "a6297ee5-a211-467a-89df-278d84fac29a",
   "metadata": {},
   "outputs": [
    {
     "data": {
      "text/plain": [
       "array([[ 1,  2,  3,  4],\n",
       "       [ 5,  6,  7,  8],\n",
       "       [ 9, 10, 11, 12]])"
      ]
     },
     "execution_count": 17,
     "metadata": {},
     "output_type": "execute_result"
    }
   ],
   "source": [
    "# fluent 接口\n",
    "b = np.arange(13)[1:].reshape(3, 4)\n",
    "b"
   ]
  },
  {
   "cell_type": "code",
   "execution_count": 19,
   "id": "9394ee2e-b215-48a0-b1da-6ff4f278cf86",
   "metadata": {},
   "outputs": [],
   "source": [
    "# 6. scipy\n",
    "# scipy特性\n",
    "# A collection of mathematical algorithms and scientific functions built on the numpy extension of python\n",
    "# high-level commands and classes for manipulating and visualizing data\n",
    "# multi-dimensional image processing with scipy.ndimage\n",
    "# includes functions for computing integrals numerically, solving differential equations, optimization, etc"
   ]
  },
  {
   "cell_type": "code",
   "execution_count": 20,
   "id": "dabbd384-2b9f-4c34-b993-977ed23c7141",
   "metadata": {},
   "outputs": [],
   "source": [
    "# scipy 应用\n",
    "# multi-dimensional image operations\n",
    "# solving differential equations & fourier transform\n",
    "# optimization algorithms\n",
    "# linear algebra"
   ]
  },
  {
   "cell_type": "code",
   "execution_count": 21,
   "id": "966f3944-6554-4bf0-a06c-a194207ecaf3",
   "metadata": {},
   "outputs": [],
   "source": [
    "# 7. Pandas\n",
    "# stands for python data analysis library\n",
    "# used for data analysis and cleaning\n",
    "# \n",
    "# It provides fast, flexible, and expressive data structures designed to work with structured data easily and intuitively"
   ]
  },
  {
   "cell_type": "code",
   "execution_count": 22,
   "id": "d1971dba-33af-44ee-9890-04dd5d818e9e",
   "metadata": {},
   "outputs": [],
   "source": [
    "# Pandas特性\n",
    "# Eloquent syntax & rich functionality\n",
    "# apply() enables you to run a function across a series of data\n",
    "# high level abstraction\n",
    "# contains high-level data structures & manipulation tools"
   ]
  },
  {
   "cell_type": "code",
   "execution_count": 23,
   "id": "c6284954-37a1-40f4-94c3-002e0a8c1a73",
   "metadata": {},
   "outputs": [],
   "source": [
    "# Pandas应用\n",
    "# general data wrangling 一般数据预处理\n",
    "# ETL jobs & data storage\n",
    "# used in a wide variety of academic and commercial domains, including statistics, etc\n",
    "# time series-specific functionality"
   ]
  },
  {
   "cell_type": "code",
   "execution_count": 24,
   "id": "665f0f05-5650-4203-aea9-bc6a8d5bce80",
   "metadata": {},
   "outputs": [
    {
     "data": {
      "text/html": [
       "<div>\n",
       "<style scoped>\n",
       "    .dataframe tbody tr th:only-of-type {\n",
       "        vertical-align: middle;\n",
       "    }\n",
       "\n",
       "    .dataframe tbody tr th {\n",
       "        vertical-align: top;\n",
       "    }\n",
       "\n",
       "    .dataframe thead th {\n",
       "        text-align: right;\n",
       "    }\n",
       "</style>\n",
       "<table border=\"1\" class=\"dataframe\">\n",
       "  <thead>\n",
       "    <tr style=\"text-align: right;\">\n",
       "      <th></th>\n",
       "      <th>A</th>\n",
       "      <th>B</th>\n",
       "      <th>C</th>\n",
       "      <th>D</th>\n",
       "    </tr>\n",
       "  </thead>\n",
       "  <tbody>\n",
       "    <tr>\n",
       "      <th>0</th>\n",
       "      <td>-0.864293</td>\n",
       "      <td>-0.410745</td>\n",
       "      <td>0.640145</td>\n",
       "      <td>-0.026196</td>\n",
       "    </tr>\n",
       "    <tr>\n",
       "      <th>1</th>\n",
       "      <td>2.035551</td>\n",
       "      <td>0.768377</td>\n",
       "      <td>-0.896963</td>\n",
       "      <td>-1.822944</td>\n",
       "    </tr>\n",
       "    <tr>\n",
       "      <th>2</th>\n",
       "      <td>-0.610522</td>\n",
       "      <td>0.050710</td>\n",
       "      <td>1.473553</td>\n",
       "      <td>0.481340</td>\n",
       "    </tr>\n",
       "    <tr>\n",
       "      <th>3</th>\n",
       "      <td>-0.396660</td>\n",
       "      <td>1.838652</td>\n",
       "      <td>0.336234</td>\n",
       "      <td>0.466678</td>\n",
       "    </tr>\n",
       "    <tr>\n",
       "      <th>4</th>\n",
       "      <td>0.625707</td>\n",
       "      <td>-0.496268</td>\n",
       "      <td>-1.075553</td>\n",
       "      <td>0.369451</td>\n",
       "    </tr>\n",
       "    <tr>\n",
       "      <th>5</th>\n",
       "      <td>-1.008478</td>\n",
       "      <td>-0.841019</td>\n",
       "      <td>0.603727</td>\n",
       "      <td>-0.708899</td>\n",
       "    </tr>\n",
       "  </tbody>\n",
       "</table>\n",
       "</div>"
      ],
      "text/plain": [
       "          A         B         C         D\n",
       "0 -0.864293 -0.410745  0.640145 -0.026196\n",
       "1  2.035551  0.768377 -0.896963 -1.822944\n",
       "2 -0.610522  0.050710  1.473553  0.481340\n",
       "3 -0.396660  1.838652  0.336234  0.466678\n",
       "4  0.625707 -0.496268 -1.075553  0.369451\n",
       "5 -1.008478 -0.841019  0.603727 -0.708899"
      ]
     },
     "execution_count": 24,
     "metadata": {},
     "output_type": "execute_result"
    }
   ],
   "source": [
    "# 创建DataFrame\n",
    "import pandas as pd \n",
    "df = pd.DataFrame(np.random.randn(6, 4), index=list(range(0, 6)), columns=list('ABCD'))\n",
    "df"
   ]
  },
  {
   "cell_type": "code",
   "execution_count": 25,
   "id": "8c879d51-218c-40fd-b4f7-a05069b3907f",
   "metadata": {},
   "outputs": [
    {
     "data": {
      "text/html": [
       "<div>\n",
       "<style scoped>\n",
       "    .dataframe tbody tr th:only-of-type {\n",
       "        vertical-align: middle;\n",
       "    }\n",
       "\n",
       "    .dataframe tbody tr th {\n",
       "        vertical-align: top;\n",
       "    }\n",
       "\n",
       "    .dataframe thead th {\n",
       "        text-align: right;\n",
       "    }\n",
       "</style>\n",
       "<table border=\"1\" class=\"dataframe\">\n",
       "  <thead>\n",
       "    <tr style=\"text-align: right;\">\n",
       "      <th></th>\n",
       "      <th>A</th>\n",
       "      <th>B</th>\n",
       "      <th>C</th>\n",
       "      <th>D</th>\n",
       "    </tr>\n",
       "  </thead>\n",
       "  <tbody>\n",
       "    <tr>\n",
       "      <th>count</th>\n",
       "      <td>6.000000</td>\n",
       "      <td>6.000000</td>\n",
       "      <td>6.000000</td>\n",
       "      <td>6.000000</td>\n",
       "    </tr>\n",
       "    <tr>\n",
       "      <th>mean</th>\n",
       "      <td>-0.036449</td>\n",
       "      <td>0.151618</td>\n",
       "      <td>0.180190</td>\n",
       "      <td>-0.206762</td>\n",
       "    </tr>\n",
       "    <tr>\n",
       "      <th>std</th>\n",
       "      <td>1.168000</td>\n",
       "      <td>0.995791</td>\n",
       "      <td>0.982367</td>\n",
       "      <td>0.911682</td>\n",
       "    </tr>\n",
       "    <tr>\n",
       "      <th>min</th>\n",
       "      <td>-1.008478</td>\n",
       "      <td>-0.841019</td>\n",
       "      <td>-1.075553</td>\n",
       "      <td>-1.822944</td>\n",
       "    </tr>\n",
       "    <tr>\n",
       "      <th>25%</th>\n",
       "      <td>-0.800851</td>\n",
       "      <td>-0.474888</td>\n",
       "      <td>-0.588664</td>\n",
       "      <td>-0.538223</td>\n",
       "    </tr>\n",
       "    <tr>\n",
       "      <th>50%</th>\n",
       "      <td>-0.503591</td>\n",
       "      <td>-0.180018</td>\n",
       "      <td>0.469980</td>\n",
       "      <td>0.171627</td>\n",
       "    </tr>\n",
       "    <tr>\n",
       "      <th>75%</th>\n",
       "      <td>0.370116</td>\n",
       "      <td>0.588960</td>\n",
       "      <td>0.631041</td>\n",
       "      <td>0.442372</td>\n",
       "    </tr>\n",
       "    <tr>\n",
       "      <th>max</th>\n",
       "      <td>2.035551</td>\n",
       "      <td>1.838652</td>\n",
       "      <td>1.473553</td>\n",
       "      <td>0.481340</td>\n",
       "    </tr>\n",
       "  </tbody>\n",
       "</table>\n",
       "</div>"
      ],
      "text/plain": [
       "              A         B         C         D\n",
       "count  6.000000  6.000000  6.000000  6.000000\n",
       "mean  -0.036449  0.151618  0.180190 -0.206762\n",
       "std    1.168000  0.995791  0.982367  0.911682\n",
       "min   -1.008478 -0.841019 -1.075553 -1.822944\n",
       "25%   -0.800851 -0.474888 -0.588664 -0.538223\n",
       "50%   -0.503591 -0.180018  0.469980  0.171627\n",
       "75%    0.370116  0.588960  0.631041  0.442372\n",
       "max    2.035551  1.838652  1.473553  0.481340"
      ]
     },
     "execution_count": 25,
     "metadata": {},
     "output_type": "execute_result"
    }
   ],
   "source": [
    "# describe查看详情, count，均值，最大值，最小值等\n",
    "df.describe()"
   ]
  },
  {
   "cell_type": "code",
   "execution_count": 26,
   "id": "8322ba2f-01ca-4f84-8742-551bb7ec79c2",
   "metadata": {},
   "outputs": [],
   "source": [
    "# 8. matplotlib\n",
    "# plotting library for python\n",
    "# used for data visualization\n",
    "# \n",
    "# It provides an object-oriented API for embedding plots into applications"
   ]
  },
  {
   "cell_type": "code",
   "execution_count": 27,
   "id": "f62784e4-b3cb-426b-9ffa-2d7760ddb88e",
   "metadata": {},
   "outputs": [],
   "source": [
    "# matplotlib 特性\n",
    "# as usable as matlab with an advantage of being free and open-source\n",
    "# supports dozens of backends & output types\n",
    "# pandas itself can be used as wrappers around matplotlib's API\n",
    "# smaller memory consumption & better runtime behavior"
   ]
  },
  {
   "cell_type": "code",
   "execution_count": 29,
   "id": "2d1db687-877f-482c-893f-86b243125d97",
   "metadata": {},
   "outputs": [],
   "source": [
    "# matplotlib的应用\n",
    "# correlation analysis of variables\n",
    "# visualize 95% confidence intervals of the models\n",
    "# outlier detection # 异常值检测\n",
    "# Visualizing distributions to gain instant insights 通过可视化分布来快速获取洞察"
   ]
  },
  {
   "cell_type": "code",
   "execution_count": 31,
   "id": "27cd7ed7-cfa8-453c-9962-4733f15961b6",
   "metadata": {},
   "outputs": [],
   "source": [
    "# 简单绘图\n",
    "# area就是 随机指定 scatter 散点的大小\n",
    "\n",
    "import numpy as np\n",
    "import matplotlib.pyplot as plt\n",
    "%matplotlib inline\n",
    "\n",
    "np.random.seed(10)\n",
    "\n",
    "N = 30\n",
    "x = np.random.rand(N)\n",
    "y = np.random.rand(N)\n",
    "\n",
    "colors = np.random.rand(N)\n",
    "\n",
    "area = (30* np.random.rand(N)) ** 2"
   ]
  },
  {
   "cell_type": "code",
   "execution_count": 33,
   "id": "c477246e-344b-4ee8-9dff-a07e65ae56b6",
   "metadata": {},
   "outputs": [
    {
     "data": {
      "text/plain": [
       "(array([0.77132064, 0.02075195, 0.63364823, 0.74880388, 0.49850701,\n",
       "        0.22479665, 0.19806286, 0.76053071, 0.16911084, 0.08833981,\n",
       "        0.68535982, 0.95339335, 0.00394827, 0.51219226, 0.81262096,\n",
       "        0.61252607, 0.72175532, 0.29187607, 0.91777412, 0.71457578,\n",
       "        0.54254437, 0.14217005, 0.37334076, 0.67413362, 0.44183317,\n",
       "        0.43401399, 0.61776698, 0.51313824, 0.65039718, 0.60103895]),\n",
       " array([0.8052232 , 0.52164715, 0.90864888, 0.31923609, 0.09045935,\n",
       "        0.30070006, 0.11398436, 0.82868133, 0.04689632, 0.62628715,\n",
       "        0.54758616, 0.819287  , 0.19894754, 0.8568503 , 0.35165264,\n",
       "        0.75464769, 0.29596171, 0.88393648, 0.32551164, 0.1650159 ,\n",
       "        0.39252924, 0.09346037, 0.82110566, 0.15115202, 0.38411445,\n",
       "        0.94426071, 0.98762547, 0.45630455, 0.82612284, 0.25137413]),\n",
       " array([0.59737165, 0.90283176, 0.53455795, 0.59020136, 0.03928177,\n",
       "        0.35718176, 0.07961309, 0.30545992, 0.33071931, 0.7738303 ,\n",
       "        0.03995921, 0.42949218, 0.31492687, 0.63649114, 0.34634715,\n",
       "        0.04309736, 0.87991517, 0.76324059, 0.87809664, 0.41750914,\n",
       "        0.60557756, 0.51346663, 0.59783665, 0.26221566, 0.30087131,\n",
       "        0.02539978, 0.30306256, 0.24207588, 0.55757819, 0.56550702]),\n",
       " array([203.17558728,  77.15758943,   3.71537892, 862.27822809,\n",
       "        103.86127713, 220.56583224, 859.21807047, 174.85340825,\n",
       "         91.16782084, 243.17001587, 300.8175584 , 656.28256522,\n",
       "          4.1735148 , 194.20998424, 550.2999817 , 464.75099918,\n",
       "        309.07958499,   1.23839594, 110.66391427, 285.46537239,\n",
       "         80.85419678, 236.23765615, 408.20192951,  22.80838027,\n",
       "          2.29319567, 102.7076162 ,  10.51000109,  28.80559342,\n",
       "        706.22067987, 120.14240597]))"
      ]
     },
     "execution_count": 33,
     "metadata": {},
     "output_type": "execute_result"
    }
   ],
   "source": [
    "x, y , colors, area"
   ]
  },
  {
   "cell_type": "code",
   "execution_count": 34,
   "id": "2cc005a1-283d-4b33-8ff6-cb381c61a3cc",
   "metadata": {},
   "outputs": [
    {
     "data": {
      "image/png": "[encoded data removed]",
      "text/plain": [
       "<Figure size 640x480 with 1 Axes>"
      ]
     },
     "metadata": {},
     "output_type": "display_data"
    }
   ],
   "source": [
    "plt.scatter(x, y, s=area, c=colors, alpha=0.4)\n",
    "plt.show()"
   ]
  },
  {
   "cell_type": "code",
   "execution_count": 35,
   "id": "98adf99a-7129-47e8-b720-62859ec1d721",
   "metadata": {},
   "outputs": [
    {
     "data": {
      "image/png": "[encoded data removed]",
      "text/plain": [
       "<Figure size 640x480 with 1 Axes>"
      ]
     },
     "metadata": {},
     "output_type": "display_data"
    }
   ],
   "source": [
    "# 画bar图，坐标有重合，有点乱\n",
    "\n",
    "from matplotlib import style\n",
    "style.use('ggplot')\n",
    "\n",
    "x = [2, 4 ,6]\n",
    "y = [12, 14, 16]\n",
    "\n",
    "x2 = [1, 3, 5]\n",
    "y2 = [7, 14, 5]\n",
    "\n",
    "plt.bar(x, y, color='r', align='center')\n",
    "plt.bar(x2, y2, color='b', align='center')\n",
    "\n",
    "plt.title('Info')\n",
    "plt.ylabel('Y axis')\n",
    "plt.xlabel('X axis')\n",
    "\n",
    "plt.show()\n"
   ]
  },
  {
   "cell_type": "code",
   "execution_count": 36,
   "id": "d48546e4-9b6a-4485-8ccd-8cc1f6a33f49",
   "metadata": {},
   "outputs": [],
   "source": [
    "# 9. 还有其他库\n",
    "# Keras, scikitlearn, seaborn\n",
    "\n",
    "# Keras, like tensorflow, 'keras' is another popular library extensively used for deep learning modules\n",
    "\n",
    "# scikitlearn, scikit learn is a machine learning library designed to interpolate with numpy & scipy \n",
    "# scikit-learn是一个与numpy和scipy配合使用的机器学习库\n",
    "\n",
    "# seaborn, seaborn is another library for data visulization built on top of matplotlib, it introduces addtional plot types"
   ]
  }
 ],
 "metadata": {
  "kernelspec": {
   "display_name": "Python 3 (ipykernel)",
   "language": "python",
   "name": "python3"
  },
  "language_info": {
   "codemirror_mode": {
    "name": "ipython",
    "version": 3
   },
   "file_extension": ".py",
   "mimetype": "text/x-python",
   "name": "python",
   "nbconvert_exporter": "python",
   "pygments_lexer": "ipython3",
   "version": "3.11.0rc1"
  }
 },
 "nbformat": 4,
 "nbformat_minor": 5
}
