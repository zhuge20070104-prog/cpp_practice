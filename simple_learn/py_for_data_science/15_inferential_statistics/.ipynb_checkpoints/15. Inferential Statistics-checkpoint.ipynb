{
 "cells": [
  {
   "cell_type": "code",
   "execution_count": 1,
   "id": "567a8e9c-77d5-438e-b771-aa4c9323099c",
   "metadata": {},
   "outputs": [],
   "source": [
    "# 1. 推理统计\n",
    "# 例如从一个影评样本中我们可以推测\n",
    "# a) 55%的人喜欢这个电影\n",
    "# b) 35%的人不喜欢这个电影\n",
    "# c) 10%的人没有说话"
   ]
  },
  {
   "cell_type": "markdown",
   "id": "f553430d-1194-476a-b36a-276131ce71cf",
   "metadata": {},
   "source": [
    "<img src=\"./inference_status.png\" width=800 height=480>"
   ]
  },
  {
   "cell_type": "code",
   "execution_count": 2,
   "id": "425fd098-a4e5-4ef5-8f52-1557455ff288",
   "metadata": {},
   "outputs": [],
   "source": [
    "# 2. 点估计\n",
    "# 从总体的随机采样中找出一个近似的总体参数，例如平均值\n",
    "# 新冠疫苗测试的例子\n",
    "# Medical trials - 医学实验"
   ]
  },
  {
   "cell_type": "markdown",
   "id": "9b83df8d-907b-44ad-a8b1-6effad3009e2",
   "metadata": {},
   "source": [
    "<img src=\"./inference_status1.png\" width=800 height=480>"
   ]
  },
  {
   "cell_type": "code",
   "execution_count": 3,
   "id": "9ea85e33-3ac1-4912-911a-dbc30d4a8e98",
   "metadata": {},
   "outputs": [],
   "source": [
    "# 3. 推理统计的应用\n",
    "# a) 假设检验\n",
    "# b) 置信区间\n",
    "# c) 二项式定理\n",
    "# d) 正态分布\n",
    "# e) 中心极限定理"
   ]
  },
  {
   "cell_type": "markdown",
   "id": "24f9c91a-a291-466f-bca6-f78b69f8f72b",
   "metadata": {},
   "source": [
    "<img src=\"./inference_status2.png\" width=800 height=480>"
   ]
  },
  {
   "cell_type": "code",
   "execution_count": 4,
   "id": "689da0b0-01bc-49a4-8f9e-d62465303704",
   "metadata": {},
   "outputs": [],
   "source": [
    "# 4. 假设验证\n",
    "# 通过样本数据度量看上去合理的假设"
   ]
  },
  {
   "cell_type": "markdown",
   "id": "5cdbcbda-cda8-46de-9e6d-3137227ce660",
   "metadata": {},
   "source": [
    "<img src=\"./inference_status3.png\" width=800 height=480>"
   ]
  },
  {
   "cell_type": "code",
   "execution_count": 6,
   "id": "1b9085f3-4004-4227-a279-a9f71ac4df69",
   "metadata": {},
   "outputs": [],
   "source": [
    "# 5. 假设验证 例子\n",
    "# 4张纸条选一张\n",
    "# 决定谁来做清洁"
   ]
  },
  {
   "cell_type": "markdown",
   "id": "aa4254df-9acb-4c2a-a074-5e544a2a96a5",
   "metadata": {},
   "source": [
    "<img src=\"./inference_status4.png\" width=800 height=480>\n",
    "<img src=\"./inference_status5.png\" width=800 height=480>\n",
    "<img src=\"./inference_status6.png\" width=800 height=480>"
   ]
  },
  {
   "cell_type": "code",
   "execution_count": 7,
   "id": "489487b2-5cb0-478a-a524-889828b7c4fb",
   "metadata": {},
   "outputs": [],
   "source": [
    "# 6. 重要术语"
   ]
  },
  {
   "cell_type": "markdown",
   "id": "21726590-afc2-4168-bf9b-a32fbe7ccece",
   "metadata": {},
   "source": [
    "<img src=\"./inference_status7.png\" width=800 height=480>"
   ]
  },
  {
   "cell_type": "code",
   "execution_count": 8,
   "id": "ee2c1323-9240-48a5-b8b6-df5bdff18b48",
   "metadata": {},
   "outputs": [],
   "source": [
    "# 7. 例子\n",
    "# P Value是支持 替代假设的[Alternative 假设]，反对null 假设"
   ]
  },
  {
   "cell_type": "markdown",
   "id": "dbc7cb9d-8be6-449b-98a0-4ae33b3dea11",
   "metadata": {},
   "source": [
    "<img src=\"./inference_status8.png\" width=800 height=480>"
   ]
  },
  {
   "cell_type": "code",
   "execution_count": 9,
   "id": "58c699d1-0a55-46e9-ac78-771e2a59e9ec",
   "metadata": {},
   "outputs": [],
   "source": [
    "# 8. 置信区间\n",
    "# 多少罐 狗粮"
   ]
  },
  {
   "cell_type": "markdown",
   "id": "a3484055-5053-454a-af20-c9ae5bcb0793",
   "metadata": {},
   "source": [
    "<img src=\"./inference_status9.png\" width=800 height=480>"
   ]
  }
 ],
 "metadata": {
  "kernelspec": {
   "display_name": "Python 3 (ipykernel)",
   "language": "python",
   "name": "python3"
  },
  "language_info": {
   "codemirror_mode": {
    "name": "ipython",
    "version": 3
   },
   "file_extension": ".py",
   "mimetype": "text/x-python",
   "name": "python",
   "nbconvert_exporter": "python",
   "pygments_lexer": "ipython3",
   "version": "3.11.0rc1"
  }
 },
 "nbformat": 4,
 "nbformat_minor": 5
}
