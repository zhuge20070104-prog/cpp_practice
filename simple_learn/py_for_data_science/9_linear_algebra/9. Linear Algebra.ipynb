{
 "cells": [
  {
   "cell_type": "code",
   "execution_count": 1,
   "id": "3a7742da-d5f2-463d-8fa8-7a372315fadf",
   "metadata": {},
   "outputs": [],
   "source": [
    "# 1. 线性代数是什么？\n",
    "# Linear algebra is the domain of mathematics concerning linear equations and their representations \n",
    "# in vector spaces and through matrices\n",
    "\n",
    "# Linear equations \n",
    "# vectors \n",
    "# Matrix operations"
   ]
  },
  {
   "cell_type": "code",
   "execution_count": 2,
   "id": "ffbb084d-2362-414e-b626-cd28ecdac2c8",
   "metadata": {},
   "outputs": [],
   "source": [
    "# 2. 线性方程，最大阶数为1的方程叫线性方程\n",
    "# An equation have a maximum order of one is called a Linear Equation\n",
    "# Standard form of Linear Equation\n",
    "# One variable: Ax + B = C\n",
    "# Two variables: Ax + By = C\n",
    "# Three variables: Ax + By + Cz = D\n",
    "# N variables: Ax + By + Cz + ... = N"
   ]
  },
  {
   "cell_type": "markdown",
   "id": "04de4193-3710-4dd9-a317-dc861a93a59c",
   "metadata": {},
   "source": [
    "<img src=\"./linear_equations.png\" width=380 height=240>"
   ]
  },
  {
   "cell_type": "code",
   "execution_count": 4,
   "id": "e4f32a90-1542-4c25-afd2-274dd0d6274a",
   "metadata": {},
   "outputs": [],
   "source": [
    "# 3. 线性方程的斜率，截距表示\n",
    "\n",
    "# Linear equations\n",
    "# In slope-intercept form, a linear equation can be represented as "
   ]
  },
  {
   "cell_type": "markdown",
   "id": "861079c6-4542-49d0-a1f0-0f030907607a",
   "metadata": {},
   "source": [
    "<img src=\"./slope_and_y_values.png\" width=320 height=240>"
   ]
  },
  {
   "cell_type": "code",
   "execution_count": 6,
   "id": "7635c638-d3c9-427c-8cab-2788ec888574",
   "metadata": {},
   "outputs": [],
   "source": [
    "# 4. 矩阵\n",
    "# Matrices\n",
    "# A matrix refers to a rectangular representation of an array of numbers\n",
    "# arranged in columns and rows"
   ]
  },
  {
   "cell_type": "markdown",
   "id": "391c6ad5-5ba1-4fee-a427-6835ba5afc0f",
   "metadata": {},
   "source": [
    "<img src=\"matrics.png\" width=800 height=400>"
   ]
  },
  {
   "cell_type": "code",
   "execution_count": 7,
   "id": "e80a2fe5-671e-4618-8342-87c514e89032",
   "metadata": {},
   "outputs": [],
   "source": [
    "# 5. 矩阵操作，加法和减法"
   ]
  },
  {
   "cell_type": "markdown",
   "id": "bd251c1a-117c-4c9e-b02a-19509f7942a4",
   "metadata": {},
   "source": [
    "<img src=\"./add_and_substract.png\" width=800 height=400>"
   ]
  },
  {
   "cell_type": "code",
   "execution_count": 9,
   "id": "547284da-fa1b-45d4-b367-9c1d3e9af2ac",
   "metadata": {},
   "outputs": [],
   "source": [
    "# 6. 矩阵乘法"
   ]
  },
  {
   "cell_type": "markdown",
   "id": "3fab0765-759a-410c-bbe2-5d6cc22f7afe",
   "metadata": {},
   "source": [
    "<img src=\"./multiplication.png\" width=800 height=400>"
   ]
  },
  {
   "cell_type": "code",
   "execution_count": 10,
   "id": "ec9f2bd3-8f72-4e1e-8f51-f88da71cc0dc",
   "metadata": {},
   "outputs": [],
   "source": [
    "# 7. 矩阵的转秩和取逆"
   ]
  },
  {
   "cell_type": "markdown",
   "id": "f6c1e8a1-5454-418e-860b-472744bc02c7",
   "metadata": {},
   "source": [
    "<img src=\"./transpose_and_inverse.png\" width=800 height=400>"
   ]
  },
  {
   "cell_type": "code",
   "execution_count": 11,
   "id": "b136e3ec-3ce5-462a-9a33-4f6c8b9ae07d",
   "metadata": {},
   "outputs": [],
   "source": [
    "# 8. vectors\n",
    "# In mathematics, one dimensional matrix is called a vector"
   ]
  },
  {
   "cell_type": "markdown",
   "id": "a37b5613-3ada-4552-8f44-4ed0a25fe084",
   "metadata": {},
   "source": [
    "<img src=\"./vectors.png\" width=800 height=400>"
   ]
  },
  {
   "cell_type": "code",
   "execution_count": 13,
   "id": "f76c4a1c-24d5-44a4-be08-67d32fc23472",
   "metadata": {},
   "outputs": [],
   "source": [
    "# 9.特征值和特征向量\n",
    "# \"Eigen vector\"（特征向量）是一个数学概念，主要在线性代数和矩阵理论中使用。\n",
    "# 具体来说，一个特征向量是一个非零向量，它在给定的线性变换下，只发生长度（或称为大小）的变化，而不改变其方向。\n",
    "# 这个变化的比例被称为特征值（Eigenvalue）。\n",
    "# 换句话说，如果A是一个n×n的矩阵，x是一个n维向量，\n",
    "# 那么当且仅当存在某个实数λ（称为该向量的特征值）使得等式A * x = λ * x成立时，x就被称为A的特征向量。"
   ]
  },
  {
   "cell_type": "markdown",
   "id": "de2dd929-012a-4096-b825-fdc78c53e4b9",
   "metadata": {},
   "source": [
    "<img src=\"./eigen_value.png\" width=800 height=400>"
   ]
  }
 ],
 "metadata": {
  "kernelspec": {
   "display_name": "Python 3 (ipykernel)",
   "language": "python",
   "name": "python3"
  },
  "language_info": {
   "codemirror_mode": {
    "name": "ipython",
    "version": 3
   },
   "file_extension": ".py",
   "mimetype": "text/x-python",
   "name": "python",
   "nbconvert_exporter": "python",
   "pygments_lexer": "ipython3",
   "version": "3.11.0rc1"
  }
 },
 "nbformat": 4,
 "nbformat_minor": 5
}
