{
 "cells": [
  {
   "cell_type": "code",
   "execution_count": 1,
   "id": "46aa6d27-6363-4bf0-a588-8442fe3a366a",
   "metadata": {},
   "outputs": [],
   "source": [
    "# 1.统计学"
   ]
  },
  {
   "cell_type": "markdown",
   "id": "467b2117-7571-465d-90ba-b1880a5d808d",
   "metadata": {},
   "source": [
    "<img src=\"./1_statistics.png\" width=800 height=480>"
   ]
  },
  {
   "cell_type": "code",
   "execution_count": 2,
   "id": "51ccbd04-6e9d-4729-bda3-4fb4f540c94d",
   "metadata": {},
   "outputs": [],
   "source": [
    "# 2. 重要术语"
   ]
  },
  {
   "cell_type": "markdown",
   "id": "7b2bbfae-8e00-48a7-a4d6-517c7f727408",
   "metadata": {},
   "source": [
    "<img src=\"2_statistics.png\" width=800 height=480>"
   ]
  },
  {
   "cell_type": "code",
   "execution_count": 4,
   "id": "7ebc1785-21b3-4fe8-8084-be6f64d4b8d1",
   "metadata": {},
   "outputs": [],
   "source": [
    "# 3. 采样方式，\n",
    "# 基于概率的采样，和不基于概率的采样"
   ]
  },
  {
   "cell_type": "markdown",
   "id": "9e005f1c-f0ec-4292-a38e-1556afdec03d",
   "metadata": {},
   "source": [
    "<img src=\"./3_statistics.png\" width=800 height=480>"
   ]
  },
  {
   "cell_type": "code",
   "execution_count": 5,
   "id": "d5d43f49-3c27-4291-85b3-29e69dd3eea3",
   "metadata": {},
   "outputs": [],
   "source": [
    "# 4. 基于概率的采样"
   ]
  },
  {
   "cell_type": "markdown",
   "id": "1980494e-b7f5-480a-981e-766e80e10cd5",
   "metadata": {},
   "source": [
    "<img src=\"./4_statistics.png\" width=800 height=480>"
   ]
  },
  {
   "cell_type": "code",
   "execution_count": 6,
   "id": "a5b677d5-5c47-4cb4-9293-a62368b64e77",
   "metadata": {},
   "outputs": [],
   "source": [
    "# 5. 基于概率的采样的例子"
   ]
  },
  {
   "cell_type": "markdown",
   "id": "c52534a2-e529-4840-9b8d-45db7b5dc88e",
   "metadata": {},
   "source": [
    "<img src=\"./5_statistics.png\" width=800 height=480>"
   ]
  },
  {
   "cell_type": "code",
   "execution_count": 7,
   "id": "25c1e96a-30a2-4ce7-a6d6-2ac5b00fad63",
   "metadata": {},
   "outputs": [],
   "source": [
    "# 6. 统计学类型\n",
    "# a) 描述统计学\n",
    "#   根据数据总体得出结论\n",
    "# b) 推论统计学\n",
    "#   推论统计学，根据样本对总体进行推论\n",
    "#   例如这个药对80%的样本有效，对20%的样本无效。\n",
    "#   我们推论出这个药对 总体有效。"
   ]
  },
  {
   "cell_type": "markdown",
   "id": "0b740096-9b67-41dc-a506-1a1cd8778006",
   "metadata": {},
   "source": [
    "<img src=\"./6_statistics.png\" width=800 height=480>"
   ]
  },
  {
   "cell_type": "code",
   "execution_count": 8,
   "id": "b62d8296-a34b-4024-9132-c690c58a2439",
   "metadata": {},
   "outputs": [],
   "source": [
    "# 7. 描述性统计学概述"
   ]
  },
  {
   "cell_type": "markdown",
   "id": "92b5cda3-c5e5-4948-8599-90033b70a313",
   "metadata": {},
   "source": [
    "<img src=\"./7_statistics.png\" width=800 height=480>"
   ]
  },
  {
   "cell_type": "code",
   "execution_count": 9,
   "id": "e71ac74e-9da4-41c0-ad75-6b6e5990c027",
   "metadata": {},
   "outputs": [],
   "source": [
    "# 8. 中心趋势度量的三个量的含义"
   ]
  },
  {
   "cell_type": "markdown",
   "id": "2e5b9ff6-c76c-48a5-b854-4f009a0d2360",
   "metadata": {},
   "source": [
    "<img src=\"./8_statistics.png\" width=800 height=480>"
   ]
  },
  {
   "cell_type": "code",
   "execution_count": 10,
   "id": "832dcf4c-9497-41b6-99de-37450880e6e7",
   "metadata": {},
   "outputs": [],
   "source": [
    "# 9. 均值，中位数和众数举例"
   ]
  },
  {
   "cell_type": "markdown",
   "id": "974c648b-ef16-43b4-bcfb-d9c4942e32a2",
   "metadata": {},
   "source": [
    "<img src=\"./9_statistics.png\" width=800 height=480>"
   ]
  },
  {
   "cell_type": "code",
   "execution_count": 11,
   "id": "3edcd948-73fc-49bf-bcb1-47cb3a648382",
   "metadata": {},
   "outputs": [],
   "source": [
    "# 10. 广度度量的4个量"
   ]
  },
  {
   "cell_type": "markdown",
   "id": "dd6dd0ae-fa0b-486c-83ac-6b0de315c8bc",
   "metadata": {},
   "source": [
    "<img src=\"./10_statistics.png\" width=800 height=480>"
   ]
  },
  {
   "cell_type": "code",
   "execution_count": 12,
   "id": "d9bac8f7-af96-41ad-a7a1-686d3ebb9877",
   "metadata": {},
   "outputs": [],
   "source": [
    "# 11. Measure of Spread 举例"
   ]
  },
  {
   "cell_type": "code",
   "execution_count": 13,
   "id": "1936a320-959e-49ca-a6e3-8a3776edde56",
   "metadata": {},
   "outputs": [],
   "source": [
    "# Range"
   ]
  },
  {
   "cell_type": "markdown",
   "id": "9ebc5f9b-d4ff-4b95-86a5-58fe1f07cfea",
   "metadata": {},
   "source": [
    "<img src=\"./11_range.png\" width=800 height=480>"
   ]
  },
  {
   "cell_type": "code",
   "execution_count": 14,
   "id": "d430f183-7bfc-41b3-b803-711baff66cd3",
   "metadata": {},
   "outputs": [],
   "source": [
    "# 这个四分位数有问题"
   ]
  },
  {
   "cell_type": "markdown",
   "id": "01fb1813-1aa5-4b55-ab6b-b49411f0c3d5",
   "metadata": {},
   "source": [
    "<img src=\"./12_quantile.png\" width=800 height=480>"
   ]
  },
  {
   "cell_type": "code",
   "execution_count": 15,
   "id": "d42d5006-e5cd-4d85-8085-17e8ec712ce3",
   "metadata": {},
   "outputs": [],
   "source": [
    "# 求方差和标准差，我们需要先求平均值"
   ]
  },
  {
   "cell_type": "markdown",
   "id": "0c3f751f-25a7-4013-98a3-7973e5f76a21",
   "metadata": {},
   "source": [
    "<img src=\"./13_mean.png\" width=800 height=480>"
   ]
  },
  {
   "cell_type": "code",
   "execution_count": 16,
   "id": "7940317a-8156-417a-9c8c-571683ee549b",
   "metadata": {},
   "outputs": [],
   "source": [
    "# 方差和标准差算法"
   ]
  },
  {
   "cell_type": "markdown",
   "id": "170d7146-aa7f-4506-8562-88ef3dbf98cc",
   "metadata": {},
   "source": [
    "<img src=\"./14_std_var.png\" width=800 height=480>"
   ]
  }
 ],
 "metadata": {
  "kernelspec": {
   "display_name": "Python 3 (ipykernel)",
   "language": "python",
   "name": "python3"
  },
  "language_info": {
   "codemirror_mode": {
    "name": "ipython",
    "version": 3
   },
   "file_extension": ".py",
   "mimetype": "text/x-python",
   "name": "python",
   "nbconvert_exporter": "python",
   "pygments_lexer": "ipython3",
   "version": "3.11.0rc1"
  }
 },
 "nbformat": 4,
 "nbformat_minor": 5
}
