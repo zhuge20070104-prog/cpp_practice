{
 "cells": [
  {
   "cell_type": "code",
   "execution_count": 1,
   "id": "76fcf631-6913-438c-9ea9-834ce7e4e108",
   "metadata": {
    "scrolled": true
   },
   "outputs": [
    {
     "name": "stdout",
     "output_type": "stream",
     "text": [
      "[[10 15]]\n",
      "[[20  9]]\n",
      "\n"
     ]
    }
   ],
   "source": [
    "# 构建两个一行两列的矩阵\n",
    "import numpy as np\n",
    "a = np.array([[10, 15]])\n",
    "b = np.array([[20, 9]])\n",
    "print(a)\n",
    "print(b)\n",
    "print()"
   ]
  },
  {
   "cell_type": "code",
   "execution_count": 2,
   "id": "17d7458b-abbe-40bc-9ffa-5cb21d5eca14",
   "metadata": {},
   "outputs": [
    {
     "data": {
      "text/plain": [
       "array([[30, 24]])"
      ]
     },
     "execution_count": 2,
     "metadata": {},
     "output_type": "execute_result"
    }
   ],
   "source": [
    "# 2. 矩阵加法\n",
    "\n",
    "a + b"
   ]
  },
  {
   "cell_type": "code",
   "execution_count": 3,
   "id": "96f62625-c942-466c-8ebd-bf4a604fb711",
   "metadata": {},
   "outputs": [
    {
     "name": "stdout",
     "output_type": "stream",
     "text": [
      "[[10]\n",
      " [15]]\n",
      "[[20]\n",
      " [ 9]]\n",
      "[[30]\n",
      " [24]]\n"
     ]
    }
   ],
   "source": [
    "# 3. 转秩相加也可以\n",
    "\n",
    "print(a.T)\n",
    "print(b.T)\n",
    "\n",
    "print(a.T + b.T)"
   ]
  },
  {
   "cell_type": "code",
   "execution_count": 4,
   "id": "9bd0fac6-55bc-48b8-9059-5202cc1ca32b",
   "metadata": {},
   "outputs": [
    {
     "name": "stdout",
     "output_type": "stream",
     "text": [
      "[[30]\n",
      " [24]]\n"
     ]
    }
   ],
   "source": [
    "# 4. a+b再转秩也可以\n",
    "\n",
    "print((a+b).T)"
   ]
  },
  {
   "cell_type": "code",
   "execution_count": 5,
   "id": "16373190-dff2-4f6f-bbc4-3716548852aa",
   "metadata": {},
   "outputs": [
    {
     "name": "stdout",
     "output_type": "stream",
     "text": [
      "[[-10   6]]\n"
     ]
    }
   ],
   "source": [
    "# 5. 矩阵减法\n",
    "print(a - b)"
   ]
  },
  {
   "cell_type": "code",
   "execution_count": 6,
   "id": "efcda5f8-88b0-45c3-a783-a4e8f59e87f0",
   "metadata": {},
   "outputs": [
    {
     "name": "stdout",
     "output_type": "stream",
     "text": [
      "[[-10]\n",
      " [  6]]\n"
     ]
    }
   ],
   "source": [
    "# 转秩亦可\n",
    "print((a - b).T)"
   ]
  },
  {
   "cell_type": "code",
   "execution_count": 7,
   "id": "69cafc73-7600-4382-80cf-a30851d35bf2",
   "metadata": {},
   "outputs": [
    {
     "data": {
      "text/plain": [
       "array([[60, 30]])"
      ]
     },
     "execution_count": 7,
     "metadata": {},
     "output_type": "execute_result"
    }
   ],
   "source": [
    "# 6. 标量相乘，会做广播\n",
    "a = 2\n",
    "u = np.array([[30, 15]])\n",
    "a * u"
   ]
  },
  {
   "cell_type": "code",
   "execution_count": 8,
   "id": "9a7ccc4b-0a50-4833-a64e-0404311b0fef",
   "metadata": {},
   "outputs": [
    {
     "data": {
      "text/plain": [
       "array([[60],\n",
       "       [30]])"
      ]
     },
     "execution_count": 8,
     "metadata": {},
     "output_type": "execute_result"
    }
   ],
   "source": [
    "# 转秩亦可\n",
    "\n",
    "(a * u).T"
   ]
  },
  {
   "cell_type": "code",
   "execution_count": 9,
   "id": "d2d09b1a-957d-4cc3-8903-7780b68eba10",
   "metadata": {},
   "outputs": [
    {
     "name": "stdout",
     "output_type": "stream",
     "text": [
      "370\n",
      "370\n"
     ]
    }
   ],
   "source": [
    "# 7. 2D向量，np.dot就是矩阵乘法\n",
    "u = np.array([10, 20])\n",
    "v = np.array([25, 6])\n",
    "print(10 * 25 + 20* 6)\n",
    "print(np.dot(u, v))"
   ]
  },
  {
   "cell_type": "code",
   "execution_count": 10,
   "id": "59280472-0921-4588-b666-6bd45eeb574f",
   "metadata": {},
   "outputs": [
    {
     "name": "stdout",
     "output_type": "stream",
     "text": [
      "[[12 10]\n",
      " [ 4  6]\n",
      " [40 31]] = a\n",
      "\n",
      "[[ 2  8]\n",
      " [46 63]\n",
      " [50 10]] = b\n",
      "\n"
     ]
    }
   ],
   "source": [
    "# 8. 两个 3*2的矩阵，打印下a,b\n",
    "\n",
    "a = np.array([[12, 10], [4, 6], [40, 31]])\n",
    "b = np.array([[2, 8], [46, 63], [50, 10]])\n",
    "\n",
    "print(a, end=' = a\\n\\n')\n",
    "print(b, end=' = b\\n\\n')"
   ]
  },
  {
   "cell_type": "code",
   "execution_count": 11,
   "id": "91e0ae9a-d741-42be-b136-13bb9be00dd4",
   "metadata": {},
   "outputs": [
    {
     "data": {
      "text/plain": [
       "array([[14, 18],\n",
       "       [50, 69],\n",
       "       [90, 41]])"
      ]
     },
     "execution_count": 11,
     "metadata": {},
     "output_type": "execute_result"
    }
   ],
   "source": [
    "# 矩阵加法\n",
    "a + b"
   ]
  },
  {
   "cell_type": "code",
   "execution_count": 12,
   "id": "2ab513a4-51e9-4b05-b509-e65f33c0167d",
   "metadata": {},
   "outputs": [
    {
     "data": {
      "text/plain": [
       "array([[ 10,   2],\n",
       "       [-42, -57],\n",
       "       [-10,  21]])"
      ]
     },
     "execution_count": 12,
     "metadata": {},
     "output_type": "execute_result"
    }
   ],
   "source": [
    "# 9. 矩阵减法\n",
    "a - b"
   ]
  },
  {
   "cell_type": "code",
   "execution_count": 13,
   "id": "b25ca3e3-6114-43f7-9088-f2214769c08b",
   "metadata": {},
   "outputs": [
    {
     "data": {
      "text/plain": [
       "array([[ 8, 20],\n",
       "       [12, 28],\n",
       "       [32, 24]])"
      ]
     },
     "execution_count": 13,
     "metadata": {},
     "output_type": "execute_result"
    }
   ],
   "source": [
    "# 10. 矩阵标量乘法\n",
    "\n",
    "a = 4\n",
    "b = np.array([[2, 5], [3, 7], [8, 6]])\n",
    "a * b"
   ]
  },
  {
   "cell_type": "code",
   "execution_count": 14,
   "id": "75329e65-9f79-4473-ae1f-2b6b8121de55",
   "metadata": {},
   "outputs": [
    {
     "data": {
      "text/plain": [
       "array([170, 390])"
      ]
     },
     "execution_count": 14,
     "metadata": {},
     "output_type": "execute_result"
    }
   ],
   "source": [
    "# 11. 矩阵和向量相乘\n",
    "\n",
    "a = [[5, 10], [15, 20]]\n",
    "b = [10, 12]\n",
    "\n",
    "np.dot(a, b)"
   ]
  },
  {
   "cell_type": "code",
   "execution_count": 16,
   "id": "65fb0fdd-a82a-4c75-9f6f-2c90023415e8",
   "metadata": {},
   "outputs": [
    {
     "name": "stdout",
     "output_type": "stream",
     "text": [
      "[[ 5 10]\n",
      " [15 20]\n",
      " [25 30]]\n",
      "[[3 6]\n",
      " [9 5]]\n"
     ]
    },
    {
     "data": {
      "text/plain": [
       "array([[105,  80],\n",
       "       [225, 190],\n",
       "       [345, 300]])"
      ]
     },
     "execution_count": 16,
     "metadata": {},
     "output_type": "execute_result"
    }
   ],
   "source": [
    "# 12. 矩阵和矩阵相乘\n",
    "\n",
    "a = np.array([[5, 10], [15, 20], [25, 30]])\n",
    "b = np.array([[3, 6], [9, 5]])\n",
    "print(a)\n",
    "print(b)\n",
    "np.dot(a, b)"
   ]
  },
  {
   "cell_type": "code",
   "execution_count": 17,
   "id": "b55e743b-58fa-49e2-9018-db36b188dd9e",
   "metadata": {},
   "outputs": [
    {
     "name": "stdout",
     "output_type": "stream",
     "text": [
      "[[ 5 10]\n",
      " [15 20]\n",
      " [25 30]] = a \n",
      "\n",
      "[[ 5 15 25]\n",
      " [10 20 30]] = a.T \n",
      "\n"
     ]
    }
   ],
   "source": [
    "# 13. 矩阵转秩\n",
    "\n",
    "a = np.array([[5, 10], [15, 20], [25, 30]])\n",
    "print(a, end=' = a \\n\\n')\n",
    "print(a.T, end=' = a.T \\n\\n')"
   ]
  },
  {
   "cell_type": "code",
   "execution_count": 18,
   "id": "e467fb3f-0b43-43ec-b0dd-06e3d2258bf8",
   "metadata": {},
   "outputs": [
    {
     "name": "stdout",
     "output_type": "stream",
     "text": [
      "[[1. 0.]\n",
      " [0. 1.]] = i1\n",
      "\n",
      "[[1. 0. 0.]\n",
      " [0. 1. 0.]\n",
      " [0. 0. 1.]] = i2\n",
      "\n"
     ]
    }
   ],
   "source": [
    "# 14. 创建单位阵\n",
    "\n",
    "i1 = np.eye(2)\n",
    "i2 = np.eye(3)\n",
    "\n",
    "print(i1, end=' = i1\\n\\n')\n",
    "print(i2, end=' = i2\\n\\n')"
   ]
  },
  {
   "cell_type": "code",
   "execution_count": 19,
   "id": "21da7d02-4092-44d1-8763-f2a85f494b10",
   "metadata": {},
   "outputs": [
    {
     "name": "stdout",
     "output_type": "stream",
     "text": [
      "[[2 1 0]\n",
      " [0 1 0]\n",
      " [1 2 1]] = a\n",
      "\n",
      "[[ 0.5 -0.5  0. ]\n",
      " [ 0.   1.   0. ]\n",
      " [-0.5 -1.5  1. ]] = inv(a)"
     ]
    }
   ],
   "source": [
    "# 15. 求逆矩阵\n",
    "# 逆矩阵的含义\n",
    "# 一个方阵A\n",
    "# A* Ainv = Ainv * A = I\n",
    "\n",
    "a = np.array([\n",
    "    [2, 1, 0],\n",
    "    [0, 1, 0],\n",
    "    [1, 2, 1]\n",
    "])\n",
    "\n",
    "print(a, end = ' = a\\n\\n')\n",
    "print(np.linalg.inv(a), end = ' = inv(a)')"
   ]
  }
 ],
 "metadata": {
  "kernelspec": {
   "display_name": "Python 3 (ipykernel)",
   "language": "python",
   "name": "python3"
  },
  "language_info": {
   "codemirror_mode": {
    "name": "ipython",
    "version": 3
   },
   "file_extension": ".py",
   "mimetype": "text/x-python",
   "name": "python",
   "nbconvert_exporter": "python",
   "pygments_lexer": "ipython3",
   "version": "3.11.0rc1"
  }
 },
 "nbformat": 4,
 "nbformat_minor": 5
}
