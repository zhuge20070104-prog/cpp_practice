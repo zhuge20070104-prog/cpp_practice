{
 "cells": [
  {
   "cell_type": "code",
   "execution_count": 1,
   "id": "6af3b925-3b9f-41cc-b2d2-abfebe8f1efb",
   "metadata": {},
   "outputs": [],
   "source": [
    "# 1.Agenda\n",
    "# Data and its types\n",
    "# Linear algebra and its concepts\n",
    "# Calculus\n",
    "# Statistics for machine learning\n",
    "# Probability for machine learning\n",
    "# Hands on demos"
   ]
  },
  {
   "cell_type": "code",
   "execution_count": 4,
   "id": "3e8c0532-b7ca-4c1d-8177-51e7cd38e1fd",
   "metadata": {},
   "outputs": [],
   "source": [
    "# 2. What is Data?\n",
    "# Data denotes the individual pieces of factual information collected from various sources.\n",
    "# It is stored, processed and later used for analysis.\n",
    "\n",
    "# Data in various forms\n",
    "# Performing analytics to derive insights"
   ]
  },
  {
   "cell_type": "code",
   "execution_count": 5,
   "id": "33767298-d359-41b5-81c0-92d90d0eaf04",
   "metadata": {},
   "outputs": [],
   "source": [
    "# 不同类型的数据\n",
    "\n",
    "# 定性数据/分类数据 \n",
    "# 名义数据 -->  即数据的值仅表示类别，没有数量或大小的概念。例如，颜色（红色、蓝色、绿色）就是名义数据。\n",
    "# 序数数据 --> ordinal data（序数数据）是表示数据之间具有顺序或等级关系的数据，但具体的数值差并不具有数学上的意义。例如，评级系统（优秀、良好、中等、差）就是序数数据。\n",
    "\n",
    "# 定量数据/数值数据\n",
    "# 离散数据\n",
    "# 连续数据"
   ]
  },
  {
   "cell_type": "code",
   "execution_count": null,
   "id": "85fc545c-c1ae-4a74-9a64-77fe7f06eb7a",
   "metadata": {},
   "outputs": [],
   "source": [
    "# Norminal --> 名义数据\n",
    "# They are used to label variables without providing any measurable value\n",
    "# Eg. Country, gender, race, hair color. etc."
   ]
  },
  {
   "cell_type": "code",
   "execution_count": 6,
   "id": "9fc81940-8931-4d33-92b2-2766270afca8",
   "metadata": {},
   "outputs": [],
   "source": [
    "# Ordinal --> 序数数据\n",
    "# Categorical data with a set order or scale to it.\n",
    "# Eg. Salary range, movie ratings, etc\n",
    "\n",
    "# Salary range   No. of employees\n",
    "# 10k-20k   150\n",
    "# 20k-30k   100\n",
    "# 30k-40k   25\n",
    "# 50k+      10\n",
    "# 80k+      5"
   ]
  },
  {
   "cell_type": "code",
   "execution_count": 7,
   "id": "11320f41-f445-4414-9d15-0d5c6e7ae129",
   "metadata": {},
   "outputs": [],
   "source": [
    "# 6. 定量数据分为连续数据和离散数据\n",
    "# Quantitative / Numerical Data\n",
    "# Discrete --> Data with final set of values which can be categorized\n",
    "# class strength, [班级规模，人数]，questions answered correctly, and runs hit in cricket[在板球比赛中击中的得分]， etc.\n",
    "\n",
    "# Continuous --> Continuous data can take any numeric value within a range\n",
    "# Water pressure, weight of a person etc."
   ]
  }
 ],
 "metadata": {
  "kernelspec": {
   "display_name": "Python 3 (ipykernel)",
   "language": "python",
   "name": "python3"
  },
  "language_info": {
   "codemirror_mode": {
    "name": "ipython",
    "version": 3
   },
   "file_extension": ".py",
   "mimetype": "text/x-python",
   "name": "python",
   "nbconvert_exporter": "python",
   "pygments_lexer": "ipython3",
   "version": "3.11.0rc1"
  }
 },
 "nbformat": 4,
 "nbformat_minor": 5
}
