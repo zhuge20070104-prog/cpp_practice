{
 "cells": [
  {
   "cell_type": "code",
   "execution_count": 2,
   "id": "7dab8cd7-776d-4a8d-9067-7204df8ac9db",
   "metadata": {},
   "outputs": [],
   "source": [
    "# 1. What is numpy\n",
    "# Numpy is the core library for scientific and numeric computing in Python\n",
    "# It provides high-performance multidemensional array object and tools for working with arrays\n",
    "\n",
    "# Numpy's main object is the multidemensional array\n",
    "# It is a table of elements (usually numbers), all of the same type, indexed by a tuple of postitive integers.\n",
    "# In numpy, dimensions are called axes"
   ]
  },
  {
   "cell_type": "code",
   "execution_count": 3,
   "id": "af07b60b-9827-4945-932d-fe993ea00501",
   "metadata": {},
   "outputs": [],
   "source": [
    "# 2. 一维数组举例\n",
    "# One-dimensional array\n",
    "# 0, 1, 2, 3, 4, 5\n",
    "# shape(6, )"
   ]
  },
  {
   "cell_type": "code",
   "execution_count": 5,
   "id": "1faea742-eef0-46a5-b64e-19abaf82129a",
   "metadata": {},
   "outputs": [],
   "source": [
    "# 3. 二维数组\n",
    "# 0, 1, 2, 3\n",
    "# 4, 5, 6, 7\n",
    "# shape(2, 4)"
   ]
  },
  {
   "cell_type": "code",
   "execution_count": 6,
   "id": "2e53d425-88d5-4d60-8282-170b328d1bc3",
   "metadata": {},
   "outputs": [
    {
     "name": "stdout",
     "output_type": "stream",
     "text": [
      "hello world\n"
     ]
    }
   ],
   "source": [
    "# 6.Code\n",
    "# 打印Hello World\n",
    "\n",
    "print('hello world')"
   ]
  },
  {
   "cell_type": "code",
   "execution_count": 7,
   "id": "896c1639-6e87-4ab7-8157-f6515e1d8652",
   "metadata": {},
   "outputs": [
    {
     "data": {
      "text/plain": [
       "'hello world'"
      ]
     },
     "execution_count": 7,
     "metadata": {},
     "output_type": "execute_result"
    }
   ],
   "source": [
    "# 打印最后一行的变量\n",
    "a = 'hello world'\n",
    "a"
   ]
  },
  {
   "cell_type": "code",
   "execution_count": 8,
   "id": "1f303be7-033a-4903-b27c-4894c68532a1",
   "metadata": {},
   "outputs": [],
   "source": [
    "# 7. NumyArray和Python list对比\n",
    "# Why we should use numpy array when we have python lists?\n",
    "# Fast/Convenient/Less Memory"
   ]
  },
  {
   "cell_type": "code",
   "execution_count": 9,
   "id": "1b4a7a8a-fc24-4326-b88e-80452db2eb81",
   "metadata": {},
   "outputs": [
    {
     "name": "stdout",
     "output_type": "stream",
     "text": [
      "[1 2 3]\n"
     ]
    }
   ],
   "source": [
    "# 8. Code\n",
    "# import numpy ，构建一个array并打印他\n",
    "\n",
    "import numpy as np\n",
    "\n",
    "a = np.array([1, 2, 3])\n",
    "print(a)"
   ]
  },
  {
   "cell_type": "code",
   "execution_count": 10,
   "id": "6c228691-73a2-439b-b97d-74254a0a7ae2",
   "metadata": {},
   "outputs": [
    {
     "data": {
      "text/plain": [
       "1"
      ]
     },
     "execution_count": 10,
     "metadata": {},
     "output_type": "execute_result"
    }
   ],
   "source": [
    "# 也可以用a[0], a[1] 来索引他\n",
    "a[0]"
   ]
  },
  {
   "cell_type": "code",
   "execution_count": 11,
   "id": "5231f61d-b792-4f19-80ed-302fb31447ae",
   "metadata": {},
   "outputs": [
    {
     "data": {
      "text/plain": [
       "2"
      ]
     },
     "execution_count": 11,
     "metadata": {},
     "output_type": "execute_result"
    }
   ],
   "source": [
    "a[1]"
   ]
  },
  {
   "cell_type": "code",
   "execution_count": 12,
   "id": "87ef580a-093e-4b7d-b541-2c6d8e5a893c",
   "metadata": {},
   "outputs": [],
   "source": [
    "# 9. 比较numpy的好处\n",
    "# numpy array占用空间少\n",
    "\n",
    "import time\n",
    "import sys"
   ]
  },
  {
   "cell_type": "code",
   "execution_count": 13,
   "id": "38b5dea3-99df-4ac0-b66b-9cc332ebd653",
   "metadata": {},
   "outputs": [
    {
     "name": "stdout",
     "output_type": "stream",
     "text": [
      "28000\n"
     ]
    }
   ],
   "source": [
    "b = range(1000)\n",
    "print(sys.getsizeof(5)*len(b))"
   ]
  },
  {
   "cell_type": "code",
   "execution_count": 20,
   "id": "f711502f-5036-46c3-a5da-0c32886d1d2c",
   "metadata": {},
   "outputs": [
    {
     "name": "stdout",
     "output_type": "stream",
     "text": [
      "8000\n"
     ]
    }
   ],
   "source": [
    "c = np.arange(1000)\n",
    "print(c.size * c.itemsize)"
   ]
  },
  {
   "cell_type": "code",
   "execution_count": 23,
   "id": "d94e8c61-ea75-4fcf-9ef7-d90f8f4fd29c",
   "metadata": {},
   "outputs": [
    {
     "name": "stdout",
     "output_type": "stream",
     "text": [
      "Python list took:  13.947486877441406\n"
     ]
    }
   ],
   "source": [
    "# python list计算两个array相加，比较慢\n",
    "size = 100000\n",
    "L1 = range(size)\n",
    "L2 = range(size)\n",
    "A1 = np.arange(size)\n",
    "A2 = np.arange(size)\n",
    "\n",
    "result = [(x+y) for x,y in zip(L1, L2)]\n",
    "start = time.time()\n",
    "result = [(x+y) for x,y in zip(L1, L2)]\n",
    "print('Python list took: ', (time.time() - start) * 1000)"
   ]
  },
  {
   "cell_type": "code",
   "execution_count": 24,
   "id": "5c86c33f-1f60-4d57-894f-1cf37232c2d1",
   "metadata": {},
   "outputs": [
    {
     "name": "stdout",
     "output_type": "stream",
     "text": [
      "Numpy array took:  0.4687309265136719\n"
     ]
    }
   ],
   "source": [
    "# numpy array相加，计算比较快\n",
    "result = A1 + A2\n",
    "start = time.time()\n",
    "result = A1 + A2\n",
    "print('Numpy array took: ', (time.time() - start) * 1000)"
   ]
  },
  {
   "cell_type": "code",
   "execution_count": 26,
   "id": "21b6406f-7962-4994-889a-1d87b68e502b",
   "metadata": {},
   "outputs": [
    {
     "data": {
      "text/plain": [
       "array([[1, 2],\n",
       "       [3, 4],\n",
       "       [5, 6]])"
      ]
     },
     "execution_count": 26,
     "metadata": {},
     "output_type": "execute_result"
    }
   ],
   "source": [
    "# 10. 二维数组构建\n",
    "a = np.array([[1, 2], [3, 4], [5, 6]])\n",
    "a"
   ]
  },
  {
   "cell_type": "code",
   "execution_count": 27,
   "id": "a6748fdc-e3e2-4df9-9115-c0680804a1d4",
   "metadata": {},
   "outputs": [
    {
     "data": {
      "text/plain": [
       "2"
      ]
     },
     "execution_count": 27,
     "metadata": {},
     "output_type": "execute_result"
    }
   ],
   "source": [
    "# 维数\n",
    "a.ndim"
   ]
  },
  {
   "cell_type": "code",
   "execution_count": 28,
   "id": "2434f3b6-2c98-49e6-aa7b-abd16a626837",
   "metadata": {},
   "outputs": [
    {
     "data": {
      "text/plain": [
       "8"
      ]
     },
     "execution_count": 28,
     "metadata": {},
     "output_type": "execute_result"
    }
   ],
   "source": [
    "# 单个元素大小\n",
    "a.itemsize"
   ]
  },
  {
   "cell_type": "code",
   "execution_count": 29,
   "id": "505b072e-48a1-4a52-a6c0-e16231040242",
   "metadata": {},
   "outputs": [
    {
     "data": {
      "text/plain": [
       "(3, 2)"
      ]
     },
     "execution_count": 29,
     "metadata": {},
     "output_type": "execute_result"
    }
   ],
   "source": [
    "# shape\n",
    "a.shape"
   ]
  },
  {
   "cell_type": "code",
   "execution_count": 30,
   "id": "084ed0dc-d4ce-4da4-9597-1dbda4ce544a",
   "metadata": {},
   "outputs": [
    {
     "data": {
      "text/plain": [
       "array([[1., 2.],\n",
       "       [3., 4.],\n",
       "       [5., 6.]])"
      ]
     },
     "execution_count": 30,
     "metadata": {},
     "output_type": "execute_result"
    }
   ],
   "source": [
    "# 11. 构建一个浮点array\n",
    "a = np.array([[1, 2], [3, 4], [5, 6]], dtype=np.float64)\n",
    "a"
   ]
  },
  {
   "cell_type": "code",
   "execution_count": 31,
   "id": "47c565fc-0294-4e28-ae95-6b365b15658d",
   "metadata": {},
   "outputs": [
    {
     "data": {
      "text/plain": [
       "8"
      ]
     },
     "execution_count": 31,
     "metadata": {},
     "output_type": "execute_result"
    }
   ],
   "source": [
    "# 浮点数的itemsize 是 8\n",
    "a.itemsize"
   ]
  },
  {
   "cell_type": "code",
   "execution_count": 32,
   "id": "7e15253c-19da-453c-a5cb-df2b9b7960e3",
   "metadata": {},
   "outputs": [
    {
     "data": {
      "text/plain": [
       "(3, 2)"
      ]
     },
     "execution_count": 32,
     "metadata": {},
     "output_type": "execute_result"
    }
   ],
   "source": [
    "a.shape"
   ]
  },
  {
   "cell_type": "code",
   "execution_count": 44,
   "id": "497bcb9f-4c7e-4208-abb8-16be3f64f54d",
   "metadata": {},
   "outputs": [
    {
     "data": {
      "text/plain": [
       "array([[1.+0.j, 2.+0.j],\n",
       "       [3.+0.j, 4.+0.j],\n",
       "       [5.+0.j, 6.+0.j]], dtype=complex64)"
      ]
     },
     "execution_count": 44,
     "metadata": {},
     "output_type": "execute_result"
    }
   ],
   "source": [
    "# 12. 构建一个complex【复数】array\n",
    "a = np.array([[1, 2], [3, 4], [5, 6]], dtype=np.complex64)\n",
    "a"
   ]
  },
  {
   "cell_type": "code",
   "execution_count": 49,
   "id": "dab19446-e9d9-4ab2-85f2-956f29c7a74f",
   "metadata": {},
   "outputs": [],
   "source": [
    "# Google查一下，可以找到所有基础数据类型\n",
    "# https://numpy.org/doc/stable/user/basics.types.html"
   ]
  }
 ],
 "metadata": {
  "kernelspec": {
   "display_name": "Python 3 (ipykernel)",
   "language": "python",
   "name": "python3"
  },
  "language_info": {
   "codemirror_mode": {
    "name": "ipython",
    "version": 3
   },
   "file_extension": ".py",
   "mimetype": "text/x-python",
   "name": "python",
   "nbconvert_exporter": "python",
   "pygments_lexer": "ipython3",
   "version": "3.11.0rc1"
  }
 },
 "nbformat": 4,
 "nbformat_minor": 5
}
