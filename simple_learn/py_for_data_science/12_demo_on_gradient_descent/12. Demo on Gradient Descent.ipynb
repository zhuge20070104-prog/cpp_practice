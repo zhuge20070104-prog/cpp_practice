{
 "cells": [
  {
   "cell_type": "code",
   "execution_count": 1,
   "id": "b07fcda2-11ec-4559-971b-4695dd38b3d8",
   "metadata": {},
   "outputs": [],
   "source": [
    "# 1. 梯度下降就是为了寻找error的最小值"
   ]
  },
  {
   "cell_type": "markdown",
   "id": "96ac3129-c12d-4a29-aca4-1c1e2f7eef45",
   "metadata": {},
   "source": [
    "<img src=\"./gradient_descent.png\" width=800 height=480>"
   ]
  },
  {
   "cell_type": "code",
   "execution_count": 2,
   "id": "25b5e700-7942-48e5-816f-72a047967999",
   "metadata": {},
   "outputs": [],
   "source": [
    "# 2. 梯度下降的一个简单演示"
   ]
  },
  {
   "cell_type": "code",
   "execution_count": 3,
   "id": "5fc03f33-9d23-428f-89ee-3f9f36627da2",
   "metadata": {},
   "outputs": [
    {
     "name": "stdout",
     "output_type": "stream",
     "text": [
      "Iteration 1 \n",
      "X value is 3.0\n",
      "Iteration 2 \n",
      "X value is 1.4\n",
      "Iteration 3 \n",
      "X value is 0.11999999999999966\n",
      "Iteration 4 \n",
      "X value is -0.9040000000000001\n",
      "Iteration 5 \n",
      "X value is -1.7232000000000003\n",
      "Iteration 6 \n",
      "X value is -2.3785600000000002\n",
      "Iteration 7 \n",
      "X value is -2.902848\n",
      "Iteration 8 \n",
      "X value is -3.3222784\n",
      "The local minimum occurs at -3.3222784\n"
     ]
    }
   ],
   "source": [
    "# The algorithm starts at x = 5\n",
    "cur_x = 5\n",
    "# learning rate\n",
    "rate = 0.1 \n",
    "# This tells us when to stop the algorithm\n",
    "precision = 0.5\n",
    "previous_step_size = 1\n",
    "max_iters = 1000000\n",
    "# iteration counter\n",
    "iters = 0\n",
    "# Gradient of our function\n",
    "df = lambda x: 2*(x+5)\n",
    "\n",
    "while previous_step_size > precision and iters < max_iters:\n",
    "    prev_x = cur_x\n",
    "    cur_x = cur_x - rate * df(prev_x)\n",
    "    previous_step_size = abs(cur_x - prev_x)\n",
    "    iters = iters + 1\n",
    "    print('Iteration', iters, '\\nX value is', cur_x)\n",
    "\n",
    "print('The local minimum occurs at', cur_x)"
   ]
  },
  {
   "cell_type": "code",
   "execution_count": 18,
   "id": "316970fb-1d64-401b-9c84-7f0ee6698982",
   "metadata": {},
   "outputs": [
    {
     "data": {
      "text/plain": [
       "array([-0.99999578])"
      ]
     },
     "execution_count": 18,
     "metadata": {},
     "output_type": "execute_result"
    }
   ],
   "source": [
    "# 3. scipy 中有一个函数，可以求 任意函数的最小值点\n",
    "import scipy\n",
    "\n",
    "def fun(x):\n",
    "    return x*x + 2*x + 1\n",
    "x0 = 100.0\n",
    "res = scipy.optimize.minimize(fun, x0)\n",
    "res.x"
   ]
  }
 ],
 "metadata": {
  "kernelspec": {
   "display_name": "Python 3 (ipykernel)",
   "language": "python",
   "name": "python3"
  },
  "language_info": {
   "codemirror_mode": {
    "name": "ipython",
    "version": 3
   },
   "file_extension": ".py",
   "mimetype": "text/x-python",
   "name": "python",
   "nbconvert_exporter": "python",
   "pygments_lexer": "ipython3",
   "version": "3.11.0rc1"
  }
 },
 "nbformat": 4,
 "nbformat_minor": 5
}
