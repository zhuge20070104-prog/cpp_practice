{
 "cells": [
  {
   "cell_type": "code",
   "execution_count": 5,
   "metadata": {},
   "outputs": [
    {
     "name": "stdout",
     "output_type": "stream",
     "text": [
      "WARNING:tensorflow:From /usr/local/lib/python3.6/dist-packages/tensorflow/python/compat/v2_compat.py:96: disable_resource_variables (from tensorflow.python.ops.variable_scope) is deprecated and will be removed in a future version.\n",
      "Instructions for updating:\n",
      "non-resource variables are not supported in the long term\n",
      "Tensor(\"Const:0\", shape=(), dtype=float32) Tensor(\"Const_1:0\", shape=(), dtype=float32)\n"
     ]
    }
   ],
   "source": [
    "# 1. constants\n",
    "# Constants are parameters whose value dose not change. To define a constant we use tf.constant() command\n",
    "\n",
    "import tensorflow as tf\n",
    "import tensorflow.compat.v1 as tf\n",
    "tf.disable_v2_behavior()\n",
    "\n",
    "a = tf.constant(2.0, tf.float32)\n",
    "b = tf.constant(3.0)\n",
    "print(a, b)"
   ]
  },
  {
   "cell_type": "code",
   "execution_count": 13,
   "metadata": {},
   "outputs": [
    {
     "name": "stdout",
     "output_type": "stream",
     "text": [
      "[0.3        0.6        0.90000004]\n"
     ]
    }
   ],
   "source": [
    "# 2. Variables\n",
    "# Variables allow us to add new trainable parameters to graph. To define a variable, we use tf.Variable()\n",
    "# command and initialize them before running the graph in a session\n",
    "\n",
    "W = tf.Variable([.3], dtype=tf.float32)\n",
    "b = tf.Variable([-.3], dtype=tf.float32)\n",
    "x = tf.placeholder(tf.float32)\n",
    "linear_model = W*x + b\n",
    "init_op = tf.global_variables_initializer()\n",
    "\n",
    "with tf.Session() as sess:\n",
    "    sess.run(init_op)\n",
    "    result = sess.run(linear_model, feed_dict={x: [2.0, 3.0, 4.0]})\n",
    "    print(result)"
   ]
  },
  {
   "cell_type": "code",
   "execution_count": 14,
   "metadata": {},
   "outputs": [
    {
     "name": "stdout",
     "output_type": "stream",
     "text": [
      "6.0\n"
     ]
    }
   ],
   "source": [
    "# 3. placeholders\n",
    "# placeholder用于从外部获取数据。\n",
    "# 因为一次放入所有数据可能内存或显存不允许，所以要分批放，\n",
    "# 就出现了placeholder\n",
    "\n",
    "a = tf.placeholder(tf.float32)\n",
    "b = a*2\n",
    "init_op = tf.global_variables_initializer()\n",
    "with tf.Session() as sess:\n",
    "    sess.run(init_op)\n",
    "    result = sess.run(b, feed_dict={a: 3.0})\n",
    "    print(result)"
   ]
  },
  {
   "cell_type": "code",
   "execution_count": 15,
   "metadata": {},
   "outputs": [
    {
     "name": "stdout",
     "output_type": "stream",
     "text": [
      "15.0\n"
     ]
    }
   ],
   "source": [
    "# 4. session 是用来运行计算图的\n",
    "# A session is run to evaluate the nodes. This is called as the Tensorflow runtime\n",
    "\n",
    "a = tf.constant(5.0)\n",
    "b = tf.constant(3.0)\n",
    "c = a*b\n",
    "sess = tf.Session()\n",
    "print(sess.run(c))\n",
    "sess.close()\n"
   ]
  },
  {
   "cell_type": "code",
   "execution_count": 20,
   "metadata": {},
   "outputs": [
    {
     "name": "stdout",
     "output_type": "stream",
     "text": [
      "<tf.Variable 'Variable_20:0' shape=(4, 4) dtype=float32_ref>\n",
      "[[0.02030647 0.76771295 0.49416745 0.32624507]\n",
      " [0.92596006 0.5082898  0.98873127 0.9755006 ]\n",
      " [0.32086253 0.35333228 0.7082212  0.90127647]\n",
      " [0.98199797 0.21985614 0.09453106 0.6298727 ]]\n"
     ]
    }
   ],
   "source": [
    "# Variables in tensorflow\n",
    "\n",
    "my_tensor = tf.random_uniform((4, 4), 0, 1)\n",
    "my_var = tf.Variable(initial_value=my_tensor)\n",
    "print(my_var)\n",
    "\n",
    "init_op = tf.global_variables_initializer()\n",
    "with tf.Session() as sess:\n",
    "    sess.run(init_op)\n",
    "    result = sess.run(my_var)\n",
    "    print(result)"
   ]
  },
  {
   "cell_type": "code",
   "execution_count": 21,
   "metadata": {},
   "outputs": [
    {
     "name": "stdout",
     "output_type": "stream",
     "text": [
      "<class 'tensorflow.python.framework.ops.Tensor'>\n"
     ]
    }
   ],
   "source": [
    "# Constant Example\n",
    "hello = tf.constant(\"Hello\")\n",
    "\n",
    "print(type(hello))"
   ]
  },
  {
   "cell_type": "code",
   "execution_count": 24,
   "metadata": {},
   "outputs": [
    {
     "name": "stdout",
     "output_type": "stream",
     "text": [
      "Tensor(\"add_10:0\", shape=(), dtype=string)\n",
      "<class 'tensorflow.python.framework.ops.Tensor'>\n"
     ]
    }
   ],
   "source": [
    "world = tf.constant(\"World\")\n",
    "result = hello + world\n",
    "print(result)\n",
    "print(type(result))"
   ]
  },
  {
   "cell_type": "code",
   "execution_count": 25,
   "metadata": {},
   "outputs": [
    {
     "name": "stdout",
     "output_type": "stream",
     "text": [
      "b'HelloWorld'\n"
     ]
    }
   ],
   "source": [
    "with tf.Session() as sess:\n",
    "    result = sess.run(hello + world)\n",
    "    print(result)"
   ]
  },
  {
   "cell_type": "code",
   "execution_count": 29,
   "metadata": {},
   "outputs": [
    {
     "name": "stdout",
     "output_type": "stream",
     "text": [
      "[[ 2.  4.  6.  8. 10.]\n",
      " [12. 14. 16. 18. 20.]]\n"
     ]
    }
   ],
   "source": [
    "# placeholder\n",
    "# It's common to use (None, # of features) for shape as none can be filled by number of samples in the data\n",
    "ph = tf.placeholder(tf.float32, shape=(None, 5))\n",
    "b = ph * 2\n",
    "with tf.Session() as sess:\n",
    "    result = sess.run(b, feed_dict={ph: [[1, 2, 3, 4, 5], [6, 7, 8, 9, 10]]})\n",
    "    print(result)"
   ]
  },
  {
   "cell_type": "code",
   "execution_count": 32,
   "metadata": {},
   "outputs": [
    {
     "name": "stdout",
     "output_type": "stream",
     "text": [
      "<class 'tensorflow.python.framework.ops.Tensor'>\n",
      "<class 'numpy.int32'>\n",
      "3\n"
     ]
    }
   ],
   "source": [
    "# Constant\n",
    "\n",
    "tensor_1 = tf.constant(1)\n",
    "tensor_2 = tf.constant(2)\n",
    "print(type(tensor_1))\n",
    "with tf.Session() as sess:\n",
    "    result = sess.run(tensor_1 + tensor_2)\n",
    "    print(type(result))\n",
    "    print(result)"
   ]
  },
  {
   "cell_type": "code",
   "execution_count": 36,
   "metadata": {},
   "outputs": [
    {
     "name": "stdout",
     "output_type": "stream",
     "text": [
      "(2, 2)\n",
      "(2, 1)\n",
      "[[210]\n",
      " [430]]\n"
     ]
    }
   ],
   "source": [
    "# 矩阵乘法\n",
    "\n",
    "a = tf.constant([[1, 2], \n",
    "                 [3, 4]])\n",
    "\n",
    "print(a.get_shape())\n",
    "\n",
    "b = tf.constant([[10], [100]])\n",
    "print(b.get_shape())\n",
    "\n",
    "mul = tf.matmul(a, b)\n",
    "with tf.Session() as sess:\n",
    "    result = sess.run(mul)\n",
    "    print(result)"
   ]
  },
  {
   "cell_type": "code",
   "execution_count": 37,
   "metadata": {},
   "outputs": [
    {
     "name": "stdout",
     "output_type": "stream",
     "text": [
      "3\n"
     ]
    }
   ],
   "source": [
    "# 创建额外的Graph\n",
    "\n",
    "n1 = tf.constant(1)\n",
    "n2 = tf.constant(2)\n",
    "n3 = n1 + n2\n",
    "with tf.Session() as sess:\n",
    "    result = sess.run(n3)\n",
    "    print(result)"
   ]
  },
  {
   "cell_type": "code",
   "execution_count": 39,
   "metadata": {},
   "outputs": [
    {
     "name": "stdout",
     "output_type": "stream",
     "text": [
      "<tensorflow.python.framework.ops.Graph object at 0x7f3b6e9f4048>\n",
      "<tensorflow.python.framework.ops.Graph object at 0x7f3b3c583080>\n"
     ]
    }
   ],
   "source": [
    "# When you start TF, a default graph is created. You can create additional graphs easily\n",
    "print(tf.get_default_graph())\n",
    "g = tf.Graph()\n",
    "print(g)"
   ]
  },
  {
   "cell_type": "code",
   "execution_count": 60,
   "metadata": {},
   "outputs": [
    {
     "name": "stdout",
     "output_type": "stream",
     "text": [
      "<tf.Variable 'Variable_41:0' shape=() dtype=int32_ref>\n",
      "1\n",
      "1\n"
     ]
    }
   ],
   "source": [
    "# Actual Code\n",
    "\n",
    "zero = tf.Variable(0)\n",
    "one = tf.constant(1)\n",
    "new_value = tf.add(zero, one)\n",
    "# Variable value can be changed\n",
    "update = tf.assign(zero, new_value)\n",
    "print(zero)\n",
    "init_op = tf.global_variables_initializer()\n",
    "with tf.Session() as sess:\n",
    "    for i in range(5):\n",
    "        sess.run(init_op)\n",
    "        sess.run(update)\n",
    "        result2 = sess.run(zero)\n",
    "        print(result)\n",
    "        print(result2)"
   ]
  },
  {
   "cell_type": "code",
   "execution_count": 63,
   "metadata": {},
   "outputs": [],
   "source": [
    "# 尝试改变常量的值\n",
    "# update_const = tf.assign(one, new_value)\n",
    "\n",
    "# 如果有变量的话， 必须先初始化 global_variables,才能往后面跑，否则会翻车"
   ]
  },
  {
   "cell_type": "code",
   "execution_count": null,
   "metadata": {},
   "outputs": [],
   "source": []
  }
 ],
 "metadata": {
  "kernelspec": {
   "display_name": "Python 3",
   "language": "python",
   "name": "python3"
  },
  "language_info": {
   "codemirror_mode": {
    "name": "ipython",
    "version": 3
   },
   "file_extension": ".py",
   "mimetype": "text/x-python",
   "name": "python",
   "nbconvert_exporter": "python",
   "pygments_lexer": "ipython3",
   "version": "3.6.9"
  }
 },
 "nbformat": 4,
 "nbformat_minor": 2
}
