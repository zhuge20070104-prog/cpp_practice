{
 "cells": [
  {
   "cell_type": "code",
   "execution_count": 1,
   "id": "177d2fb8-5880-4617-8e8c-a9ad5d8b16a7",
   "metadata": {},
   "outputs": [
    {
     "name": "stderr",
     "output_type": "stream",
     "text": [
      "2024-04-20 22:54:21.010690: I tensorflow/core/platform/cpu_feature_guard.cc:210] This TensorFlow binary is optimized to use available CPU instructions in performance-critical operations.\n",
      "To enable the following instructions: AVX2 FMA, in other operations, rebuild TensorFlow with the appropriate compiler flags.\n"
     ]
    }
   ],
   "source": [
    "# imports\n",
    "import os \n",
    "os.environ['KERAS_BACKEND'] = 'jax'\n",
    "\n",
    "import tensorflow as tf\n",
    "\n",
    "from tensorflow import data as tf_data\n",
    "import tensorflow_datasets as tfds\n",
    "import tensorflow.keras\n",
    "import keras_cv\n",
    "import keras\n",
    "import numpy as np\n",
    "from keras_cv import bounding_box\n",
    "import os\n",
    "from keras_cv import visualization\n",
    "import tqdm"
   ]
  },
  {
   "cell_type": "code",
   "execution_count": 2,
   "id": "38689981-c54d-4d32-ae1a-0a42057dad14",
   "metadata": {},
   "outputs": [],
   "source": [
    "# 3. env setup\n",
    "%matplotlib inline"
   ]
  },
  {
   "cell_type": "code",
   "execution_count": 3,
   "id": "8ec67f54-071d-49f4-a52c-2fb2b0621a08",
   "metadata": {},
   "outputs": [],
   "source": [
    "# 详细细节可参考: https://keras.io/guides/keras_cv/object_detection_keras_cv/\n",
    "\n",
    "# Let's get started by constructing a YOLOV8Detector pretrained on the pascalvoc dataset.\n",
    "pretrained_model = keras_cv.models.YOLOV8Detector.from_preset(\n",
    "    \"yolo_v8_m_pascalvoc\", bounding_box_format=\"xywh\"\n",
    ")"
   ]
  },
  {
   "cell_type": "code",
   "execution_count": 4,
   "id": "feeb2cca-1d20-4302-8b30-07869d4ea6a6",
   "metadata": {},
   "outputs": [],
   "source": [
    "# Resize the image to the model compat input size\n",
    "inference_resizing = keras_cv.layers.Resizing(\n",
    "    640, 640, pad_to_aspect_ratio=True, bounding_box_format='xywh'\n",
    ")"
   ]
  },
  {
   "cell_type": "code",
   "execution_count": 5,
   "id": "ecff4b1f-587b-4628-ba99-634cf4d7e665",
   "metadata": {},
   "outputs": [],
   "source": [
    "# keras_cv.visualization.plot_bounding_box_gallery() supports a class_mapping parameter to\n",
    "# highlight what class each box was assigned to. Let's assemble a class mapping now.\n",
    "\n",
    "class_ids = [\n",
    "    \"Aeroplane\",\n",
    "    \"Bicycle\",\n",
    "    \"Bird\",\n",
    "    \"Boat\",\n",
    "    \"Bottle\",\n",
    "    \"Bus\",\n",
    "    \"Car\",\n",
    "    \"Cat\",\n",
    "    \"Chair\",\n",
    "    \"Cow\",\n",
    "    \"Dining Table\",\n",
    "    \"Dog\",\n",
    "    \"Horse\",\n",
    "    \"Motorbike\",\n",
    "    \"Person\",\n",
    "    \"Potted Plant\",\n",
    "    \"Sheep\",\n",
    "    \"Sofa\",\n",
    "    \"Train\",\n",
    "    \"Tvmonitor\",\n",
    "    \"Total\",\n",
    "]\n",
    "\n",
    "class_mapping = dict(zip(range(len(class_ids)), class_ids))"
   ]
  },
  {
   "cell_type": "code",
   "execution_count": null,
   "id": "902d3b7e-0a01-4bbd-9a4e-23d1c3097ae2",
   "metadata": {},
   "outputs": [],
   "source": []
  }
 ],
 "metadata": {
  "kernelspec": {
   "display_name": "Python 3 (ipykernel)",
   "language": "python",
   "name": "python3"
  },
  "language_info": {
   "codemirror_mode": {
    "name": "ipython",
    "version": 3
   },
   "file_extension": ".py",
   "mimetype": "text/x-python",
   "name": "python",
   "nbconvert_exporter": "python",
   "pygments_lexer": "ipython3",
   "version": "3.11.0rc1"
  }
 },
 "nbformat": 4,
 "nbformat_minor": 5
}
