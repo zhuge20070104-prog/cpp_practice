{
 "cells": [
  {
   "cell_type": "code",
   "execution_count": 2,
   "metadata": {},
   "outputs": [],
   "source": [
    "# 1. 问题陈述\n",
    "# 猫狗分类\n",
    "\n",
    "# Importing the Keras libraries and packages\n",
    "from keras.models import Sequential\n",
    "from keras.layers import Conv2D\n",
    "from keras.layers import MaxPooling2D\n",
    "from keras.layers import Flatten\n",
    "from keras.layers import Dense, Activation\n",
    "from tensorflow.keras.utils import to_categorical\n",
    "import tensorflow as tf\n"
   ]
  },
  {
   "cell_type": "code",
   "execution_count": 3,
   "metadata": {},
   "outputs": [
    {
     "name": "stderr",
     "output_type": "stream",
     "text": [
      "/usr/local/lib/python3.11/dist-packages/keras/src/layers/convolutional/base_conv.py:99: UserWarning: Do not pass an `input_shape`/`input_dim` argument to a layer. When using Sequential models, prefer using an `Input(shape)` object as the first layer in the model instead.\n",
      "  super().__init__(\n"
     ]
    }
   ],
   "source": [
    "# 构建神经网络\n",
    "# 输入图像大小 64*64*3，\n",
    "# 激活函数relu，大于0的要，小于0的不激活\n",
    "# Conv2D需要复习下了\n",
    "\n",
    "classifier = Sequential()\n",
    "# Step1 - Convolution\n",
    "classifier.add(Conv2D(32, (3, 3), input_shape=(64, 64, 3), activation='relu'))\n",
    "classifier.add(MaxPooling2D((2, 2)))\n",
    "# Adding a second convolutional layer\n",
    "classifier.add(Conv2D(32, (3, 3), activation='relu'))\n",
    "classifier.add(MaxPooling2D((2, 2)))\n",
    "classifier.add(Flatten())\n",
    "classifier.add(Dense(512, activation='relu'))\n",
    "classifier.add(Dense(2, activation='softmax'))"
   ]
  },
  {
   "cell_type": "code",
   "execution_count": 4,
   "metadata": {},
   "outputs": [
    {
     "name": "stdout",
     "output_type": "stream",
     "text": [
      "Found 19998 images belonging to 2 classes.\n"
     ]
    }
   ],
   "source": [
    "# 读取图片数据\n",
    "# Fitting the CNN to the images\n",
    "from tensorflow.keras.preprocessing.image import ImageDataGenerator\n",
    "train_datagen = ImageDataGenerator(rescale=1./255,\n",
    "                                  shear_range=0.2,\n",
    "                                  zoom_range=0.2,\n",
    "                                  horizontal_flip=True)\n",
    "\n",
    "\n",
    "training_set = train_datagen.flow_from_directory('dataset/train_dataset',\n",
    "                                                target_size=(64, 64),\n",
    "                                                batch_size=32,\n",
    "                                                classes=['Cat', 'Dog'],\n",
    "                                                class_mode='categorical')\n"
   ]
  },
  {
   "cell_type": "code",
   "execution_count": 5,
   "metadata": {},
   "outputs": [
    {
     "name": "stdout",
     "output_type": "stream",
     "text": [
      "Found 5000 images belonging to 2 classes.\n"
     ]
    }
   ],
   "source": [
    "# 读取test_set\n",
    "test_datagen = ImageDataGenerator(rescale=1./255)\n",
    "test_set = test_datagen.flow_from_directory('dataset/test_dataset',\n",
    "                                           target_size=(64, 64),\n",
    "                                           batch_size=32,\n",
    "                                           class_mode='categorical',\n",
    "                                           classes=['Cat', 'Dog'])"
   ]
  },
  {
   "cell_type": "code",
   "execution_count": null,
   "metadata": {
    "scrolled": true
   },
   "outputs": [
    {
     "name": "stdout",
     "output_type": "stream",
     "text": [
      "Epoch 1/4\n",
      "\u001b[1m80/80\u001b[0m \u001b[32m━━━━━━━━━━━━━━━━━━━━\u001b[0m\u001b[37m\u001b[0m \u001b[1m40s\u001b[0m 467ms/step - accuracy: 0.7047 - loss: 0.5667 - val_accuracy: 0.7026 - val_loss: 0.5577\n",
      "Epoch 2/4\n",
      "\u001b[1m 2/80\u001b[0m \u001b[37m━━━━━━━━━━━━━━━━━━━━\u001b[0m \u001b[1m4s\u001b[0m 57ms/step - accuracy: 0.6953 - loss: 0.5420"
     ]
    },
    {
     "name": "stderr",
     "output_type": "stream",
     "text": [
      "2024-04-20 08:19:11.092946: W tensorflow/core/framework/local_rendezvous.cc:404] Local rendezvous is aborting with status: OUT_OF_RANGE: End of sequence\n",
      "\t [[{{node IteratorGetNext}}]]\n",
      "/usr/local/lib/python3.11/dist-packages/keras/src/callbacks/model_checkpoint.py:206: UserWarning: Can save best model only with val_acc available, skipping.\n",
      "  self._save_model(epoch=epoch, batch=None, logs=logs)\n"
     ]
    },
    {
     "name": "stdout",
     "output_type": "stream",
     "text": [
      "\u001b[1m80/80\u001b[0m \u001b[32m━━━━━━━━━━━━━━━━━━━━\u001b[0m\u001b[37m\u001b[0m \u001b[1m39s\u001b[0m 494ms/step - accuracy: 0.7184 - loss: 0.5591 - val_accuracy: 0.7362 - val_loss: 0.5327\n",
      "Epoch 3/4\n",
      "\u001b[1m 2/80\u001b[0m \u001b[37m━━━━━━━━━━━━━━━━━━━━\u001b[0m \u001b[1m4s\u001b[0m 63ms/step - accuracy: 0.6484 - loss: 0.5803"
     ]
    },
    {
     "name": "stderr",
     "output_type": "stream",
     "text": [
      "2024-04-20 08:19:50.220821: W tensorflow/core/framework/local_rendezvous.cc:404] Local rendezvous is aborting with status: OUT_OF_RANGE: End of sequence\n",
      "\t [[{{node IteratorGetNext}}]]\n"
     ]
    },
    {
     "name": "stdout",
     "output_type": "stream",
     "text": [
      "\u001b[1m80/80\u001b[0m \u001b[32m━━━━━━━━━━━━━━━━━━━━\u001b[0m\u001b[37m\u001b[0m \u001b[1m42s\u001b[0m 528ms/step - accuracy: 0.7135 - loss: 0.5729 - val_accuracy: 0.7496 - val_loss: 0.5096\n",
      "Epoch 4/4\n",
      "\u001b[1m 2/80\u001b[0m \u001b[37m━━━━━━━━━━━━━━━━━━━━\u001b[0m \u001b[1m5s\u001b[0m 65ms/step - accuracy: 0.7891 - loss: 0.5126"
     ]
    },
    {
     "name": "stderr",
     "output_type": "stream",
     "text": [
      "2024-04-20 08:20:32.023595: W tensorflow/core/framework/local_rendezvous.cc:404] Local rendezvous is aborting with status: OUT_OF_RANGE: End of sequence\n",
      "\t [[{{node IteratorGetNext}}]]\n"
     ]
    },
    {
     "name": "stdout",
     "output_type": "stream",
     "text": [
      "\u001b[1m69/80\u001b[0m \u001b[32m━━━━━━━━━━━━━━━━━\u001b[0m\u001b[37m━━━\u001b[0m \u001b[1m2s\u001b[0m 221ms/step - accuracy: 0.7318 - loss: 0.5482"
     ]
    }
   ],
   "source": [
    "# 定义一个回调函数来保存验证集上表现最好的模型\n",
    "checkpoint_callback = tf.keras.callbacks.ModelCheckpoint(\n",
    "    filepath='./best_model.keras',\n",
    "    monitor='val_acc',  # 监控验证集上的损失函数\n",
    "    save_best_only=True,  # 仅保存在验证集上表现最好的模型\n",
    "    save_weights_only=False,  # 保存整个模型（包括模型架构）\n",
    "    save_freq = 'epoch',\n",
    "    verbose=2 # 打印保存信息\n",
    ")\n",
    "\n",
    "classifier.compile(optimizer='adam',\n",
    "              loss='categorical_crossentropy',\n",
    "              metrics=['accuracy'])\n",
    "\n",
    "# 训练\n",
    "classifier.fit(training_set, \n",
    "                        steps_per_epoch=80,\n",
    "                        epochs=4,\n",
    "                        validation_data=test_set,\n",
    "                        validation_steps=2000,\n",
    "                        callbacks=[checkpoint_callback])"
   ]
  },
  {
   "cell_type": "code",
   "execution_count": 9,
   "metadata": {},
   "outputs": [
    {
     "name": "stdout",
     "output_type": "stream",
     "text": [
      "\u001b[1m1/1\u001b[0m \u001b[32m━━━━━━━━━━━━━━━━━━━━\u001b[0m\u001b[37m\u001b[0m \u001b[1m0s\u001b[0m 20ms/step\n",
      "Cat\n"
     ]
    }
   ],
   "source": [
    "# 使用单张图做预测\n",
    "\n",
    "import numpy as np\n",
    "from keras.preprocessing import image\n",
    "# best_model =  tf.keras.models.load_model('best_model.keras')\n",
    "test_image = image.load_img('dataset/single_prediction/101.jfif', target_size=(64, 64))\n",
    "# test_image = image.load_img('dataset/single_prediction/2.jpg', target_size=(64, 64))\n",
    "test_image = image.img_to_array(test_image)\n",
    "test_image = np.expand_dims(test_image, axis=0)\n",
    "result = classifier.predict(test_image)\n",
    "training_set.class_indices\n",
    "if result[0][0] == 1:\n",
    "    print(\"Cat\")\n",
    "else:\n",
    "    print(\"Dog\")"
   ]
  },
  {
   "cell_type": "code",
   "execution_count": 76,
   "metadata": {},
   "outputs": [],
   "source": [
    "# 5. 规律\n",
    "# acc 如果一直下降。 val_acc一直上升。\n",
    "# bias就越大。\n",
    "# bias越大，就说明我正在记住我现在训练的图片，\n",
    "# 我并不是在 识别 到底是猫还是狗。"
   ]
  }
 ],
 "metadata": {
  "kernelspec": {
   "display_name": "Python 3 (ipykernel)",
   "language": "python",
   "name": "python3"
  },
  "language_info": {
   "codemirror_mode": {
    "name": "ipython",
    "version": 3
   },
   "file_extension": ".py",
   "mimetype": "text/x-python",
   "name": "python",
   "nbconvert_exporter": "python",
   "pygments_lexer": "ipython3",
   "version": "3.11.0rc1"
  }
 },
 "nbformat": 4,
 "nbformat_minor": 4
}
