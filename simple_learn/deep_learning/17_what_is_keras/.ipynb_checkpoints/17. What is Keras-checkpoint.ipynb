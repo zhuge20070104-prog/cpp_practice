{
 "cells": [
  {
   "cell_type": "code",
   "execution_count": 1,
   "id": "3bdb438a-9b63-41f3-b8d9-11aaaa39a5f4",
   "metadata": {},
   "outputs": [],
   "source": [
    "# 1. Keras 是什么？\n",
    "# Keras is a high-level deep learning API written in Python for easy implementation of neural networks. It uses deep learning frameworks such as \n",
    "# Tensorflow, Pytorch etc as backend to make computation faster.\n",
    "\n",
    "# What is keras?\n",
    "# Keras works by using complex deep learning frameworks such as Tensorflow, PyTorch, mlpaid etc as the backend for fast computation while providing a user \n",
    "# friendly and easy-to-learn frontend."
   ]
  },
  {
   "cell_type": "code",
   "execution_count": 2,
   "id": "310ed598-c9d2-4fb2-b2ef-dc838668c640",
   "metadata": {},
   "outputs": [],
   "source": [
    "# 2. Working principle of Keras\n",
    "# Keras 工作原理\n",
    "# Keras uses computational graphs to express and evaluate mathematical expressions\n",
    "# Expressing complex problems as combination of simple mathematical operators\n",
    "# Useful for calculating derivatives by using backpropagation\n",
    "# Easy to implement distributed computation\n",
    "# For solving complex problems, specify input and outputs and make sure all nodes are connected"
   ]
  },
  {
   "cell_type": "code",
   "execution_count": 3,
   "id": "ba96d170-7ba7-488a-adc0-a4a9ca50803f",
   "metadata": {},
   "outputs": [],
   "source": [
    "# 3. Keras Model\n",
    "# Sequential model is a linear stack of layers where the previous layer leads into the next layer\n",
    "# Useful for simple classifier or decoder models"
   ]
  },
  {
   "cell_type": "code",
   "execution_count": 4,
   "id": "42e324ef-9b96-4967-8b31-47003713c4e6",
   "metadata": {},
   "outputs": [],
   "source": [
    "# 4. Functional model\n",
    "# Multi input and multi output model\n",
    "# Complex model which forks into two or more branches"
   ]
  },
  {
   "cell_type": "code",
   "execution_count": 5,
   "id": "d1544066-a221-4c1c-a2e8-d755f51b8afa",
   "metadata": {},
   "outputs": [],
   "source": [
    "# 6. Data preprocessing\n",
    "# 数据包括对2100名年龄在13岁至100岁之间的患者进行的临床试验，\n",
    "# 其中一半患者年龄在65岁以下，另一半患者年龄超过65岁。\n",
    "# 我们想找出患者因年龄而出现副作用的可能性"
   ]
  },
  {
   "cell_type": "code",
   "execution_count": 6,
   "id": "6643813a-40d7-4573-81ac-092c1dd00b0d",
   "metadata": {},
   "outputs": [],
   "source": [
    "# 7. 使用Keras 实现神经网络\n",
    "# 我们使用Jupyter notebook来进行实验\n",
    "# 引入预处理工具\n",
    "\n",
    "import numpy as np\n",
    "from random import randint\n",
    "from sklearn.utils import shuffle\n",
    "from sklearn.preprocessing import MinMaxScaler"
   ]
  },
  {
   "cell_type": "code",
   "execution_count": 8,
   "id": "e4768470-933b-43fc-96d3-d8b1cba3856c",
   "metadata": {},
   "outputs": [],
   "source": [
    "# 样例数据\n",
    "train_samples = []\n",
    "train_labels = []"
   ]
  },
  {
   "cell_type": "code",
   "execution_count": 9,
   "id": "5d33ba41-1faa-4d09-8c73-7c160de161f5",
   "metadata": {},
   "outputs": [],
   "source": [
    "# 生成样例数据\n",
    "# 100/(100 + 2000): 约略等于 5%\n",
    "for i in range(50):\n",
    "    # The 5% of younger individuals who did experience side effects\n",
    "    random_younger = randint(13, 64)\n",
    "    train_samples.append(random_younger)\n",
    "    train_labels.append(1)\n",
    "\n",
    "    # The 5% of older individuals who did not experience side effects\n",
    "    random_older = randint(65, 100)\n",
    "    train_samples.append(random_older)\n",
    "    train_labels.append(0)\n",
    "\n",
    "for i in range(1000):\n",
    "    # The 95% of younger individuals who did not experience side effects\n",
    "    random_younger = randint(13, 64)\n",
    "    train_samples.append(random_younger)\n",
    "    train_labels.append(0)\n",
    "\n",
    "    # The 95% of older individuals who did experience side effects\n",
    "    random_older = randint(65, 100)\n",
    "    train_samples.append(random_older)\n",
    "    train_labels.append(1)"
   ]
  },
  {
   "cell_type": "code",
   "execution_count": 12,
   "id": "650dee00-a907-4ee6-9a8d-31c24ad60822",
   "metadata": {},
   "outputs": [
    {
     "name": "stdout",
     "output_type": "stream",
     "text": [
      "[36, 94, 48, 96, 46]\n",
      "[1, 0, 1, 0, 1]\n"
     ]
    }
   ],
   "source": [
    "# 打印一下前5个Samples\n",
    "print(train_samples[:5])\n",
    "print(train_labels[:5])"
   ]
  },
  {
   "cell_type": "code",
   "execution_count": 13,
   "id": "79538b9a-e9bb-470c-89d8-ed3e47ae2082",
   "metadata": {},
   "outputs": [
    {
     "name": "stdout",
     "output_type": "stream",
     "text": [
      "2100 [36, 94, 48, 96, 46]\n",
      "2100 [1, 0, 1, 0, 1]\n"
     ]
    }
   ],
   "source": [
    "# double check一下数据格式符合要求\n",
    "print(len(train_samples), train_samples[:5])\n",
    "print(len(train_labels), train_labels[:5])"
   ]
  },
  {
   "cell_type": "code",
   "execution_count": 14,
   "id": "48011fd5-66d4-4112-8d17-1567d7928f36",
   "metadata": {},
   "outputs": [],
   "source": [
    "# Shuffle一下所有数据\n",
    "train_samples = np.array(train_samples)\n",
    "train_labels = np.array(train_labels)\n",
    "\n",
    "train_samples, train_labels = shuffle(train_samples, train_labels)"
   ]
  },
  {
   "cell_type": "code",
   "execution_count": 15,
   "id": "2fbc8194-4e4e-46e8-9840-d32e6fac2575",
   "metadata": {},
   "outputs": [],
   "source": [
    "# 将数据转换到 0-1区间MinMaxScaler\n",
    "scaler = MinMaxScaler(feature_range=(0, 1))\n",
    "scaled_train_samples = scaler.fit_transform(train_samples.reshape(-1, 1))"
   ]
  },
  {
   "cell_type": "code",
   "execution_count": 16,
   "id": "80cc4a5c-97c0-4e07-b477-b1f2a2523643",
   "metadata": {},
   "outputs": [
    {
     "name": "stdout",
     "output_type": "stream",
     "text": [
      "[[0.7816092 ]\n",
      " [0.83908046]\n",
      " [0.6091954 ]\n",
      " [0.97701149]\n",
      " [0.82758621]]\n"
     ]
    }
   ],
   "source": [
    "# 打印前5个Sample，确认转换成功\n",
    "print(scaled_train_samples[:5])"
   ]
  },
  {
   "cell_type": "code",
   "execution_count": 17,
   "id": "d3b6e2ac-c72f-4fa4-97ca-d48778b331f1",
   "metadata": {},
   "outputs": [],
   "source": [
    "# 创建神经网络\n",
    "import tensorflow as tf\n",
    "from tensorflow import keras\n",
    "from tensorflow.keras.models import Sequential\n",
    "from tensorflow.keras.layers import Dense, Activation\n",
    "from tensorflow.keras.optimizers import Adam\n",
    "from tensorflow.keras.metrics import categorical_crossentropy"
   ]
  },
  {
   "cell_type": "code",
   "execution_count": 19,
   "id": "e2b2c157-8fda-4fd0-8800-720c84f74369",
   "metadata": {},
   "outputs": [
    {
     "name": "stderr",
     "output_type": "stream",
     "text": [
      "/usr/local/lib/python3.11/dist-packages/keras/src/layers/core/dense.py:86: UserWarning: Do not pass an `input_shape`/`input_dim` argument to a layer. When using Sequential models, prefer using an `Input(shape)` object as the first layer in the model instead.\n",
      "  super().__init__(activity_regularizer=activity_regularizer, **kwargs)\n"
     ]
    }
   ],
   "source": [
    "model = Sequential()\n",
    "model.add(Dense(units=16, input_shape=(1,), activation='relu'))\n",
    "model.add(Dense(units=32, activation='relu'))\n",
    "model.add(Dense(units=2, activation='softmax'))"
   ]
  },
  {
   "cell_type": "code",
   "execution_count": 21,
   "id": "1d3562cb-68ae-4005-b4d6-e1b0ef0b24b7",
   "metadata": {},
   "outputs": [
    {
     "data": {
      "text/html": [
       "<pre style=\"white-space:pre;overflow-x:auto;line-height:normal;font-family:Menlo,'DejaVu Sans Mono',consolas,'Courier New',monospace\"><span style=\"font-weight: bold\">Model: \"sequential\"</span>\n",
       "</pre>\n"
      ],
      "text/plain": [
       "\u001b[1mModel: \"sequential\"\u001b[0m\n"
      ]
     },
     "metadata": {},
     "output_type": "display_data"
    },
    {
     "data": {
      "text/html": [
       "<pre style=\"white-space:pre;overflow-x:auto;line-height:normal;font-family:Menlo,'DejaVu Sans Mono',consolas,'Courier New',monospace\">┏━━━━━━━━━━━━━━━━━━━━━━━━━━━━━━━━━┳━━━━━━━━━━━━━━━━━━━━━━━━┳━━━━━━━━━━━━━━━┓\n",
       "┃<span style=\"font-weight: bold\"> Layer (type)                    </span>┃<span style=\"font-weight: bold\"> Output Shape           </span>┃<span style=\"font-weight: bold\">       Param # </span>┃\n",
       "┡━━━━━━━━━━━━━━━━━━━━━━━━━━━━━━━━━╇━━━━━━━━━━━━━━━━━━━━━━━━╇━━━━━━━━━━━━━━━┩\n",
       "│ dense_3 (<span style=\"color: #0087ff; text-decoration-color: #0087ff\">Dense</span>)                 │ (<span style=\"color: #00d7ff; text-decoration-color: #00d7ff\">None</span>, <span style=\"color: #00af00; text-decoration-color: #00af00\">16</span>)             │            <span style=\"color: #00af00; text-decoration-color: #00af00\">32</span> │\n",
       "├─────────────────────────────────┼────────────────────────┼───────────────┤\n",
       "│ dense_4 (<span style=\"color: #0087ff; text-decoration-color: #0087ff\">Dense</span>)                 │ (<span style=\"color: #00d7ff; text-decoration-color: #00d7ff\">None</span>, <span style=\"color: #00af00; text-decoration-color: #00af00\">32</span>)             │           <span style=\"color: #00af00; text-decoration-color: #00af00\">544</span> │\n",
       "├─────────────────────────────────┼────────────────────────┼───────────────┤\n",
       "│ dense_5 (<span style=\"color: #0087ff; text-decoration-color: #0087ff\">Dense</span>)                 │ (<span style=\"color: #00d7ff; text-decoration-color: #00d7ff\">None</span>, <span style=\"color: #00af00; text-decoration-color: #00af00\">2</span>)              │            <span style=\"color: #00af00; text-decoration-color: #00af00\">66</span> │\n",
       "└─────────────────────────────────┴────────────────────────┴───────────────┘\n",
       "</pre>\n"
      ],
      "text/plain": [
       "┏━━━━━━━━━━━━━━━━━━━━━━━━━━━━━━━━━┳━━━━━━━━━━━━━━━━━━━━━━━━┳━━━━━━━━━━━━━━━┓\n",
       "┃\u001b[1m \u001b[0m\u001b[1mLayer (type)                   \u001b[0m\u001b[1m \u001b[0m┃\u001b[1m \u001b[0m\u001b[1mOutput Shape          \u001b[0m\u001b[1m \u001b[0m┃\u001b[1m \u001b[0m\u001b[1m      Param #\u001b[0m\u001b[1m \u001b[0m┃\n",
       "┡━━━━━━━━━━━━━━━━━━━━━━━━━━━━━━━━━╇━━━━━━━━━━━━━━━━━━━━━━━━╇━━━━━━━━━━━━━━━┩\n",
       "│ dense_3 (\u001b[38;5;33mDense\u001b[0m)                 │ (\u001b[38;5;45mNone\u001b[0m, \u001b[38;5;34m16\u001b[0m)             │            \u001b[38;5;34m32\u001b[0m │\n",
       "├─────────────────────────────────┼────────────────────────┼───────────────┤\n",
       "│ dense_4 (\u001b[38;5;33mDense\u001b[0m)                 │ (\u001b[38;5;45mNone\u001b[0m, \u001b[38;5;34m32\u001b[0m)             │           \u001b[38;5;34m544\u001b[0m │\n",
       "├─────────────────────────────────┼────────────────────────┼───────────────┤\n",
       "│ dense_5 (\u001b[38;5;33mDense\u001b[0m)                 │ (\u001b[38;5;45mNone\u001b[0m, \u001b[38;5;34m2\u001b[0m)              │            \u001b[38;5;34m66\u001b[0m │\n",
       "└─────────────────────────────────┴────────────────────────┴───────────────┘\n"
      ]
     },
     "metadata": {},
     "output_type": "display_data"
    },
    {
     "data": {
      "text/html": [
       "<pre style=\"white-space:pre;overflow-x:auto;line-height:normal;font-family:Menlo,'DejaVu Sans Mono',consolas,'Courier New',monospace\"><span style=\"font-weight: bold\"> Total params: </span><span style=\"color: #00af00; text-decoration-color: #00af00\">642</span> (2.51 KB)\n",
       "</pre>\n"
      ],
      "text/plain": [
       "\u001b[1m Total params: \u001b[0m\u001b[38;5;34m642\u001b[0m (2.51 KB)\n"
      ]
     },
     "metadata": {},
     "output_type": "display_data"
    },
    {
     "data": {
      "text/html": [
       "<pre style=\"white-space:pre;overflow-x:auto;line-height:normal;font-family:Menlo,'DejaVu Sans Mono',consolas,'Courier New',monospace\"><span style=\"font-weight: bold\"> Trainable params: </span><span style=\"color: #00af00; text-decoration-color: #00af00\">642</span> (2.51 KB)\n",
       "</pre>\n"
      ],
      "text/plain": [
       "\u001b[1m Trainable params: \u001b[0m\u001b[38;5;34m642\u001b[0m (2.51 KB)\n"
      ]
     },
     "metadata": {},
     "output_type": "display_data"
    },
    {
     "data": {
      "text/html": [
       "<pre style=\"white-space:pre;overflow-x:auto;line-height:normal;font-family:Menlo,'DejaVu Sans Mono',consolas,'Courier New',monospace\"><span style=\"font-weight: bold\"> Non-trainable params: </span><span style=\"color: #00af00; text-decoration-color: #00af00\">0</span> (0.00 B)\n",
       "</pre>\n"
      ],
      "text/plain": [
       "\u001b[1m Non-trainable params: \u001b[0m\u001b[38;5;34m0\u001b[0m (0.00 B)\n"
      ]
     },
     "metadata": {},
     "output_type": "display_data"
    }
   ],
   "source": [
    "# model.summary 看下模型的情况\n",
    "model.summary()"
   ]
  },
  {
   "cell_type": "code",
   "execution_count": 22,
   "id": "2f628d4e-daeb-4bcd-af8f-a2e6cac3faf5",
   "metadata": {},
   "outputs": [
    {
     "name": "stdout",
     "output_type": "stream",
     "text": [
      "Epoch 1/30\n",
      "119/119 - 2s - 13ms/step - accuracy: 0.4974 - loss: 0.7027 - val_accuracy: 0.4952 - val_loss: 0.6979\n",
      "Epoch 2/30\n",
      "119/119 - 0s - 1ms/step - accuracy: 0.5376 - loss: 0.6938 - val_accuracy: 0.6381 - val_loss: 0.6893\n",
      "Epoch 3/30\n",
      "119/119 - 0s - 1ms/step - accuracy: 0.6312 - loss: 0.6841 - val_accuracy: 0.7048 - val_loss: 0.6780\n",
      "Epoch 4/30\n",
      "119/119 - 0s - 1ms/step - accuracy: 0.7222 - loss: 0.6728 - val_accuracy: 0.7095 - val_loss: 0.6671\n",
      "Epoch 5/30\n",
      "119/119 - 0s - 1ms/step - accuracy: 0.7418 - loss: 0.6604 - val_accuracy: 0.7714 - val_loss: 0.6530\n",
      "Epoch 6/30\n",
      "119/119 - 0s - 1ms/step - accuracy: 0.8011 - loss: 0.6421 - val_accuracy: 0.8238 - val_loss: 0.6296\n",
      "Epoch 7/30\n",
      "119/119 - 0s - 1ms/step - accuracy: 0.8439 - loss: 0.6176 - val_accuracy: 0.8571 - val_loss: 0.6063\n",
      "Epoch 8/30\n",
      "119/119 - 0s - 2ms/step - accuracy: 0.8566 - loss: 0.5947 - val_accuracy: 0.8762 - val_loss: 0.5852\n",
      "Epoch 9/30\n",
      "119/119 - 0s - 1ms/step - accuracy: 0.8656 - loss: 0.5741 - val_accuracy: 0.8762 - val_loss: 0.5651\n",
      "Epoch 10/30\n",
      "119/119 - 0s - 1ms/step - accuracy: 0.8672 - loss: 0.5537 - val_accuracy: 0.8762 - val_loss: 0.5450\n",
      "Epoch 11/30\n",
      "119/119 - 0s - 1ms/step - accuracy: 0.8688 - loss: 0.5334 - val_accuracy: 0.8810 - val_loss: 0.5251\n",
      "Epoch 12/30\n",
      "119/119 - 0s - 1ms/step - accuracy: 0.8735 - loss: 0.5134 - val_accuracy: 0.8810 - val_loss: 0.5055\n",
      "Epoch 13/30\n",
      "119/119 - 0s - 1ms/step - accuracy: 0.8762 - loss: 0.4937 - val_accuracy: 0.8810 - val_loss: 0.4862\n",
      "Epoch 14/30\n",
      "119/119 - 0s - 2ms/step - accuracy: 0.8778 - loss: 0.4747 - val_accuracy: 0.8857 - val_loss: 0.4680\n",
      "Epoch 15/30\n",
      "119/119 - 0s - 1ms/step - accuracy: 0.8852 - loss: 0.4564 - val_accuracy: 0.8857 - val_loss: 0.4504\n",
      "Epoch 16/30\n",
      "119/119 - 0s - 1ms/step - accuracy: 0.8852 - loss: 0.4388 - val_accuracy: 0.8857 - val_loss: 0.4334\n",
      "Epoch 17/30\n",
      "119/119 - 0s - 1ms/step - accuracy: 0.8952 - loss: 0.4220 - val_accuracy: 0.8857 - val_loss: 0.4178\n",
      "Epoch 18/30\n",
      "119/119 - 0s - 2ms/step - accuracy: 0.8958 - loss: 0.4064 - val_accuracy: 0.8857 - val_loss: 0.4028\n",
      "Epoch 19/30\n",
      "119/119 - 0s - 1ms/step - accuracy: 0.9085 - loss: 0.3927 - val_accuracy: 0.8857 - val_loss: 0.3901\n",
      "Epoch 20/30\n",
      "119/119 - 0s - 1ms/step - accuracy: 0.9016 - loss: 0.3797 - val_accuracy: 0.9000 - val_loss: 0.3783\n",
      "Epoch 21/30\n",
      "119/119 - 0s - 1ms/step - accuracy: 0.9069 - loss: 0.3682 - val_accuracy: 0.9000 - val_loss: 0.3676\n",
      "Epoch 22/30\n",
      "119/119 - 0s - 1ms/step - accuracy: 0.9074 - loss: 0.3580 - val_accuracy: 0.9143 - val_loss: 0.3586\n",
      "Epoch 23/30\n",
      "119/119 - 0s - 2ms/step - accuracy: 0.9138 - loss: 0.3487 - val_accuracy: 0.9143 - val_loss: 0.3502\n",
      "Epoch 24/30\n",
      "119/119 - 0s - 1ms/step - accuracy: 0.9138 - loss: 0.3402 - val_accuracy: 0.9143 - val_loss: 0.3424\n",
      "Epoch 25/30\n",
      "119/119 - 0s - 1ms/step - accuracy: 0.9138 - loss: 0.3332 - val_accuracy: 0.9143 - val_loss: 0.3360\n",
      "Epoch 26/30\n",
      "119/119 - 0s - 1ms/step - accuracy: 0.9138 - loss: 0.3264 - val_accuracy: 0.9143 - val_loss: 0.3302\n",
      "Epoch 27/30\n",
      "119/119 - 0s - 1ms/step - accuracy: 0.9175 - loss: 0.3206 - val_accuracy: 0.9143 - val_loss: 0.3248\n",
      "Epoch 28/30\n",
      "119/119 - 0s - 2ms/step - accuracy: 0.9175 - loss: 0.3154 - val_accuracy: 0.9143 - val_loss: 0.3200\n",
      "Epoch 29/30\n",
      "119/119 - 0s - 2ms/step - accuracy: 0.9138 - loss: 0.3109 - val_accuracy: 0.9286 - val_loss: 0.3159\n",
      "Epoch 30/30\n",
      "119/119 - 0s - 1ms/step - accuracy: 0.9243 - loss: 0.3067 - val_accuracy: 0.9286 - val_loss: 0.3122\n"
     ]
    },
    {
     "data": {
      "text/plain": [
       "<keras.src.callbacks.history.History at 0x7f8b6fd6a510>"
      ]
     },
     "execution_count": 22,
     "metadata": {},
     "output_type": "execute_result"
    }
   ],
   "source": [
    "model.compile(optimizer=Adam(learning_rate=0.0001), loss='sparse_categorical_crossentropy', metrics=['accuracy'])\n",
    "model.fit(x=scaled_train_samples, y=train_labels, validation_split=0.1, batch_size=16, shuffle=True, epochs=30, verbose=2)"
   ]
  },
  {
   "cell_type": "code",
   "execution_count": 26,
   "id": "2a6a4f57-1731-4aa9-8719-09d46c2e9e00",
   "metadata": {},
   "outputs": [],
   "source": [
    "# Build a test set and predicting\n",
    "# 测试集不用fit了，因为已经求出min和max了，直接transform就行了\n",
    "# 一共 420条测试集\n",
    "# 生成样例数据\n",
    "# 20/(20 + 400): 约略等于 5%\n",
    "\n",
    "test_samples = []\n",
    "test_labels = []\n",
    "for i in range(10):\n",
    "    # The 5% of younger individuals who did experience side effects\n",
    "    random_younger = randint(13, 64)\n",
    "    test_samples.append(random_younger)\n",
    "    test_labels.append(1)\n",
    "\n",
    "    # The 5% of older individuals who did not experience side effects\n",
    "    random_older = randint(65, 100)\n",
    "    test_samples.append(random_older)\n",
    "    test_labels.append(0)\n",
    "\n",
    "for i in range(200):\n",
    "    # The 95% of younger individuals who did not experience side effects\n",
    "    random_younger = randint(13, 64)\n",
    "    test_samples.append(random_younger)\n",
    "    test_labels.append(0)\n",
    "\n",
    "    # The 95% of older individuals who did experience side effects\n",
    "    random_older = randint(65, 100)\n",
    "    test_samples.append(random_older)\n",
    "    test_labels.append(1)"
   ]
  },
  {
   "cell_type": "code",
   "execution_count": 28,
   "id": "95e018ee-b6ae-49f2-98c1-861af48ee415",
   "metadata": {},
   "outputs": [
    {
     "data": {
      "text/plain": [
       "(420, 420)"
      ]
     },
     "execution_count": 28,
     "metadata": {},
     "output_type": "execute_result"
    }
   ],
   "source": [
    "len(test_samples), len(test_labels)"
   ]
  },
  {
   "cell_type": "code",
   "execution_count": 29,
   "id": "8d2623fb-ff60-4351-9984-8aa7fa1ba3f4",
   "metadata": {},
   "outputs": [],
   "source": [
    "# 测试集不用fit了，直接transform就行了\n",
    "test_samples = np.array(test_samples)\n",
    "test_labels = np.array(test_labels)\n",
    "\n",
    "test_samples, test_labels = shuffle(test_samples, test_labels)\n",
    "scaled_test_samples = scaler.transform(test_samples.reshape(-1, 1))"
   ]
  },
  {
   "cell_type": "code",
   "execution_count": 30,
   "id": "1e3e82be-48a4-4cef-84cd-c74eb6b8fbf3",
   "metadata": {},
   "outputs": [],
   "source": [
    "predictions = model.predict(x=scaled_test_samples, \n",
    "    batch_size=16,\n",
    "    verbose=0)"
   ]
  },
  {
   "cell_type": "code",
   "execution_count": 31,
   "id": "3007aad5-f308-4128-ba69-dc045b3eb6a6",
   "metadata": {},
   "outputs": [
    {
     "name": "stdout",
     "output_type": "stream",
     "text": [
      "[[0.05892057 0.9410795 ]\n",
      " [0.8304841  0.16951585]\n",
      " [0.9265837  0.07341632]\n",
      " [0.9291779  0.0708221 ]\n",
      " [0.12707245 0.8729276 ]]\n"
     ]
    }
   ],
   "source": [
    "print(predictions[:5])"
   ]
  },
  {
   "cell_type": "code",
   "execution_count": 35,
   "id": "9bafc307-29ea-4642-a930-3d1c8137360a",
   "metadata": {},
   "outputs": [
    {
     "name": "stdout",
     "output_type": "stream",
     "text": [
      "x_tests: [100  44  30  17  82]\n",
      "labels: [1 0 0 0 1]\n",
      "predictions: [1 0 0 0 1]\n"
     ]
    }
   ],
   "source": [
    "# 转成0，1\n",
    "\n",
    "rounded_predictions = np.argmax(predictions, axis=-1)\n",
    "print('x_tests: {}'.format(test_samples[0:5]))\n",
    "print('labels: {}'.format(test_labels[0:5]))\n",
    "print('predictions: {}'.format(rounded_predictions[0:5]))"
   ]
  },
  {
   "cell_type": "code",
   "execution_count": 36,
   "id": "de5d678c-f7e7-40ec-a49c-67eb1e90e221",
   "metadata": {},
   "outputs": [],
   "source": [
    "# 混淆矩阵\n",
    "from sklearn.metrics import confusion_matrix\n",
    "import itertools\n",
    "import matplotlib.pyplot as plt"
   ]
  },
  {
   "cell_type": "code",
   "execution_count": 63,
   "id": "7e4391f2-413f-4e72-9486-5f1a4f25d377",
   "metadata": {},
   "outputs": [],
   "source": [
    "def plot_confusion_matrix(cm, classes, normalize=False,\n",
    "                            title='Confusion Matrix',\n",
    "                            cmap=plt.cm.Blues):\n",
    "    '''\n",
    "    This function prints and plots the confusion matrix.\n",
    "    Normalization can be applied by setting `normalize=True`\n",
    "    '''\n",
    "    plt.imshow(cm, interpolation='nearest', cmap=cmap)\n",
    "    plt.title(title)\n",
    "    plt.colorbar()\n",
    "    tick_marks = np.arange(len(classes))\n",
    "    plt.xticks(tick_marks, classes, rotation=45)\n",
    "    plt.yticks(tick_marks, classes)\n",
    "    if normalize:\n",
    "        # np.newaxis 是加上一列的意思\n",
    "        cm = cm.astype('float') / cm.sum(axis=1)[:, np.newaxis]\n",
    "        print('Normalized confusion matrix')\n",
    "    else:\n",
    "        print('Confusion matrix, without nomoralization')\n",
    "\n",
    "    print(cm)\n",
    "    thresh = cm.max() /2.\n",
    "    for i, j in itertools.product(range(cm.shape[0]), range(cm.shape[1])):\n",
    "        plt.text(j, i, cm[i, j], \n",
    "            horizontalalignment='center',\n",
    "            color='white' if cm[i, j] > thresh else 'black')\n",
    "    plt.tight_layout()\n",
    "    plt.ylabel('True Label')\n",
    "    plt.xlabel('Predicted Label')\n"
   ]
  },
  {
   "cell_type": "code",
   "execution_count": 48,
   "id": "f7ed094b-407f-43c2-8ac9-5b5ed805bffa",
   "metadata": {},
   "outputs": [
    {
     "name": "stdout",
     "output_type": "stream",
     "text": [
      "0 0\n",
      "0 1\n",
      "1 0\n",
      "1 1\n"
     ]
    }
   ],
   "source": [
    "for i, j in itertools.product(range(cm.shape[0]), range(cm.shape[1])):\n",
    "    print(i, j)"
   ]
  },
  {
   "cell_type": "code",
   "execution_count": 47,
   "id": "f41e8741-5721-4fac-aba6-89b3f319b357",
   "metadata": {},
   "outputs": [
    {
     "name": "stdout",
     "output_type": "stream",
     "text": [
      "[[189  21]\n",
      " [ 10 200]]\n",
      "[[210]\n",
      " [210]]\n"
     ]
    }
   ],
   "source": [
    "print(cm)\n",
    "print(cm.sum(axis=1)[:, np.newaxis])"
   ]
  },
  {
   "cell_type": "code",
   "execution_count": 64,
   "id": "025f7084-16ea-4f6b-8007-91f3e572005e",
   "metadata": {},
   "outputs": [
    {
     "name": "stdout",
     "output_type": "stream",
     "text": [
      "Confusion matrix, without nomoralization\n",
      "[[189  21]\n",
      " [ 10 200]]\n"
     ]
    },
    {
     "data": {
      "image/png": "[encoded data removed]",
      "text/plain": [
       "<Figure size 640x480 with 2 Axes>"
      ]
     },
     "metadata": {},
     "output_type": "display_data"
    }
   ],
   "source": [
    "cm_plot_labels = ['no_side_effects', 'had_side_effects']\n",
    "cm = confusion_matrix(test_labels, rounded_predictions)\n",
    "plot_confusion_matrix(cm=cm, classes=cm_plot_labels, title='Confusion Matrix', normalize=False)"
   ]
  }
 ],
 "metadata": {
  "kernelspec": {
   "display_name": "Python 3 (ipykernel)",
   "language": "python",
   "name": "python3"
  },
  "language_info": {
   "codemirror_mode": {
    "name": "ipython",
    "version": 3
   },
   "file_extension": ".py",
   "mimetype": "text/x-python",
   "name": "python",
   "nbconvert_exporter": "python",
   "pygments_lexer": "ipython3",
   "version": "3.11.0rc1"
  }
 },
 "nbformat": 4,
 "nbformat_minor": 5
}
