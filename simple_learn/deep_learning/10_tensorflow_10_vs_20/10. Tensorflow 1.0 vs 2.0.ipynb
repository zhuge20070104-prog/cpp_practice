{
 "cells": [
  {
   "cell_type": "code",
   "execution_count": 1,
   "metadata": {},
   "outputs": [],
   "source": [
    "# 1. TF 1.0和TF 2.0的区别\n",
    "# Tensorflow 2.0 supports eager execution by default. It allows you to build your models and \n",
    "# run them instantly\n",
    "\n",
    "# 2. Tensorflow 2.0 内置Keras API\n",
    "# Sequential - 顺序模型， 一层叠下一层\n",
    "# Functional - 一个层分层两个层，然后两个层又叠层一层这种奇葩操作，一般在分类模型中使用\n",
    "# Subclassing - 复杂模型，继承Model类，自己实现自己的模型\n",
    "# 详情可以查看北大 Tensorflow教程曹健教授的课程"
   ]
  },
  {
   "cell_type": "code",
   "execution_count": 3,
   "metadata": {},
   "outputs": [],
   "source": [
    "# Keras is the high level API in Tensorflow 2.0\n",
    "# 3. Tensorflow 2.0 不需要tf.variable块了"
   ]
  },
  {
   "cell_type": "code",
   "execution_count": 4,
   "metadata": {},
   "outputs": [],
   "source": [
    "# 4. API Cleanup\n",
    "# In Tensorflow 2.0, a lot of APIs have been removed such as tf.app, tf.flags, and tf.logging"
   ]
  },
  {
   "cell_type": "code",
   "execution_count": 6,
   "metadata": {},
   "outputs": [],
   "source": [
    "# 5. Tensorflow 2.0 加入tf.function和AutoGraph特性"
   ]
  },
  {
   "cell_type": "code",
   "execution_count": 8,
   "metadata": {},
   "outputs": [],
   "source": [
    "# 6. 回忆下数据流图是个啥\n",
    "# Tensorflow performs computations with the help of dataflow graphs.\n",
    "# It has nodes that represent the operations in your model"
   ]
  },
  {
   "cell_type": "code",
   "execution_count": 10,
   "metadata": {},
   "outputs": [],
   "source": [
    "# 7. Tensorflow Toolkits Hierarchy\n",
    "# Estimator, tf.keras ----- High Level, object-oriented API\n",
    "# tf.layers, tf.losses, tf.metrics ----- Reusable libraries for model building\n",
    "# low-level TF API ----- Extensive control\n",
    "# CPU, GPU, TPU ----- TF code can run on multiple platforms"
   ]
  },
  {
   "cell_type": "code",
   "execution_count": 11,
   "metadata": {},
   "outputs": [],
   "source": [
    "# 8. Tensorflow 2.0 Architecture\n",
    "\n",
    "# Read & Preprocess data \n",
    "# Tensorflow Hub --> tf.keras, Premade estimators\n",
    "# Distribution strategy --> CPU, GPU, TPU\n",
    "\n",
    "# Saved model deployed --> Tensorflow serving cloud, on-prem\n",
    "#                          Tensorflow lite, Android, iOS, Raspberry PI\n",
    "#                          Tensorflow.js, Browser and Node server\n",
    "#                          Other language bindings, C, Java, Go, C#, Rust, R..."
   ]
  },
  {
   "cell_type": "code",
   "execution_count": 12,
   "metadata": {},
   "outputs": [
    {
     "name": "stdout",
     "output_type": "stream",
     "text": [
      "2.5.1\n"
     ]
    }
   ],
   "source": [
    "# 看下tf的版本\n",
    "import tensorflow as tf\n",
    "print(tf.__version__)"
   ]
  },
  {
   "cell_type": "code",
   "execution_count": 14,
   "metadata": {},
   "outputs": [
    {
     "data": {
      "text/plain": [
       "<tf.Tensor: shape=(2, 4), dtype=int32, numpy=\n",
       "array([[4, 3, 7, 8],\n",
       "       [6, 1, 4, 5]], dtype=int32)>"
      ]
     },
     "execution_count": 14,
     "metadata": {},
     "output_type": "execute_result"
    }
   ],
   "source": [
    "# 我们的版本会新一点\n",
    "# tf.constant创建常量\n",
    "# tf.Variable创建变量\n",
    "# tf.concat 合并变量\n",
    "\n",
    "A = tf.constant([[4,3], [6,1]], dtype=tf.int32)\n",
    "B = tf.constant([[7,8], [4,5]], dtype=tf.int32)\n",
    "\n",
    "AB_concatenated = tf.concat(values=[A, B], axis=1)\n",
    "AB_concatenated"
   ]
  },
  {
   "cell_type": "code",
   "execution_count": 15,
   "metadata": {},
   "outputs": [
    {
     "data": {
      "text/plain": [
       "<tf.Tensor: shape=(4, 2), dtype=int32, numpy=\n",
       "array([[4, 3],\n",
       "       [6, 1],\n",
       "       [7, 8],\n",
       "       [4, 5]], dtype=int32)>"
      ]
     },
     "execution_count": 15,
     "metadata": {},
     "output_type": "execute_result"
    }
   ],
   "source": [
    "# tf.concat axis =0 就可以按row concat\n",
    "AB_concatenated = tf.concat(values=[A, B], axis=0)\n",
    "AB_concatenated"
   ]
  },
  {
   "cell_type": "code",
   "execution_count": 17,
   "metadata": {},
   "outputs": [
    {
     "data": {
      "text/plain": [
       "<tf.Tensor: shape=(3, 4), dtype=float32, numpy=\n",
       "array([[0., 0., 0., 0.],\n",
       "       [0., 0., 0., 0.],\n",
       "       [0., 0., 0., 0.]], dtype=float32)>"
      ]
     },
     "execution_count": 17,
     "metadata": {},
     "output_type": "execute_result"
    }
   ],
   "source": [
    "# 各个平台上的float位数不同，我们需要 take care of it。\n",
    "# Tensorflow提供了各个平台上的不同数据类型的长度，便于移植\n",
    "\n",
    "tf.zeros((3, 4))"
   ]
  },
  {
   "cell_type": "code",
   "execution_count": 18,
   "metadata": {},
   "outputs": [
    {
     "data": {
      "text/plain": [
       "<tf.Tensor: shape=(3, 4), dtype=float32, numpy=\n",
       "array([[0., 0., 0., 0.],\n",
       "       [0., 0., 0., 0.],\n",
       "       [0., 0., 0., 0.]], dtype=float32)>"
      ]
     },
     "execution_count": 18,
     "metadata": {},
     "output_type": "execute_result"
    }
   ],
   "source": [
    "# 我们可以指定zeros的类型\n",
    "\n",
    "tensor = tf.zeros((3, 4), dtype=tf.float32)\n",
    "tensor"
   ]
  },
  {
   "cell_type": "code",
   "execution_count": 20,
   "metadata": {},
   "outputs": [
    {
     "data": {
      "text/plain": [
       "<tf.Tensor: shape=(3, 4), dtype=float32, numpy=\n",
       "array([[1., 1., 1., 1.],\n",
       "       [1., 1., 1., 1.],\n",
       "       [1., 1., 1., 1.]], dtype=float32)>"
      ]
     },
     "execution_count": 20,
     "metadata": {},
     "output_type": "execute_result"
    }
   ],
   "source": [
    "# tf.ones\n",
    "ones = tf.ones((3, 4), dtype=tf.float32)\n",
    "ones"
   ]
  },
  {
   "cell_type": "code",
   "execution_count": 21,
   "metadata": {},
   "outputs": [
    {
     "data": {
      "text/plain": [
       "<tf.Tensor: shape=(4, 3), dtype=float32, numpy=\n",
       "array([[1., 1., 1.],\n",
       "       [1., 1., 1.],\n",
       "       [1., 1., 1.],\n",
       "       [1., 1., 1.]], dtype=float32)>"
      ]
     },
     "execution_count": 21,
     "metadata": {},
     "output_type": "execute_result"
    }
   ],
   "source": [
    "# tf.reshape\n",
    "reshaped_ones = tf.reshape(tensor=ones, shape=[4, 3])\n",
    "reshaped_ones"
   ]
  },
  {
   "cell_type": "code",
   "execution_count": 22,
   "metadata": {},
   "outputs": [
    {
     "data": {
      "text/plain": [
       "<tf.Tensor: shape=(3, 4), dtype=float32, numpy=\n",
       "array([[0.36536753, 0.33566654, 0.24723816, 0.12452435],\n",
       "       [0.16359544, 0.034729  , 0.39126766, 0.70757914],\n",
       "       [0.71276   , 0.2448641 , 0.9439751 , 0.25460708]], dtype=float32)>"
      ]
     },
     "execution_count": 22,
     "metadata": {},
     "output_type": "execute_result"
    }
   ],
   "source": [
    "# tf.random.uniform\n",
    "# 3*4 均匀分布的随机数\n",
    "\n",
    "tensor = tf.random.uniform(shape=[3, 4], dtype=tf.float32)\n",
    "tensor"
   ]
  },
  {
   "cell_type": "code",
   "execution_count": 23,
   "metadata": {},
   "outputs": [
    {
     "name": "stdout",
     "output_type": "stream",
     "text": [
      "tf.Tensor(\n",
      "[[4.6 4.2]\n",
      " [7.5 3.6]\n",
      " [2.7 9.4]\n",
      " [6.7 8.3]], shape=(4, 2), dtype=float32)\n",
      "tf.Tensor(\n",
      "[[4 4]\n",
      " [7 3]\n",
      " [2 9]\n",
      " [6 8]], shape=(4, 2), dtype=int32)\n"
     ]
    }
   ],
   "source": [
    "# tf.cast\n",
    "# int32之后，小数位全部被去掉了\n",
    "\n",
    "tensor = tf.constant([[4.6, 4.2],\n",
    "                     [7.5, 3.6],\n",
    "                     [2.7, 9.4],\n",
    "                     [6.7, 8.3]],\n",
    "                    dtype=tf.float32)\n",
    "\n",
    "tensor_as_int = tf.cast(tensor, tf.int32)\n",
    "print(tensor)\n",
    "print(tensor_as_int)"
   ]
  },
  {
   "cell_type": "code",
   "execution_count": 24,
   "metadata": {},
   "outputs": [
    {
     "data": {
      "text/plain": [
       "<tf.Tensor: shape=(2, 4), dtype=int32, numpy=\n",
       "array([[4, 7, 2, 6],\n",
       "       [4, 3, 9, 8]], dtype=int32)>"
      ]
     },
     "execution_count": 24,
     "metadata": {},
     "output_type": "execute_result"
    }
   ],
   "source": [
    "# 转置\n",
    "\n",
    "a = tf.transpose(tensor_as_int)\n",
    "a"
   ]
  },
  {
   "cell_type": "code",
   "execution_count": 25,
   "metadata": {},
   "outputs": [
    {
     "data": {
      "text/plain": [
       "<tf.Tensor: shape=(2, 1), dtype=int32, numpy=\n",
       "array([[36],\n",
       "       [30]], dtype=int32)>"
      ]
     },
     "execution_count": 25,
     "metadata": {},
     "output_type": "execute_result"
    }
   ],
   "source": [
    "# 矩阵乘法\n",
    "a = tf.constant([[5, 8],\n",
    "                [3, 9]])\n",
    "\n",
    "b = tf.constant([[4],\n",
    "                [2]])\n",
    "\n",
    "ab = tf.matmul(a, b)\n",
    "ab"
   ]
  },
  {
   "cell_type": "code",
   "execution_count": 26,
   "metadata": {},
   "outputs": [
    {
     "data": {
      "text/plain": [
       "<tf.Tensor: shape=(2, 2), dtype=int32, numpy=\n",
       "array([[20, 32],\n",
       "       [ 6, 18]], dtype=int32)>"
      ]
     },
     "execution_count": 26,
     "metadata": {},
     "output_type": "execute_result"
    }
   ],
   "source": [
    "# 乘法\n",
    "# 按行做乘法\n",
    "# Element-wise multiplication\n",
    "a_b_mul = tf.multiply(a, b)\n",
    "a_b_mul\n"
   ]
  },
  {
   "cell_type": "code",
   "execution_count": 28,
   "metadata": {},
   "outputs": [
    {
     "name": "stdout",
     "output_type": "stream",
     "text": [
      "rows:  3 columns:  2\n"
     ]
    }
   ],
   "source": [
    "# shape\n",
    "A = tf.constant([[4, 9], \n",
    "                [5, 6],\n",
    "                [1, 8]])\n",
    "\n",
    "rows, cols = A.shape\n",
    "print('rows: ', rows, 'columns: ', cols)"
   ]
  },
  {
   "cell_type": "code",
   "execution_count": 29,
   "metadata": {},
   "outputs": [
    {
     "data": {
      "text/plain": [
       "<tf.Tensor: shape=(3, 2), dtype=int32, numpy=\n",
       "array([[1, 0],\n",
       "       [0, 1],\n",
       "       [0, 0]], dtype=int32)>"
      ]
     },
     "execution_count": 29,
     "metadata": {},
     "output_type": "execute_result"
    }
   ],
   "source": [
    "# 构建单位阵\n",
    "a_identity = tf.eye(num_rows=rows,\n",
    "                   num_columns=cols,\n",
    "                   dtype=tf.int32)\n",
    "\n",
    "a_identity"
   ]
  }
 ],
 "metadata": {
  "kernelspec": {
   "display_name": "Python 3",
   "language": "python",
   "name": "python3"
  },
  "language_info": {
   "codemirror_mode": {
    "name": "ipython",
    "version": 3
   },
   "file_extension": ".py",
   "mimetype": "text/x-python",
   "name": "python",
   "nbconvert_exporter": "python",
   "pygments_lexer": "ipython3",
   "version": "3.6.9"
  }
 },
 "nbformat": 4,
 "nbformat_minor": 2
}
