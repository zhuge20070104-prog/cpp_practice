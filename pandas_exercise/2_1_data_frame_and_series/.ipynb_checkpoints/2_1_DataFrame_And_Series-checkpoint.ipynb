{
 "cells": [
  {
   "cell_type": "code",
   "execution_count": 1,
   "id": "b4dac2fe",
   "metadata": {},
   "outputs": [],
   "source": [
    "import numpy as np\n",
    "import pandas as pd"
   ]
  },
  {
   "cell_type": "code",
   "execution_count": 3,
   "id": "aec7e658",
   "metadata": {},
   "outputs": [
    {
     "data": {
      "text/plain": [
       "DatetimeIndex(['2020-03-01', '2020-03-02', '2020-03-03', '2020-03-04',\n",
       "               '2020-03-05', '2020-03-06', '2020-03-07', '2020-03-08',\n",
       "               '2020-03-09', '2020-03-10'],\n",
       "              dtype='datetime64[ns]', freq='D')"
      ]
     },
     "execution_count": 3,
     "metadata": {},
     "output_type": "execute_result"
    }
   ],
   "source": [
    "# 使用pd.date_range创建日期列表\n",
    "d = pd.date_range('20200301', periods=10)\n",
    "d"
   ]
  },
  {
   "cell_type": "code",
   "execution_count": 5,
   "id": "9e2ac71d",
   "metadata": {},
   "outputs": [
    {
     "data": {
      "text/html": [
       "<div>\n",
       "<style scoped>\n",
       "    .dataframe tbody tr th:only-of-type {\n",
       "        vertical-align: middle;\n",
       "    }\n",
       "\n",
       "    .dataframe tbody tr th {\n",
       "        vertical-align: top;\n",
       "    }\n",
       "\n",
       "    .dataframe thead th {\n",
       "        text-align: right;\n",
       "    }\n",
       "</style>\n",
       "<table border=\"1\" class=\"dataframe\">\n",
       "  <thead>\n",
       "    <tr style=\"text-align: right;\">\n",
       "      <th></th>\n",
       "      <th>A</th>\n",
       "      <th>B</th>\n",
       "      <th>C</th>\n",
       "      <th>D</th>\n",
       "    </tr>\n",
       "  </thead>\n",
       "  <tbody>\n",
       "    <tr>\n",
       "      <th>2020-03-01</th>\n",
       "      <td>0.334894</td>\n",
       "      <td>-0.990988</td>\n",
       "      <td>-0.579822</td>\n",
       "      <td>0.762242</td>\n",
       "    </tr>\n",
       "    <tr>\n",
       "      <th>2020-03-02</th>\n",
       "      <td>-0.311384</td>\n",
       "      <td>0.240783</td>\n",
       "      <td>0.545799</td>\n",
       "      <td>2.463695</td>\n",
       "    </tr>\n",
       "    <tr>\n",
       "      <th>2020-03-03</th>\n",
       "      <td>0.786385</td>\n",
       "      <td>1.123314</td>\n",
       "      <td>-1.098852</td>\n",
       "      <td>-0.177784</td>\n",
       "    </tr>\n",
       "    <tr>\n",
       "      <th>2020-03-04</th>\n",
       "      <td>-0.726773</td>\n",
       "      <td>0.740826</td>\n",
       "      <td>-2.931434</td>\n",
       "      <td>1.133193</td>\n",
       "    </tr>\n",
       "    <tr>\n",
       "      <th>2020-03-05</th>\n",
       "      <td>-1.141144</td>\n",
       "      <td>1.418050</td>\n",
       "      <td>1.510400</td>\n",
       "      <td>-0.144376</td>\n",
       "    </tr>\n",
       "    <tr>\n",
       "      <th>2020-03-06</th>\n",
       "      <td>2.283966</td>\n",
       "      <td>-0.685187</td>\n",
       "      <td>-0.730134</td>\n",
       "      <td>-0.869561</td>\n",
       "    </tr>\n",
       "    <tr>\n",
       "      <th>2020-03-07</th>\n",
       "      <td>0.978413</td>\n",
       "      <td>0.003003</td>\n",
       "      <td>-1.185696</td>\n",
       "      <td>2.476565</td>\n",
       "    </tr>\n",
       "    <tr>\n",
       "      <th>2020-03-08</th>\n",
       "      <td>-0.357474</td>\n",
       "      <td>0.630227</td>\n",
       "      <td>0.639508</td>\n",
       "      <td>-0.594125</td>\n",
       "    </tr>\n",
       "    <tr>\n",
       "      <th>2020-03-09</th>\n",
       "      <td>0.376482</td>\n",
       "      <td>0.640752</td>\n",
       "      <td>-1.094215</td>\n",
       "      <td>1.704995</td>\n",
       "    </tr>\n",
       "    <tr>\n",
       "      <th>2020-03-10</th>\n",
       "      <td>-0.108049</td>\n",
       "      <td>-0.478565</td>\n",
       "      <td>-1.383000</td>\n",
       "      <td>-1.122764</td>\n",
       "    </tr>\n",
       "  </tbody>\n",
       "</table>\n",
       "</div>"
      ],
      "text/plain": [
       "                   A         B         C         D\n",
       "2020-03-01  0.334894 -0.990988 -0.579822  0.762242\n",
       "2020-03-02 -0.311384  0.240783  0.545799  2.463695\n",
       "2020-03-03  0.786385  1.123314 -1.098852 -0.177784\n",
       "2020-03-04 -0.726773  0.740826 -2.931434  1.133193\n",
       "2020-03-05 -1.141144  1.418050  1.510400 -0.144376\n",
       "2020-03-06  2.283966 -0.685187 -0.730134 -0.869561\n",
       "2020-03-07  0.978413  0.003003 -1.185696  2.476565\n",
       "2020-03-08 -0.357474  0.630227  0.639508 -0.594125\n",
       "2020-03-09  0.376482  0.640752 -1.094215  1.704995\n",
       "2020-03-10 -0.108049 -0.478565 -1.383000 -1.122764"
      ]
     },
     "execution_count": 5,
     "metadata": {},
     "output_type": "execute_result"
    }
   ],
   "source": [
    "# 使用row index 和 column names创建DataFrame\n",
    "df = pd.DataFrame(np.random.randn(10, 4), index=d, columns=['A', 'B', 'C', 'D'])\n",
    "df"
   ]
  },
  {
   "cell_type": "code",
   "execution_count": 8,
   "id": "2be19319",
   "metadata": {},
   "outputs": [
    {
     "data": {
      "text/html": [
       "<div>\n",
       "<style scoped>\n",
       "    .dataframe tbody tr th:only-of-type {\n",
       "        vertical-align: middle;\n",
       "    }\n",
       "\n",
       "    .dataframe tbody tr th {\n",
       "        vertical-align: top;\n",
       "    }\n",
       "\n",
       "    .dataframe thead th {\n",
       "        text-align: right;\n",
       "    }\n",
       "</style>\n",
       "<table border=\"1\" class=\"dataframe\">\n",
       "  <thead>\n",
       "    <tr style=\"text-align: right;\">\n",
       "      <th></th>\n",
       "      <th>A</th>\n",
       "      <th>B</th>\n",
       "      <th>C</th>\n",
       "      <th>D</th>\n",
       "      <th>E</th>\n",
       "      <th>F</th>\n",
       "    </tr>\n",
       "  </thead>\n",
       "  <tbody>\n",
       "    <tr>\n",
       "      <th>4</th>\n",
       "      <td>1</td>\n",
       "      <td>2020-03-01</td>\n",
       "      <td>1.0</td>\n",
       "      <td>5</td>\n",
       "      <td>True</td>\n",
       "      <td>Edureka</td>\n",
       "    </tr>\n",
       "    <tr>\n",
       "      <th>5</th>\n",
       "      <td>2</td>\n",
       "      <td>2020-03-01</td>\n",
       "      <td>1.0</td>\n",
       "      <td>5</td>\n",
       "      <td>False</td>\n",
       "      <td>Edureka</td>\n",
       "    </tr>\n",
       "    <tr>\n",
       "      <th>6</th>\n",
       "      <td>3</td>\n",
       "      <td>2020-03-01</td>\n",
       "      <td>1.0</td>\n",
       "      <td>5</td>\n",
       "      <td>True</td>\n",
       "      <td>Edureka</td>\n",
       "    </tr>\n",
       "    <tr>\n",
       "      <th>7</th>\n",
       "      <td>4</td>\n",
       "      <td>2020-03-01</td>\n",
       "      <td>1.0</td>\n",
       "      <td>5</td>\n",
       "      <td>False</td>\n",
       "      <td>Edureka</td>\n",
       "    </tr>\n",
       "  </tbody>\n",
       "</table>\n",
       "</div>"
      ],
      "text/plain": [
       "   A          B    C  D      E        F\n",
       "4  1 2020-03-01  1.0  5   True  Edureka\n",
       "5  2 2020-03-01  1.0  5  False  Edureka\n",
       "6  3 2020-03-01  1.0  5   True  Edureka\n",
       "7  4 2020-03-01  1.0  5  False  Edureka"
      ]
     },
     "execution_count": 8,
     "metadata": {},
     "output_type": "execute_result"
    }
   ],
   "source": [
    "# 使用python 字典构建 DataFrame\n",
    "# 共用了C列的index\n",
    "df_1 = pd.DataFrame({'A': [1, 2, 3, 4],\n",
    "                     'B': pd.Timestamp('20200301'),\n",
    "                     'C': pd.Series(1, index=list(range(4, 8)), dtype='float32'),\n",
    "                     'D': np.array([5]*4, dtype='int32'),\n",
    "                     'E': pd.Categorical(['True', 'False', 'True', 'False']),\n",
    "                     'F': 'Edureka'\n",
    "                    })\n",
    "df_1"
   ]
  },
  {
   "cell_type": "code",
   "execution_count": 10,
   "id": "83313997",
   "metadata": {},
   "outputs": [
    {
     "data": {
      "text/plain": [
       "A             int64\n",
       "B    datetime64[ns]\n",
       "C           float32\n",
       "D             int32\n",
       "E          category\n",
       "F            object\n",
       "dtype: object"
      ]
     },
     "execution_count": 10,
     "metadata": {},
     "output_type": "execute_result"
    }
   ],
   "source": [
    "# 新版本的DataFrame中，最后一列是string，而不是object\n",
    "df_1.dtypes"
   ]
  }
 ],
 "metadata": {
  "kernelspec": {
   "display_name": "Python 3 (ipykernel)",
   "language": "python",
   "name": "python3"
  },
  "language_info": {
   "codemirror_mode": {
    "name": "ipython",
    "version": 3
   },
   "file_extension": ".py",
   "mimetype": "text/x-python",
   "name": "python",
   "nbconvert_exporter": "python",
   "pygments_lexer": "ipython3",
   "version": "3.8.17"
  }
 },
 "nbformat": 4,
 "nbformat_minor": 5
}
