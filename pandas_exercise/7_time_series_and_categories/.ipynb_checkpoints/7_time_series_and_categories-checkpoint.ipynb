{
 "cells": [
  {
   "cell_type": "code",
   "execution_count": 1,
   "id": "60c2d01d",
   "metadata": {},
   "outputs": [],
   "source": [
    "import numpy as np\n",
    "import pandas as pd"
   ]
  },
  {
   "cell_type": "code",
   "execution_count": 3,
   "id": "abba8aee",
   "metadata": {},
   "outputs": [
    {
     "data": {
      "text/plain": [
       "DatetimeIndex(['2020-03-01 00:00:00', '2020-03-01 00:00:01',\n",
       "               '2020-03-01 00:00:02', '2020-03-01 00:00:03',\n",
       "               '2020-03-01 00:00:04', '2020-03-01 00:00:05',\n",
       "               '2020-03-01 00:00:06', '2020-03-01 00:00:07',\n",
       "               '2020-03-01 00:00:08', '2020-03-01 00:00:09',\n",
       "               '2020-03-01 00:00:10', '2020-03-01 00:00:11',\n",
       "               '2020-03-01 00:00:12', '2020-03-01 00:00:13',\n",
       "               '2020-03-01 00:00:14', '2020-03-01 00:00:15',\n",
       "               '2020-03-01 00:00:16', '2020-03-01 00:00:17',\n",
       "               '2020-03-01 00:00:18', '2020-03-01 00:00:19',\n",
       "               '2020-03-01 00:00:20', '2020-03-01 00:00:21',\n",
       "               '2020-03-01 00:00:22', '2020-03-01 00:00:23',\n",
       "               '2020-03-01 00:00:24', '2020-03-01 00:00:25',\n",
       "               '2020-03-01 00:00:26', '2020-03-01 00:00:27',\n",
       "               '2020-03-01 00:00:28', '2020-03-01 00:00:29',\n",
       "               '2020-03-01 00:00:30', '2020-03-01 00:00:31',\n",
       "               '2020-03-01 00:00:32', '2020-03-01 00:00:33',\n",
       "               '2020-03-01 00:00:34', '2020-03-01 00:00:35',\n",
       "               '2020-03-01 00:00:36', '2020-03-01 00:00:37',\n",
       "               '2020-03-01 00:00:38', '2020-03-01 00:00:39',\n",
       "               '2020-03-01 00:00:40', '2020-03-01 00:00:41',\n",
       "               '2020-03-01 00:00:42', '2020-03-01 00:00:43',\n",
       "               '2020-03-01 00:00:44', '2020-03-01 00:00:45',\n",
       "               '2020-03-01 00:00:46', '2020-03-01 00:00:47',\n",
       "               '2020-03-01 00:00:48', '2020-03-01 00:00:49',\n",
       "               '2020-03-01 00:00:50', '2020-03-01 00:00:51',\n",
       "               '2020-03-01 00:00:52', '2020-03-01 00:00:53',\n",
       "               '2020-03-01 00:00:54', '2020-03-01 00:00:55',\n",
       "               '2020-03-01 00:00:56', '2020-03-01 00:00:57',\n",
       "               '2020-03-01 00:00:58', '2020-03-01 00:00:59',\n",
       "               '2020-03-01 00:01:00', '2020-03-01 00:01:01',\n",
       "               '2020-03-01 00:01:02', '2020-03-01 00:01:03',\n",
       "               '2020-03-01 00:01:04', '2020-03-01 00:01:05',\n",
       "               '2020-03-01 00:01:06', '2020-03-01 00:01:07',\n",
       "               '2020-03-01 00:01:08', '2020-03-01 00:01:09',\n",
       "               '2020-03-01 00:01:10', '2020-03-01 00:01:11',\n",
       "               '2020-03-01 00:01:12', '2020-03-01 00:01:13',\n",
       "               '2020-03-01 00:01:14', '2020-03-01 00:01:15',\n",
       "               '2020-03-01 00:01:16', '2020-03-01 00:01:17',\n",
       "               '2020-03-01 00:01:18', '2020-03-01 00:01:19',\n",
       "               '2020-03-01 00:01:20', '2020-03-01 00:01:21',\n",
       "               '2020-03-01 00:01:22', '2020-03-01 00:01:23',\n",
       "               '2020-03-01 00:01:24', '2020-03-01 00:01:25',\n",
       "               '2020-03-01 00:01:26', '2020-03-01 00:01:27',\n",
       "               '2020-03-01 00:01:28', '2020-03-01 00:01:29',\n",
       "               '2020-03-01 00:01:30', '2020-03-01 00:01:31',\n",
       "               '2020-03-01 00:01:32', '2020-03-01 00:01:33',\n",
       "               '2020-03-01 00:01:34', '2020-03-01 00:01:35',\n",
       "               '2020-03-01 00:01:36', '2020-03-01 00:01:37',\n",
       "               '2020-03-01 00:01:38', '2020-03-01 00:01:39'],\n",
       "              dtype='datetime64[ns]', freq='S')"
      ]
     },
     "execution_count": 3,
     "metadata": {},
     "output_type": "execute_result"
    }
   ],
   "source": [
    "# 创建一个 datetime series\n",
    "dates = pd.date_range('20200301', periods=100, freq='S')\n",
    "dates"
   ]
  },
  {
   "cell_type": "code",
   "execution_count": 11,
   "id": "848a2d4d",
   "metadata": {},
   "outputs": [
    {
     "data": {
      "text/plain": [
       "DatetimeIndex(['2022-03-03 00:00:00', '2022-03-03 00:00:01',\n",
       "               '2022-03-03 00:00:02', '2022-03-03 00:00:03',\n",
       "               '2022-03-03 00:00:04', '2022-03-03 00:00:05',\n",
       "               '2022-03-03 00:00:06', '2022-03-03 00:00:07',\n",
       "               '2022-03-03 00:00:08'],\n",
       "              dtype='datetime64[ns]', freq='S')"
      ]
     },
     "execution_count": 11,
     "metadata": {},
     "output_type": "execute_result"
    }
   ],
   "source": [
    "# resample的例子，每3秒采样一个组，求和\n",
    "dates = pd.date_range('3/3/2022', periods=9, freq='S')\n",
    "dates"
   ]
  },
  {
   "cell_type": "code",
   "execution_count": 12,
   "id": "c4cdf5d8",
   "metadata": {},
   "outputs": [
    {
     "data": {
      "text/plain": [
       "2022-03-03 00:00:00    0\n",
       "2022-03-03 00:00:01    1\n",
       "2022-03-03 00:00:02    2\n",
       "2022-03-03 00:00:03    3\n",
       "2022-03-03 00:00:04    4\n",
       "2022-03-03 00:00:05    5\n",
       "2022-03-03 00:00:06    6\n",
       "2022-03-03 00:00:07    7\n",
       "2022-03-03 00:00:08    8\n",
       "Freq: S, dtype: int64"
      ]
     },
     "execution_count": 12,
     "metadata": {},
     "output_type": "execute_result"
    }
   ],
   "source": [
    "ts = pd.Series(range(0, 9), dates)\n",
    "ts"
   ]
  },
  {
   "cell_type": "code",
   "execution_count": 13,
   "id": "56e18c03",
   "metadata": {},
   "outputs": [
    {
     "data": {
      "text/plain": [
       "2022-03-03 00:00:00     3\n",
       "2022-03-03 00:00:03    12\n",
       "2022-03-03 00:00:06    21\n",
       "Freq: 3S, dtype: int64"
      ]
     },
     "execution_count": 13,
     "metadata": {},
     "output_type": "execute_result"
    }
   ],
   "source": [
    "ts.resample('3S').sum()"
   ]
  },
  {
   "cell_type": "code",
   "execution_count": 17,
   "id": "178e7560",
   "metadata": {},
   "outputs": [
    {
     "data": {
      "text/plain": [
       "2020-03-03 00:00:00    1.274324\n",
       "2020-03-03 00:00:01    0.689352\n",
       "2020-03-03 00:00:02    0.977939\n",
       "2020-03-03 00:00:03   -0.887503\n",
       "2020-03-03 00:00:04    0.782041\n",
       "Freq: S, dtype: float64"
      ]
     },
     "execution_count": 17,
     "metadata": {},
     "output_type": "execute_result"
    }
   ],
   "source": [
    "# 时区演示\n",
    "dates = pd.date_range('3/3/2020 00:00:00', periods=5, freq='S')\n",
    "ts = pd.Series(np.random.randn(len(dates)), dates)\n",
    "ts"
   ]
  },
  {
   "cell_type": "code",
   "execution_count": 19,
   "id": "1d872c43",
   "metadata": {},
   "outputs": [
    {
     "data": {
      "text/plain": [
       "2020-03-03 00:00:00+00:00    1.274324\n",
       "2020-03-03 00:00:01+00:00    0.689352\n",
       "2020-03-03 00:00:02+00:00    0.977939\n",
       "2020-03-03 00:00:03+00:00   -0.887503\n",
       "2020-03-03 00:00:04+00:00    0.782041\n",
       "Freq: S, dtype: float64"
      ]
     },
     "execution_count": 19,
     "metadata": {},
     "output_type": "execute_result"
    }
   ],
   "source": [
    "ts_utc = ts.tz_localize('UTC')\n",
    "ts_utc"
   ]
  },
  {
   "cell_type": "code",
   "execution_count": 20,
   "id": "4ce16056",
   "metadata": {},
   "outputs": [
    {
     "data": {
      "text/plain": [
       "2020-03-03 09:00:00+09:00    1.274324\n",
       "2020-03-03 09:00:01+09:00    0.689352\n",
       "2020-03-03 09:00:02+09:00    0.977939\n",
       "2020-03-03 09:00:03+09:00   -0.887503\n",
       "2020-03-03 09:00:04+09:00    0.782041\n",
       "Freq: S, dtype: float64"
      ]
     },
     "execution_count": 20,
     "metadata": {},
     "output_type": "execute_result"
    }
   ],
   "source": [
    "# 时区转换\n",
    "ts_utc.tz_convert('Asia/Tokyo')"
   ]
  },
  {
   "cell_type": "code",
   "execution_count": 22,
   "id": "5d480278",
   "metadata": {},
   "outputs": [
    {
     "data": {
      "text/plain": [
       "2020-03-31    0.306383\n",
       "2020-04-30   -0.206600\n",
       "2020-05-31   -0.866374\n",
       "2020-06-30   -0.042912\n",
       "2020-07-31   -0.357827\n",
       "Freq: M, dtype: float64"
      ]
     },
     "execution_count": 22,
     "metadata": {},
     "output_type": "execute_result"
    }
   ],
   "source": [
    "# 以月为频率创建Series，并做转换\n",
    "dates = pd.date_range('3/3/2020', periods=5, freq='M')\n",
    "ts = pd.Series(np.random.randn(len(dates)), dates)\n",
    "ts"
   ]
  },
  {
   "cell_type": "code",
   "execution_count": 24,
   "id": "d516a885",
   "metadata": {},
   "outputs": [
    {
     "name": "stdout",
     "output_type": "stream",
     "text": [
      "<class 'pandas.core.series.Series'>\n"
     ]
    },
    {
     "data": {
      "text/plain": [
       "2020-03    0.306383\n",
       "2020-04   -0.206600\n",
       "2020-05   -0.866374\n",
       "2020-06   -0.042912\n",
       "2020-07   -0.357827\n",
       "Freq: M, dtype: float64"
      ]
     },
     "execution_count": 24,
     "metadata": {},
     "output_type": "execute_result"
    }
   ],
   "source": [
    "ps = ts.to_period()\n",
    "print(type(ps))\n",
    "ps"
   ]
  },
  {
   "cell_type": "code",
   "execution_count": 25,
   "id": "2fb49164",
   "metadata": {},
   "outputs": [
    {
     "data": {
      "text/plain": [
       "2020-03-01    0.306383\n",
       "2020-04-01   -0.206600\n",
       "2020-05-01   -0.866374\n",
       "2020-06-01   -0.042912\n",
       "2020-07-01   -0.357827\n",
       "Freq: MS, dtype: float64"
      ]
     },
     "execution_count": 25,
     "metadata": {},
     "output_type": "execute_result"
    }
   ],
   "source": [
    "ps.to_timestamp()"
   ]
  },
  {
   "cell_type": "code",
   "execution_count": 27,
   "id": "90aa5264",
   "metadata": {},
   "outputs": [
    {
     "data": {
      "text/html": [
       "<div>\n",
       "<style scoped>\n",
       "    .dataframe tbody tr th:only-of-type {\n",
       "        vertical-align: middle;\n",
       "    }\n",
       "\n",
       "    .dataframe tbody tr th {\n",
       "        vertical-align: top;\n",
       "    }\n",
       "\n",
       "    .dataframe thead th {\n",
       "        text-align: right;\n",
       "    }\n",
       "</style>\n",
       "<table border=\"1\" class=\"dataframe\">\n",
       "  <thead>\n",
       "    <tr style=\"text-align: right;\">\n",
       "      <th></th>\n",
       "      <th>id</th>\n",
       "      <th>grade</th>\n",
       "    </tr>\n",
       "  </thead>\n",
       "  <tbody>\n",
       "    <tr>\n",
       "      <th>0</th>\n",
       "      <td>1</td>\n",
       "      <td>a</td>\n",
       "    </tr>\n",
       "    <tr>\n",
       "      <th>1</th>\n",
       "      <td>2</td>\n",
       "      <td>b</td>\n",
       "    </tr>\n",
       "    <tr>\n",
       "      <th>2</th>\n",
       "      <td>3</td>\n",
       "      <td>c</td>\n",
       "    </tr>\n",
       "    <tr>\n",
       "      <th>3</th>\n",
       "      <td>4</td>\n",
       "      <td>b</td>\n",
       "    </tr>\n",
       "    <tr>\n",
       "      <th>4</th>\n",
       "      <td>5</td>\n",
       "      <td>a</td>\n",
       "    </tr>\n",
       "    <tr>\n",
       "      <th>5</th>\n",
       "      <td>6</td>\n",
       "      <td>e</td>\n",
       "    </tr>\n",
       "  </tbody>\n",
       "</table>\n",
       "</div>"
      ],
      "text/plain": [
       "   id grade\n",
       "0   1     a\n",
       "1   2     b\n",
       "2   3     c\n",
       "3   4     b\n",
       "4   5     a\n",
       "5   6     e"
      ]
     },
     "execution_count": 27,
     "metadata": {},
     "output_type": "execute_result"
    }
   ],
   "source": [
    "# 分类演示\n",
    "df = pd.DataFrame({\n",
    "    \"id\": [1, 2, 3, 4, 5, 6],\n",
    "    \"grade\": ['a', 'b', 'c', 'b', 'a', 'e']\n",
    "})\n",
    "\n",
    "df"
   ]
  },
  {
   "cell_type": "code",
   "execution_count": 47,
   "id": "f40d6f38",
   "metadata": {},
   "outputs": [
    {
     "data": {
      "text/plain": [
       "0    a\n",
       "1    b\n",
       "2    c\n",
       "3    b\n",
       "4    a\n",
       "5    e\n",
       "Name: Grade, dtype: category\n",
       "Categories (4, object): ['a', 'b', 'c', 'e']"
      ]
     },
     "execution_count": 47,
     "metadata": {},
     "output_type": "execute_result"
    }
   ],
   "source": [
    "df['Grade'] = df['grade'].astype(\"category\")\n",
    "df['Grade']"
   ]
  },
  {
   "cell_type": "code",
   "execution_count": 58,
   "id": "658ac11e",
   "metadata": {},
   "outputs": [
    {
     "data": {
      "text/plain": [
       "0    Excellent\n",
       "1         Good\n",
       "2     Not Good\n",
       "3         Good\n",
       "4    Excellent\n",
       "5          Bad\n",
       "Name: Grade, dtype: category\n",
       "Categories (4, object): ['Excellent', 'Good', 'Not Good', 'Bad']"
      ]
     },
     "execution_count": 58,
     "metadata": {},
     "output_type": "execute_result"
    }
   ],
   "source": [
    "df['Grade'] = df['Grade'].cat.set_categories(['Excellent', 'Good', 'Not Good', 'Bad'])\n",
    "df['Grade']"
   ]
  },
  {
   "cell_type": "code",
   "execution_count": 59,
   "id": "ce63c8f7",
   "metadata": {},
   "outputs": [
    {
     "data": {
      "text/html": [
       "<div>\n",
       "<style scoped>\n",
       "    .dataframe tbody tr th:only-of-type {\n",
       "        vertical-align: middle;\n",
       "    }\n",
       "\n",
       "    .dataframe tbody tr th {\n",
       "        vertical-align: top;\n",
       "    }\n",
       "\n",
       "    .dataframe thead th {\n",
       "        text-align: right;\n",
       "    }\n",
       "</style>\n",
       "<table border=\"1\" class=\"dataframe\">\n",
       "  <thead>\n",
       "    <tr style=\"text-align: right;\">\n",
       "      <th></th>\n",
       "      <th>id</th>\n",
       "      <th>grade</th>\n",
       "      <th>Grade</th>\n",
       "    </tr>\n",
       "  </thead>\n",
       "  <tbody>\n",
       "    <tr>\n",
       "      <th>0</th>\n",
       "      <td>1</td>\n",
       "      <td>a</td>\n",
       "      <td>Excellent</td>\n",
       "    </tr>\n",
       "    <tr>\n",
       "      <th>1</th>\n",
       "      <td>2</td>\n",
       "      <td>b</td>\n",
       "      <td>Good</td>\n",
       "    </tr>\n",
       "    <tr>\n",
       "      <th>2</th>\n",
       "      <td>3</td>\n",
       "      <td>c</td>\n",
       "      <td>Not Good</td>\n",
       "    </tr>\n",
       "    <tr>\n",
       "      <th>3</th>\n",
       "      <td>4</td>\n",
       "      <td>b</td>\n",
       "      <td>Good</td>\n",
       "    </tr>\n",
       "    <tr>\n",
       "      <th>4</th>\n",
       "      <td>5</td>\n",
       "      <td>a</td>\n",
       "      <td>Excellent</td>\n",
       "    </tr>\n",
       "    <tr>\n",
       "      <th>5</th>\n",
       "      <td>6</td>\n",
       "      <td>e</td>\n",
       "      <td>Bad</td>\n",
       "    </tr>\n",
       "  </tbody>\n",
       "</table>\n",
       "</div>"
      ],
      "text/plain": [
       "   id grade      Grade\n",
       "0   1     a  Excellent\n",
       "1   2     b       Good\n",
       "2   3     c   Not Good\n",
       "3   4     b       Good\n",
       "4   5     a  Excellent\n",
       "5   6     e        Bad"
      ]
     },
     "execution_count": 59,
     "metadata": {},
     "output_type": "execute_result"
    }
   ],
   "source": [
    "df"
   ]
  }
 ],
 "metadata": {
  "kernelspec": {
   "display_name": "Python 3 (ipykernel)",
   "language": "python",
   "name": "python3"
  },
  "language_info": {
   "codemirror_mode": {
    "name": "ipython",
    "version": 3
   },
   "file_extension": ".py",
   "mimetype": "text/x-python",
   "name": "python",
   "nbconvert_exporter": "python",
   "pygments_lexer": "ipython3",
   "version": "3.8.17"
  }
 },
 "nbformat": 4,
 "nbformat_minor": 5
}
