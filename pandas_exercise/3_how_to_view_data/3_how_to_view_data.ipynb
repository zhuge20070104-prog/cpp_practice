{
 "cells": [
  {
   "cell_type": "code",
   "execution_count": 1,
   "id": "6455cd42",
   "metadata": {},
   "outputs": [],
   "source": [
    "import numpy as np\n",
    "import pandas as pd"
   ]
  },
  {
   "cell_type": "code",
   "execution_count": 3,
   "id": "7c8164b4",
   "metadata": {},
   "outputs": [
    {
     "data": {
      "text/plain": [
       "DatetimeIndex(['2020-03-01', '2020-03-02', '2020-03-03', '2020-03-04',\n",
       "               '2020-03-05', '2020-03-06', '2020-03-07', '2020-03-08',\n",
       "               '2020-03-09', '2020-03-10'],\n",
       "              dtype='datetime64[ns]', freq='D')"
      ]
     },
     "execution_count": 3,
     "metadata": {},
     "output_type": "execute_result"
    }
   ],
   "source": [
    "d = pd.date_range('20200301', periods=10)\n",
    "d"
   ]
  },
  {
   "cell_type": "code",
   "execution_count": 4,
   "id": "70ad48c9",
   "metadata": {},
   "outputs": [
    {
     "data": {
      "text/html": [
       "<div>\n",
       "<style scoped>\n",
       "    .dataframe tbody tr th:only-of-type {\n",
       "        vertical-align: middle;\n",
       "    }\n",
       "\n",
       "    .dataframe tbody tr th {\n",
       "        vertical-align: top;\n",
       "    }\n",
       "\n",
       "    .dataframe thead th {\n",
       "        text-align: right;\n",
       "    }\n",
       "</style>\n",
       "<table border=\"1\" class=\"dataframe\">\n",
       "  <thead>\n",
       "    <tr style=\"text-align: right;\">\n",
       "      <th></th>\n",
       "      <th>A</th>\n",
       "      <th>B</th>\n",
       "      <th>C</th>\n",
       "      <th>D</th>\n",
       "    </tr>\n",
       "  </thead>\n",
       "  <tbody>\n",
       "    <tr>\n",
       "      <th>2020-03-01</th>\n",
       "      <td>-1.989965</td>\n",
       "      <td>0.250792</td>\n",
       "      <td>-1.739158</td>\n",
       "      <td>-0.880938</td>\n",
       "    </tr>\n",
       "    <tr>\n",
       "      <th>2020-03-02</th>\n",
       "      <td>0.661154</td>\n",
       "      <td>0.381098</td>\n",
       "      <td>-1.137977</td>\n",
       "      <td>-1.171960</td>\n",
       "    </tr>\n",
       "    <tr>\n",
       "      <th>2020-03-03</th>\n",
       "      <td>0.990390</td>\n",
       "      <td>0.216612</td>\n",
       "      <td>-1.123231</td>\n",
       "      <td>0.242527</td>\n",
       "    </tr>\n",
       "    <tr>\n",
       "      <th>2020-03-04</th>\n",
       "      <td>-0.486959</td>\n",
       "      <td>0.603084</td>\n",
       "      <td>-0.577087</td>\n",
       "      <td>0.323697</td>\n",
       "    </tr>\n",
       "    <tr>\n",
       "      <th>2020-03-05</th>\n",
       "      <td>-0.400898</td>\n",
       "      <td>-0.247124</td>\n",
       "      <td>0.228172</td>\n",
       "      <td>-0.364122</td>\n",
       "    </tr>\n",
       "    <tr>\n",
       "      <th>2020-03-06</th>\n",
       "      <td>-0.972140</td>\n",
       "      <td>-1.455811</td>\n",
       "      <td>-1.764328</td>\n",
       "      <td>0.692985</td>\n",
       "    </tr>\n",
       "    <tr>\n",
       "      <th>2020-03-07</th>\n",
       "      <td>1.379547</td>\n",
       "      <td>0.458591</td>\n",
       "      <td>-0.869197</td>\n",
       "      <td>0.302641</td>\n",
       "    </tr>\n",
       "    <tr>\n",
       "      <th>2020-03-08</th>\n",
       "      <td>-1.552489</td>\n",
       "      <td>0.245866</td>\n",
       "      <td>-1.252317</td>\n",
       "      <td>0.105192</td>\n",
       "    </tr>\n",
       "    <tr>\n",
       "      <th>2020-03-09</th>\n",
       "      <td>-0.196264</td>\n",
       "      <td>-1.524900</td>\n",
       "      <td>0.195338</td>\n",
       "      <td>-2.121229</td>\n",
       "    </tr>\n",
       "    <tr>\n",
       "      <th>2020-03-10</th>\n",
       "      <td>0.992400</td>\n",
       "      <td>1.185481</td>\n",
       "      <td>0.025711</td>\n",
       "      <td>-1.434810</td>\n",
       "    </tr>\n",
       "  </tbody>\n",
       "</table>\n",
       "</div>"
      ],
      "text/plain": [
       "                   A         B         C         D\n",
       "2020-03-01 -1.989965  0.250792 -1.739158 -0.880938\n",
       "2020-03-02  0.661154  0.381098 -1.137977 -1.171960\n",
       "2020-03-03  0.990390  0.216612 -1.123231  0.242527\n",
       "2020-03-04 -0.486959  0.603084 -0.577087  0.323697\n",
       "2020-03-05 -0.400898 -0.247124  0.228172 -0.364122\n",
       "2020-03-06 -0.972140 -1.455811 -1.764328  0.692985\n",
       "2020-03-07  1.379547  0.458591 -0.869197  0.302641\n",
       "2020-03-08 -1.552489  0.245866 -1.252317  0.105192\n",
       "2020-03-09 -0.196264 -1.524900  0.195338 -2.121229\n",
       "2020-03-10  0.992400  1.185481  0.025711 -1.434810"
      ]
     },
     "execution_count": 4,
     "metadata": {},
     "output_type": "execute_result"
    }
   ],
   "source": [
    "df = pd.DataFrame(np.random.randn(10, 4), index=d, columns=['A', 'B', 'C', 'D'])\n",
    "df"
   ]
  },
  {
   "cell_type": "code",
   "execution_count": 5,
   "id": "4a9f1fa8",
   "metadata": {},
   "outputs": [
    {
     "data": {
      "text/html": [
       "<div>\n",
       "<style scoped>\n",
       "    .dataframe tbody tr th:only-of-type {\n",
       "        vertical-align: middle;\n",
       "    }\n",
       "\n",
       "    .dataframe tbody tr th {\n",
       "        vertical-align: top;\n",
       "    }\n",
       "\n",
       "    .dataframe thead th {\n",
       "        text-align: right;\n",
       "    }\n",
       "</style>\n",
       "<table border=\"1\" class=\"dataframe\">\n",
       "  <thead>\n",
       "    <tr style=\"text-align: right;\">\n",
       "      <th></th>\n",
       "      <th>A</th>\n",
       "      <th>B</th>\n",
       "      <th>C</th>\n",
       "      <th>D</th>\n",
       "    </tr>\n",
       "  </thead>\n",
       "  <tbody>\n",
       "    <tr>\n",
       "      <th>2020-03-01</th>\n",
       "      <td>-1.989965</td>\n",
       "      <td>0.250792</td>\n",
       "      <td>-1.739158</td>\n",
       "      <td>-0.880938</td>\n",
       "    </tr>\n",
       "    <tr>\n",
       "      <th>2020-03-02</th>\n",
       "      <td>0.661154</td>\n",
       "      <td>0.381098</td>\n",
       "      <td>-1.137977</td>\n",
       "      <td>-1.171960</td>\n",
       "    </tr>\n",
       "    <tr>\n",
       "      <th>2020-03-03</th>\n",
       "      <td>0.990390</td>\n",
       "      <td>0.216612</td>\n",
       "      <td>-1.123231</td>\n",
       "      <td>0.242527</td>\n",
       "    </tr>\n",
       "    <tr>\n",
       "      <th>2020-03-04</th>\n",
       "      <td>-0.486959</td>\n",
       "      <td>0.603084</td>\n",
       "      <td>-0.577087</td>\n",
       "      <td>0.323697</td>\n",
       "    </tr>\n",
       "    <tr>\n",
       "      <th>2020-03-05</th>\n",
       "      <td>-0.400898</td>\n",
       "      <td>-0.247124</td>\n",
       "      <td>0.228172</td>\n",
       "      <td>-0.364122</td>\n",
       "    </tr>\n",
       "  </tbody>\n",
       "</table>\n",
       "</div>"
      ],
      "text/plain": [
       "                   A         B         C         D\n",
       "2020-03-01 -1.989965  0.250792 -1.739158 -0.880938\n",
       "2020-03-02  0.661154  0.381098 -1.137977 -1.171960\n",
       "2020-03-03  0.990390  0.216612 -1.123231  0.242527\n",
       "2020-03-04 -0.486959  0.603084 -0.577087  0.323697\n",
       "2020-03-05 -0.400898 -0.247124  0.228172 -0.364122"
      ]
     },
     "execution_count": 5,
     "metadata": {},
     "output_type": "execute_result"
    }
   ],
   "source": [
    "# df.head 获取DataFrame的前5行元素\n",
    "df.head()"
   ]
  },
  {
   "cell_type": "code",
   "execution_count": 6,
   "id": "bce69e38",
   "metadata": {},
   "outputs": [
    {
     "data": {
      "text/html": [
       "<div>\n",
       "<style scoped>\n",
       "    .dataframe tbody tr th:only-of-type {\n",
       "        vertical-align: middle;\n",
       "    }\n",
       "\n",
       "    .dataframe tbody tr th {\n",
       "        vertical-align: top;\n",
       "    }\n",
       "\n",
       "    .dataframe thead th {\n",
       "        text-align: right;\n",
       "    }\n",
       "</style>\n",
       "<table border=\"1\" class=\"dataframe\">\n",
       "  <thead>\n",
       "    <tr style=\"text-align: right;\">\n",
       "      <th></th>\n",
       "      <th>A</th>\n",
       "      <th>B</th>\n",
       "      <th>C</th>\n",
       "      <th>D</th>\n",
       "    </tr>\n",
       "  </thead>\n",
       "  <tbody>\n",
       "    <tr>\n",
       "      <th>2020-03-06</th>\n",
       "      <td>-0.972140</td>\n",
       "      <td>-1.455811</td>\n",
       "      <td>-1.764328</td>\n",
       "      <td>0.692985</td>\n",
       "    </tr>\n",
       "    <tr>\n",
       "      <th>2020-03-07</th>\n",
       "      <td>1.379547</td>\n",
       "      <td>0.458591</td>\n",
       "      <td>-0.869197</td>\n",
       "      <td>0.302641</td>\n",
       "    </tr>\n",
       "    <tr>\n",
       "      <th>2020-03-08</th>\n",
       "      <td>-1.552489</td>\n",
       "      <td>0.245866</td>\n",
       "      <td>-1.252317</td>\n",
       "      <td>0.105192</td>\n",
       "    </tr>\n",
       "    <tr>\n",
       "      <th>2020-03-09</th>\n",
       "      <td>-0.196264</td>\n",
       "      <td>-1.524900</td>\n",
       "      <td>0.195338</td>\n",
       "      <td>-2.121229</td>\n",
       "    </tr>\n",
       "    <tr>\n",
       "      <th>2020-03-10</th>\n",
       "      <td>0.992400</td>\n",
       "      <td>1.185481</td>\n",
       "      <td>0.025711</td>\n",
       "      <td>-1.434810</td>\n",
       "    </tr>\n",
       "  </tbody>\n",
       "</table>\n",
       "</div>"
      ],
      "text/plain": [
       "                   A         B         C         D\n",
       "2020-03-06 -0.972140 -1.455811 -1.764328  0.692985\n",
       "2020-03-07  1.379547  0.458591 -0.869197  0.302641\n",
       "2020-03-08 -1.552489  0.245866 -1.252317  0.105192\n",
       "2020-03-09 -0.196264 -1.524900  0.195338 -2.121229\n",
       "2020-03-10  0.992400  1.185481  0.025711 -1.434810"
      ]
     },
     "execution_count": 6,
     "metadata": {},
     "output_type": "execute_result"
    }
   ],
   "source": [
    "# df.tail 获取DataFrame的最后5行元素\n",
    "df.tail()"
   ]
  },
  {
   "cell_type": "code",
   "execution_count": 8,
   "id": "47d496c8",
   "metadata": {},
   "outputs": [
    {
     "data": {
      "text/plain": [
       "DatetimeIndex(['2020-03-01', '2020-03-02', '2020-03-03', '2020-03-04',\n",
       "               '2020-03-05', '2020-03-06', '2020-03-07', '2020-03-08',\n",
       "               '2020-03-09', '2020-03-10'],\n",
       "              dtype='datetime64[ns]', freq='D')"
      ]
     },
     "execution_count": 8,
     "metadata": {},
     "output_type": "execute_result"
    }
   ],
   "source": [
    "# df.index 获取所有的index值,这是一个属性，不是方法\n",
    "df.index"
   ]
  },
  {
   "cell_type": "code",
   "execution_count": 9,
   "id": "c663eb55",
   "metadata": {},
   "outputs": [
    {
     "data": {
      "text/plain": [
       "Index(['A', 'B', 'C', 'D'], dtype='object')"
      ]
     },
     "execution_count": 9,
     "metadata": {},
     "output_type": "execute_result"
    }
   ],
   "source": [
    "# df.columns 获取所有的列名\n",
    "df.columns"
   ]
  },
  {
   "cell_type": "code",
   "execution_count": 10,
   "id": "091c69ff",
   "metadata": {},
   "outputs": [
    {
     "data": {
      "text/plain": [
       "array([[-1.98996531,  0.25079215, -1.73915816, -0.8809384 ],\n",
       "       [ 0.66115447,  0.38109751, -1.13797698, -1.17196027],\n",
       "       [ 0.9903901 ,  0.21661216, -1.12323143,  0.24252743],\n",
       "       [-0.48695947,  0.60308433, -0.57708738,  0.32369654],\n",
       "       [-0.40089795, -0.24712367,  0.22817151, -0.36412171],\n",
       "       [-0.9721399 , -1.4558113 , -1.76432846,  0.69298478],\n",
       "       [ 1.37954691,  0.45859109, -0.86919716,  0.30264051],\n",
       "       [-1.55248933,  0.24586615, -1.25231711,  0.10519229],\n",
       "       [-0.1962645 , -1.52489981,  0.19533826, -2.12122906],\n",
       "       [ 0.99239988,  1.18548056,  0.02571116, -1.43481016]])"
      ]
     },
     "execution_count": 10,
     "metadata": {},
     "output_type": "execute_result"
    }
   ],
   "source": [
    "# 将pd.DataFrame转换成numpy array\n",
    "df.to_numpy()"
   ]
  },
  {
   "cell_type": "code",
   "execution_count": 11,
   "id": "36a11d41",
   "metadata": {},
   "outputs": [
    {
     "data": {
      "text/html": [
       "<div>\n",
       "<style scoped>\n",
       "    .dataframe tbody tr th:only-of-type {\n",
       "        vertical-align: middle;\n",
       "    }\n",
       "\n",
       "    .dataframe tbody tr th {\n",
       "        vertical-align: top;\n",
       "    }\n",
       "\n",
       "    .dataframe thead th {\n",
       "        text-align: right;\n",
       "    }\n",
       "</style>\n",
       "<table border=\"1\" class=\"dataframe\">\n",
       "  <thead>\n",
       "    <tr style=\"text-align: right;\">\n",
       "      <th></th>\n",
       "      <th>A</th>\n",
       "      <th>B</th>\n",
       "      <th>C</th>\n",
       "      <th>D</th>\n",
       "    </tr>\n",
       "  </thead>\n",
       "  <tbody>\n",
       "    <tr>\n",
       "      <th>count</th>\n",
       "      <td>10.000000</td>\n",
       "      <td>10.000000</td>\n",
       "      <td>10.000000</td>\n",
       "      <td>10.000000</td>\n",
       "    </tr>\n",
       "    <tr>\n",
       "      <th>mean</th>\n",
       "      <td>-0.157523</td>\n",
       "      <td>0.011369</td>\n",
       "      <td>-0.801408</td>\n",
       "      <td>-0.430602</td>\n",
       "    </tr>\n",
       "    <tr>\n",
       "      <th>std</th>\n",
       "      <td>1.145498</td>\n",
       "      <td>0.869187</td>\n",
       "      <td>0.746796</td>\n",
       "      <td>0.926926</td>\n",
       "    </tr>\n",
       "    <tr>\n",
       "      <th>min</th>\n",
       "      <td>-1.989965</td>\n",
       "      <td>-1.524900</td>\n",
       "      <td>-1.764328</td>\n",
       "      <td>-2.121229</td>\n",
       "    </tr>\n",
       "    <tr>\n",
       "      <th>25%</th>\n",
       "      <td>-0.850845</td>\n",
       "      <td>-0.131190</td>\n",
       "      <td>-1.223732</td>\n",
       "      <td>-1.099205</td>\n",
       "    </tr>\n",
       "    <tr>\n",
       "      <th>50%</th>\n",
       "      <td>-0.298581</td>\n",
       "      <td>0.248329</td>\n",
       "      <td>-0.996214</td>\n",
       "      <td>-0.129465</td>\n",
       "    </tr>\n",
       "    <tr>\n",
       "      <th>75%</th>\n",
       "      <td>0.908081</td>\n",
       "      <td>0.439218</td>\n",
       "      <td>-0.124988</td>\n",
       "      <td>0.287612</td>\n",
       "    </tr>\n",
       "    <tr>\n",
       "      <th>max</th>\n",
       "      <td>1.379547</td>\n",
       "      <td>1.185481</td>\n",
       "      <td>0.228172</td>\n",
       "      <td>0.692985</td>\n",
       "    </tr>\n",
       "  </tbody>\n",
       "</table>\n",
       "</div>"
      ],
      "text/plain": [
       "               A          B          C          D\n",
       "count  10.000000  10.000000  10.000000  10.000000\n",
       "mean   -0.157523   0.011369  -0.801408  -0.430602\n",
       "std     1.145498   0.869187   0.746796   0.926926\n",
       "min    -1.989965  -1.524900  -1.764328  -2.121229\n",
       "25%    -0.850845  -0.131190  -1.223732  -1.099205\n",
       "50%    -0.298581   0.248329  -0.996214  -0.129465\n",
       "75%     0.908081   0.439218  -0.124988   0.287612\n",
       "max     1.379547   1.185481   0.228172   0.692985"
      ]
     },
     "execution_count": 11,
     "metadata": {},
     "output_type": "execute_result"
    }
   ],
   "source": [
    "# df.describe() 获取统计值，例如最大值，最小值和标准差\n",
    "df.describe()"
   ]
  },
  {
   "cell_type": "code",
   "execution_count": 17,
   "id": "fc49f6bd",
   "metadata": {},
   "outputs": [
    {
     "data": {
      "text/html": [
       "<div>\n",
       "<style scoped>\n",
       "    .dataframe tbody tr th:only-of-type {\n",
       "        vertical-align: middle;\n",
       "    }\n",
       "\n",
       "    .dataframe tbody tr th {\n",
       "        vertical-align: top;\n",
       "    }\n",
       "\n",
       "    .dataframe thead th {\n",
       "        text-align: right;\n",
       "    }\n",
       "</style>\n",
       "<table border=\"1\" class=\"dataframe\">\n",
       "  <thead>\n",
       "    <tr style=\"text-align: right;\">\n",
       "      <th></th>\n",
       "      <th>A</th>\n",
       "      <th>B</th>\n",
       "      <th>C</th>\n",
       "      <th>D</th>\n",
       "    </tr>\n",
       "  </thead>\n",
       "  <tbody>\n",
       "    <tr>\n",
       "      <th>2020-03-10</th>\n",
       "      <td>0.992400</td>\n",
       "      <td>1.185481</td>\n",
       "      <td>0.025711</td>\n",
       "      <td>-1.434810</td>\n",
       "    </tr>\n",
       "    <tr>\n",
       "      <th>2020-03-09</th>\n",
       "      <td>-0.196264</td>\n",
       "      <td>-1.524900</td>\n",
       "      <td>0.195338</td>\n",
       "      <td>-2.121229</td>\n",
       "    </tr>\n",
       "    <tr>\n",
       "      <th>2020-03-08</th>\n",
       "      <td>-1.552489</td>\n",
       "      <td>0.245866</td>\n",
       "      <td>-1.252317</td>\n",
       "      <td>0.105192</td>\n",
       "    </tr>\n",
       "    <tr>\n",
       "      <th>2020-03-07</th>\n",
       "      <td>1.379547</td>\n",
       "      <td>0.458591</td>\n",
       "      <td>-0.869197</td>\n",
       "      <td>0.302641</td>\n",
       "    </tr>\n",
       "    <tr>\n",
       "      <th>2020-03-06</th>\n",
       "      <td>-0.972140</td>\n",
       "      <td>-1.455811</td>\n",
       "      <td>-1.764328</td>\n",
       "      <td>0.692985</td>\n",
       "    </tr>\n",
       "    <tr>\n",
       "      <th>2020-03-05</th>\n",
       "      <td>-0.400898</td>\n",
       "      <td>-0.247124</td>\n",
       "      <td>0.228172</td>\n",
       "      <td>-0.364122</td>\n",
       "    </tr>\n",
       "    <tr>\n",
       "      <th>2020-03-04</th>\n",
       "      <td>-0.486959</td>\n",
       "      <td>0.603084</td>\n",
       "      <td>-0.577087</td>\n",
       "      <td>0.323697</td>\n",
       "    </tr>\n",
       "    <tr>\n",
       "      <th>2020-03-03</th>\n",
       "      <td>0.990390</td>\n",
       "      <td>0.216612</td>\n",
       "      <td>-1.123231</td>\n",
       "      <td>0.242527</td>\n",
       "    </tr>\n",
       "    <tr>\n",
       "      <th>2020-03-02</th>\n",
       "      <td>0.661154</td>\n",
       "      <td>0.381098</td>\n",
       "      <td>-1.137977</td>\n",
       "      <td>-1.171960</td>\n",
       "    </tr>\n",
       "    <tr>\n",
       "      <th>2020-03-01</th>\n",
       "      <td>-1.989965</td>\n",
       "      <td>0.250792</td>\n",
       "      <td>-1.739158</td>\n",
       "      <td>-0.880938</td>\n",
       "    </tr>\n",
       "  </tbody>\n",
       "</table>\n",
       "</div>"
      ],
      "text/plain": [
       "                   A         B         C         D\n",
       "2020-03-10  0.992400  1.185481  0.025711 -1.434810\n",
       "2020-03-09 -0.196264 -1.524900  0.195338 -2.121229\n",
       "2020-03-08 -1.552489  0.245866 -1.252317  0.105192\n",
       "2020-03-07  1.379547  0.458591 -0.869197  0.302641\n",
       "2020-03-06 -0.972140 -1.455811 -1.764328  0.692985\n",
       "2020-03-05 -0.400898 -0.247124  0.228172 -0.364122\n",
       "2020-03-04 -0.486959  0.603084 -0.577087  0.323697\n",
       "2020-03-03  0.990390  0.216612 -1.123231  0.242527\n",
       "2020-03-02  0.661154  0.381098 -1.137977 -1.171960\n",
       "2020-03-01 -1.989965  0.250792 -1.739158 -0.880938"
      ]
     },
     "execution_count": 17,
     "metadata": {},
     "output_type": "execute_result"
    }
   ],
   "source": [
    "# df.sort_index, 按索引进行排序，不是按值，如果axis=0,就是按行进行倒排\n",
    "df.sort_index(ascending=False, axis=0)"
   ]
  },
  {
   "cell_type": "code",
   "execution_count": 28,
   "id": "3b848236",
   "metadata": {},
   "outputs": [
    {
     "data": {
      "text/html": [
       "<div>\n",
       "<style scoped>\n",
       "    .dataframe tbody tr th:only-of-type {\n",
       "        vertical-align: middle;\n",
       "    }\n",
       "\n",
       "    .dataframe tbody tr th {\n",
       "        vertical-align: top;\n",
       "    }\n",
       "\n",
       "    .dataframe thead th {\n",
       "        text-align: right;\n",
       "    }\n",
       "</style>\n",
       "<table border=\"1\" class=\"dataframe\">\n",
       "  <thead>\n",
       "    <tr style=\"text-align: right;\">\n",
       "      <th></th>\n",
       "      <th>D</th>\n",
       "      <th>C</th>\n",
       "      <th>B</th>\n",
       "      <th>A</th>\n",
       "    </tr>\n",
       "  </thead>\n",
       "  <tbody>\n",
       "    <tr>\n",
       "      <th>2020-03-01</th>\n",
       "      <td>-0.880938</td>\n",
       "      <td>-1.739158</td>\n",
       "      <td>0.250792</td>\n",
       "      <td>-1.989965</td>\n",
       "    </tr>\n",
       "    <tr>\n",
       "      <th>2020-03-02</th>\n",
       "      <td>-1.171960</td>\n",
       "      <td>-1.137977</td>\n",
       "      <td>0.381098</td>\n",
       "      <td>0.661154</td>\n",
       "    </tr>\n",
       "    <tr>\n",
       "      <th>2020-03-03</th>\n",
       "      <td>0.242527</td>\n",
       "      <td>-1.123231</td>\n",
       "      <td>0.216612</td>\n",
       "      <td>0.990390</td>\n",
       "    </tr>\n",
       "    <tr>\n",
       "      <th>2020-03-04</th>\n",
       "      <td>0.323697</td>\n",
       "      <td>-0.577087</td>\n",
       "      <td>0.603084</td>\n",
       "      <td>-0.486959</td>\n",
       "    </tr>\n",
       "    <tr>\n",
       "      <th>2020-03-05</th>\n",
       "      <td>-0.364122</td>\n",
       "      <td>0.228172</td>\n",
       "      <td>-0.247124</td>\n",
       "      <td>-0.400898</td>\n",
       "    </tr>\n",
       "    <tr>\n",
       "      <th>2020-03-06</th>\n",
       "      <td>0.692985</td>\n",
       "      <td>-1.764328</td>\n",
       "      <td>-1.455811</td>\n",
       "      <td>-0.972140</td>\n",
       "    </tr>\n",
       "    <tr>\n",
       "      <th>2020-03-07</th>\n",
       "      <td>0.302641</td>\n",
       "      <td>-0.869197</td>\n",
       "      <td>0.458591</td>\n",
       "      <td>1.379547</td>\n",
       "    </tr>\n",
       "    <tr>\n",
       "      <th>2020-03-08</th>\n",
       "      <td>0.105192</td>\n",
       "      <td>-1.252317</td>\n",
       "      <td>0.245866</td>\n",
       "      <td>-1.552489</td>\n",
       "    </tr>\n",
       "    <tr>\n",
       "      <th>2020-03-09</th>\n",
       "      <td>-2.121229</td>\n",
       "      <td>0.195338</td>\n",
       "      <td>-1.524900</td>\n",
       "      <td>-0.196264</td>\n",
       "    </tr>\n",
       "    <tr>\n",
       "      <th>2020-03-10</th>\n",
       "      <td>-1.434810</td>\n",
       "      <td>0.025711</td>\n",
       "      <td>1.185481</td>\n",
       "      <td>0.992400</td>\n",
       "    </tr>\n",
       "  </tbody>\n",
       "</table>\n",
       "</div>"
      ],
      "text/plain": [
       "                   D         C         B         A\n",
       "2020-03-01 -0.880938 -1.739158  0.250792 -1.989965\n",
       "2020-03-02 -1.171960 -1.137977  0.381098  0.661154\n",
       "2020-03-03  0.242527 -1.123231  0.216612  0.990390\n",
       "2020-03-04  0.323697 -0.577087  0.603084 -0.486959\n",
       "2020-03-05 -0.364122  0.228172 -0.247124 -0.400898\n",
       "2020-03-06  0.692985 -1.764328 -1.455811 -0.972140\n",
       "2020-03-07  0.302641 -0.869197  0.458591  1.379547\n",
       "2020-03-08  0.105192 -1.252317  0.245866 -1.552489\n",
       "2020-03-09 -2.121229  0.195338 -1.524900 -0.196264\n",
       "2020-03-10 -1.434810  0.025711  1.185481  0.992400"
      ]
     },
     "execution_count": 28,
     "metadata": {},
     "output_type": "execute_result"
    }
   ],
   "source": [
    "# axis = 1 按列进行倒排, D, C, B, A\n",
    "df.sort_index(ascending=False, axis=1)"
   ]
  },
  {
   "cell_type": "code",
   "execution_count": 38,
   "id": "193aa693",
   "metadata": {},
   "outputs": [
    {
     "data": {
      "text/html": [
       "<div>\n",
       "<style scoped>\n",
       "    .dataframe tbody tr th:only-of-type {\n",
       "        vertical-align: middle;\n",
       "    }\n",
       "\n",
       "    .dataframe tbody tr th {\n",
       "        vertical-align: top;\n",
       "    }\n",
       "\n",
       "    .dataframe thead th {\n",
       "        text-align: right;\n",
       "    }\n",
       "</style>\n",
       "<table border=\"1\" class=\"dataframe\">\n",
       "  <thead>\n",
       "    <tr style=\"text-align: right;\">\n",
       "      <th></th>\n",
       "      <th>A</th>\n",
       "      <th>B</th>\n",
       "      <th>C</th>\n",
       "      <th>D</th>\n",
       "    </tr>\n",
       "  </thead>\n",
       "  <tbody>\n",
       "    <tr>\n",
       "      <th>2020-03-05</th>\n",
       "      <td>-0.400898</td>\n",
       "      <td>-0.247124</td>\n",
       "      <td>0.228172</td>\n",
       "      <td>-0.364122</td>\n",
       "    </tr>\n",
       "    <tr>\n",
       "      <th>2020-03-09</th>\n",
       "      <td>-0.196264</td>\n",
       "      <td>-1.524900</td>\n",
       "      <td>0.195338</td>\n",
       "      <td>-2.121229</td>\n",
       "    </tr>\n",
       "    <tr>\n",
       "      <th>2020-03-10</th>\n",
       "      <td>0.992400</td>\n",
       "      <td>1.185481</td>\n",
       "      <td>0.025711</td>\n",
       "      <td>-1.434810</td>\n",
       "    </tr>\n",
       "    <tr>\n",
       "      <th>2020-03-04</th>\n",
       "      <td>-0.486959</td>\n",
       "      <td>0.603084</td>\n",
       "      <td>-0.577087</td>\n",
       "      <td>0.323697</td>\n",
       "    </tr>\n",
       "    <tr>\n",
       "      <th>2020-03-07</th>\n",
       "      <td>1.379547</td>\n",
       "      <td>0.458591</td>\n",
       "      <td>-0.869197</td>\n",
       "      <td>0.302641</td>\n",
       "    </tr>\n",
       "    <tr>\n",
       "      <th>2020-03-03</th>\n",
       "      <td>0.990390</td>\n",
       "      <td>0.216612</td>\n",
       "      <td>-1.123231</td>\n",
       "      <td>0.242527</td>\n",
       "    </tr>\n",
       "    <tr>\n",
       "      <th>2020-03-02</th>\n",
       "      <td>0.661154</td>\n",
       "      <td>0.381098</td>\n",
       "      <td>-1.137977</td>\n",
       "      <td>-1.171960</td>\n",
       "    </tr>\n",
       "    <tr>\n",
       "      <th>2020-03-08</th>\n",
       "      <td>-1.552489</td>\n",
       "      <td>0.245866</td>\n",
       "      <td>-1.252317</td>\n",
       "      <td>0.105192</td>\n",
       "    </tr>\n",
       "    <tr>\n",
       "      <th>2020-03-01</th>\n",
       "      <td>-1.989965</td>\n",
       "      <td>0.250792</td>\n",
       "      <td>-1.739158</td>\n",
       "      <td>-0.880938</td>\n",
       "    </tr>\n",
       "    <tr>\n",
       "      <th>2020-03-06</th>\n",
       "      <td>-0.972140</td>\n",
       "      <td>-1.455811</td>\n",
       "      <td>-1.764328</td>\n",
       "      <td>0.692985</td>\n",
       "    </tr>\n",
       "  </tbody>\n",
       "</table>\n",
       "</div>"
      ],
      "text/plain": [
       "                   A         B         C         D\n",
       "2020-03-05 -0.400898 -0.247124  0.228172 -0.364122\n",
       "2020-03-09 -0.196264 -1.524900  0.195338 -2.121229\n",
       "2020-03-10  0.992400  1.185481  0.025711 -1.434810\n",
       "2020-03-04 -0.486959  0.603084 -0.577087  0.323697\n",
       "2020-03-07  1.379547  0.458591 -0.869197  0.302641\n",
       "2020-03-03  0.990390  0.216612 -1.123231  0.242527\n",
       "2020-03-02  0.661154  0.381098 -1.137977 -1.171960\n",
       "2020-03-08 -1.552489  0.245866 -1.252317  0.105192\n",
       "2020-03-01 -1.989965  0.250792 -1.739158 -0.880938\n",
       "2020-03-06 -0.972140 -1.455811 -1.764328  0.692985"
      ]
     },
     "execution_count": 38,
     "metadata": {},
     "output_type": "execute_result"
    }
   ],
   "source": [
    "# df.sort_values 按value进行排序\n",
    "df.sort_values(['C'], ascending=False)"
   ]
  },
  {
   "cell_type": "code",
   "execution_count": 39,
   "id": "de8e7f1e",
   "metadata": {},
   "outputs": [
    {
     "data": {
      "text/plain": [
       "2020-03-01   -1.739158\n",
       "2020-03-02   -1.137977\n",
       "2020-03-03   -1.123231\n",
       "2020-03-04   -0.577087\n",
       "2020-03-05    0.228172\n",
       "2020-03-06   -1.764328\n",
       "2020-03-07   -0.869197\n",
       "2020-03-08   -1.252317\n",
       "2020-03-09    0.195338\n",
       "2020-03-10    0.025711\n",
       "Freq: D, Name: C, dtype: float64"
      ]
     },
     "execution_count": 39,
     "metadata": {},
     "output_type": "execute_result"
    }
   ],
   "source": [
    "# 选中单列\n",
    "df['C']"
   ]
  },
  {
   "cell_type": "code",
   "execution_count": 40,
   "id": "860e2a20",
   "metadata": {},
   "outputs": [
    {
     "data": {
      "text/html": [
       "<div>\n",
       "<style scoped>\n",
       "    .dataframe tbody tr th:only-of-type {\n",
       "        vertical-align: middle;\n",
       "    }\n",
       "\n",
       "    .dataframe tbody tr th {\n",
       "        vertical-align: top;\n",
       "    }\n",
       "\n",
       "    .dataframe thead th {\n",
       "        text-align: right;\n",
       "    }\n",
       "</style>\n",
       "<table border=\"1\" class=\"dataframe\">\n",
       "  <thead>\n",
       "    <tr style=\"text-align: right;\">\n",
       "      <th></th>\n",
       "      <th>A</th>\n",
       "      <th>B</th>\n",
       "      <th>C</th>\n",
       "      <th>D</th>\n",
       "    </tr>\n",
       "  </thead>\n",
       "  <tbody>\n",
       "    <tr>\n",
       "      <th>2020-03-01</th>\n",
       "      <td>-1.989965</td>\n",
       "      <td>0.250792</td>\n",
       "      <td>-1.739158</td>\n",
       "      <td>-0.880938</td>\n",
       "    </tr>\n",
       "    <tr>\n",
       "      <th>2020-03-02</th>\n",
       "      <td>0.661154</td>\n",
       "      <td>0.381098</td>\n",
       "      <td>-1.137977</td>\n",
       "      <td>-1.171960</td>\n",
       "    </tr>\n",
       "    <tr>\n",
       "      <th>2020-03-03</th>\n",
       "      <td>0.990390</td>\n",
       "      <td>0.216612</td>\n",
       "      <td>-1.123231</td>\n",
       "      <td>0.242527</td>\n",
       "    </tr>\n",
       "  </tbody>\n",
       "</table>\n",
       "</div>"
      ],
      "text/plain": [
       "                   A         B         C         D\n",
       "2020-03-01 -1.989965  0.250792 -1.739158 -0.880938\n",
       "2020-03-02  0.661154  0.381098 -1.137977 -1.171960\n",
       "2020-03-03  0.990390  0.216612 -1.123231  0.242527"
      ]
     },
     "execution_count": 40,
     "metadata": {},
     "output_type": "execute_result"
    }
   ],
   "source": [
    "# 行切片\n",
    "df[0: 3]"
   ]
  },
  {
   "cell_type": "code",
   "execution_count": 41,
   "id": "62ffaef0",
   "metadata": {},
   "outputs": [
    {
     "data": {
      "text/plain": [
       "A   -1.989965\n",
       "B    0.250792\n",
       "C   -1.739158\n",
       "D   -0.880938\n",
       "Name: 2020-03-01 00:00:00, dtype: float64"
      ]
     },
     "execution_count": 41,
     "metadata": {},
     "output_type": "execute_result"
    }
   ],
   "source": [
    "# 获取第0行的值\n",
    "df.iloc[0]"
   ]
  },
  {
   "cell_type": "code",
   "execution_count": 42,
   "id": "83f64c0e",
   "metadata": {},
   "outputs": [
    {
     "data": {
      "text/plain": [
       "A   -1.989965\n",
       "B    0.250792\n",
       "C   -1.739158\n",
       "D   -0.880938\n",
       "Name: 2020-03-01 00:00:00, dtype: float64"
      ]
     },
     "execution_count": 42,
     "metadata": {},
     "output_type": "execute_result"
    }
   ],
   "source": [
    "# 获取第0行的值的第二种方法\n",
    "df.loc[d[0]]"
   ]
  },
  {
   "cell_type": "code",
   "execution_count": 44,
   "id": "610279f4",
   "metadata": {},
   "outputs": [
    {
     "data": {
      "text/plain": [
       "Timestamp('2020-03-01 00:00:00')"
      ]
     },
     "execution_count": 44,
     "metadata": {},
     "output_type": "execute_result"
    }
   ],
   "source": [
    "# d[0]是索引的第0个\n",
    "d[0]"
   ]
  },
  {
   "cell_type": "code",
   "execution_count": 46,
   "id": "8b7e9be5",
   "metadata": {},
   "outputs": [
    {
     "data": {
      "text/html": [
       "<div>\n",
       "<style scoped>\n",
       "    .dataframe tbody tr th:only-of-type {\n",
       "        vertical-align: middle;\n",
       "    }\n",
       "\n",
       "    .dataframe tbody tr th {\n",
       "        vertical-align: top;\n",
       "    }\n",
       "\n",
       "    .dataframe thead th {\n",
       "        text-align: right;\n",
       "    }\n",
       "</style>\n",
       "<table border=\"1\" class=\"dataframe\">\n",
       "  <thead>\n",
       "    <tr style=\"text-align: right;\">\n",
       "      <th></th>\n",
       "      <th>A</th>\n",
       "      <th>C</th>\n",
       "    </tr>\n",
       "  </thead>\n",
       "  <tbody>\n",
       "    <tr>\n",
       "      <th>2020-03-01</th>\n",
       "      <td>-1.989965</td>\n",
       "      <td>-1.739158</td>\n",
       "    </tr>\n",
       "    <tr>\n",
       "      <th>2020-03-02</th>\n",
       "      <td>0.661154</td>\n",
       "      <td>-1.137977</td>\n",
       "    </tr>\n",
       "    <tr>\n",
       "      <th>2020-03-03</th>\n",
       "      <td>0.990390</td>\n",
       "      <td>-1.123231</td>\n",
       "    </tr>\n",
       "    <tr>\n",
       "      <th>2020-03-04</th>\n",
       "      <td>-0.486959</td>\n",
       "      <td>-0.577087</td>\n",
       "    </tr>\n",
       "    <tr>\n",
       "      <th>2020-03-05</th>\n",
       "      <td>-0.400898</td>\n",
       "      <td>0.228172</td>\n",
       "    </tr>\n",
       "    <tr>\n",
       "      <th>2020-03-06</th>\n",
       "      <td>-0.972140</td>\n",
       "      <td>-1.764328</td>\n",
       "    </tr>\n",
       "    <tr>\n",
       "      <th>2020-03-07</th>\n",
       "      <td>1.379547</td>\n",
       "      <td>-0.869197</td>\n",
       "    </tr>\n",
       "    <tr>\n",
       "      <th>2020-03-08</th>\n",
       "      <td>-1.552489</td>\n",
       "      <td>-1.252317</td>\n",
       "    </tr>\n",
       "    <tr>\n",
       "      <th>2020-03-09</th>\n",
       "      <td>-0.196264</td>\n",
       "      <td>0.195338</td>\n",
       "    </tr>\n",
       "    <tr>\n",
       "      <th>2020-03-10</th>\n",
       "      <td>0.992400</td>\n",
       "      <td>0.025711</td>\n",
       "    </tr>\n",
       "  </tbody>\n",
       "</table>\n",
       "</div>"
      ],
      "text/plain": [
       "                   A         C\n",
       "2020-03-01 -1.989965 -1.739158\n",
       "2020-03-02  0.661154 -1.137977\n",
       "2020-03-03  0.990390 -1.123231\n",
       "2020-03-04 -0.486959 -0.577087\n",
       "2020-03-05 -0.400898  0.228172\n",
       "2020-03-06 -0.972140 -1.764328\n",
       "2020-03-07  1.379547 -0.869197\n",
       "2020-03-08 -1.552489 -1.252317\n",
       "2020-03-09 -0.196264  0.195338\n",
       "2020-03-10  0.992400  0.025711"
      ]
     },
     "execution_count": 46,
     "metadata": {},
     "output_type": "execute_result"
    }
   ],
   "source": [
    "# 获取所有行和部分列\n",
    "df.loc[:, ['A', 'C']]"
   ]
  },
  {
   "cell_type": "code",
   "execution_count": 48,
   "id": "41204f21",
   "metadata": {},
   "outputs": [
    {
     "data": {
      "text/html": [
       "<div>\n",
       "<style scoped>\n",
       "    .dataframe tbody tr th:only-of-type {\n",
       "        vertical-align: middle;\n",
       "    }\n",
       "\n",
       "    .dataframe tbody tr th {\n",
       "        vertical-align: top;\n",
       "    }\n",
       "\n",
       "    .dataframe thead th {\n",
       "        text-align: right;\n",
       "    }\n",
       "</style>\n",
       "<table border=\"1\" class=\"dataframe\">\n",
       "  <thead>\n",
       "    <tr style=\"text-align: right;\">\n",
       "      <th></th>\n",
       "      <th>D</th>\n",
       "      <th>C</th>\n",
       "    </tr>\n",
       "  </thead>\n",
       "  <tbody>\n",
       "    <tr>\n",
       "      <th>2020-03-01</th>\n",
       "      <td>-0.880938</td>\n",
       "      <td>-1.739158</td>\n",
       "    </tr>\n",
       "    <tr>\n",
       "      <th>2020-03-02</th>\n",
       "      <td>-1.171960</td>\n",
       "      <td>-1.137977</td>\n",
       "    </tr>\n",
       "    <tr>\n",
       "      <th>2020-03-03</th>\n",
       "      <td>0.242527</td>\n",
       "      <td>-1.123231</td>\n",
       "    </tr>\n",
       "    <tr>\n",
       "      <th>2020-03-04</th>\n",
       "      <td>0.323697</td>\n",
       "      <td>-0.577087</td>\n",
       "    </tr>\n",
       "    <tr>\n",
       "      <th>2020-03-05</th>\n",
       "      <td>-0.364122</td>\n",
       "      <td>0.228172</td>\n",
       "    </tr>\n",
       "    <tr>\n",
       "      <th>2020-03-06</th>\n",
       "      <td>0.692985</td>\n",
       "      <td>-1.764328</td>\n",
       "    </tr>\n",
       "  </tbody>\n",
       "</table>\n",
       "</div>"
      ],
      "text/plain": [
       "                   D         C\n",
       "2020-03-01 -0.880938 -1.739158\n",
       "2020-03-02 -1.171960 -1.137977\n",
       "2020-03-03  0.242527 -1.123231\n",
       "2020-03-04  0.323697 -0.577087\n",
       "2020-03-05 -0.364122  0.228172\n",
       "2020-03-06  0.692985 -1.764328"
      ]
     },
     "execution_count": 48,
     "metadata": {},
     "output_type": "execute_result"
    }
   ],
   "source": [
    "# 获取部分行和部分列\n",
    "df.loc['20200301': '20200306', ['D', 'C']]"
   ]
  },
  {
   "cell_type": "code",
   "execution_count": 49,
   "id": "b046cb13",
   "metadata": {},
   "outputs": [
    {
     "data": {
      "text/plain": [
       "C   -1.764328\n",
       "D    0.692985\n",
       "Name: 2020-03-06 00:00:00, dtype: float64"
      ]
     },
     "execution_count": 49,
     "metadata": {},
     "output_type": "execute_result"
    }
   ],
   "source": [
    "# 从某行获取部分列\n",
    "df.loc['20200306', ['C', 'D']]"
   ]
  },
  {
   "cell_type": "code",
   "execution_count": 51,
   "id": "6e85e7b2",
   "metadata": {},
   "outputs": [
    {
     "data": {
      "text/plain": [
       "-1.7391581575425041"
      ]
     },
     "execution_count": 51,
     "metadata": {},
     "output_type": "execute_result"
    }
   ],
   "source": [
    "# 从指定索引的行，获取一个标量值\n",
    "df.at[d[0], 'C']"
   ]
  },
  {
   "cell_type": "code",
   "execution_count": 52,
   "id": "52b9351a",
   "metadata": {},
   "outputs": [
    {
     "data": {
      "text/plain": [
       "-1.7391581575425041"
      ]
     },
     "execution_count": 52,
     "metadata": {},
     "output_type": "execute_result"
    }
   ],
   "source": [
    "# 另一种获取标量的方法\n",
    "df.loc['20200301', 'C']"
   ]
  },
  {
   "cell_type": "code",
   "execution_count": 53,
   "id": "4679a7c9",
   "metadata": {},
   "outputs": [
    {
     "data": {
      "text/plain": [
       "A   -0.486959\n",
       "B    0.603084\n",
       "C   -0.577087\n",
       "D    0.323697\n",
       "Name: 2020-03-04 00:00:00, dtype: float64"
      ]
     },
     "execution_count": 53,
     "metadata": {},
     "output_type": "execute_result"
    }
   ],
   "source": [
    "# 通过索引获取第三行的所有值\n",
    "df.iloc[3]"
   ]
  },
  {
   "cell_type": "code",
   "execution_count": 57,
   "id": "255147ae",
   "metadata": {},
   "outputs": [
    {
     "data": {
      "text/html": [
       "<div>\n",
       "<style scoped>\n",
       "    .dataframe tbody tr th:only-of-type {\n",
       "        vertical-align: middle;\n",
       "    }\n",
       "\n",
       "    .dataframe tbody tr th {\n",
       "        vertical-align: top;\n",
       "    }\n",
       "\n",
       "    .dataframe thead th {\n",
       "        text-align: right;\n",
       "    }\n",
       "</style>\n",
       "<table border=\"1\" class=\"dataframe\">\n",
       "  <thead>\n",
       "    <tr style=\"text-align: right;\">\n",
       "      <th></th>\n",
       "      <th>A</th>\n",
       "      <th>B</th>\n",
       "    </tr>\n",
       "  </thead>\n",
       "  <tbody>\n",
       "    <tr>\n",
       "      <th>2020-03-04</th>\n",
       "      <td>-0.486959</td>\n",
       "      <td>0.603084</td>\n",
       "    </tr>\n",
       "    <tr>\n",
       "      <th>2020-03-05</th>\n",
       "      <td>-0.400898</td>\n",
       "      <td>-0.247124</td>\n",
       "    </tr>\n",
       "  </tbody>\n",
       "</table>\n",
       "</div>"
      ],
      "text/plain": [
       "                   A         B\n",
       "2020-03-04 -0.486959  0.603084\n",
       "2020-03-05 -0.400898 -0.247124"
      ]
     },
     "execution_count": 57,
     "metadata": {},
     "output_type": "execute_result"
    }
   ],
   "source": [
    "# 通过索引获取3-5行，0-2列\n",
    "df.iloc[3:5, 0:2]"
   ]
  },
  {
   "cell_type": "code",
   "execution_count": 58,
   "id": "cd1665f8",
   "metadata": {},
   "outputs": [
    {
     "data": {
      "text/html": [
       "<div>\n",
       "<style scoped>\n",
       "    .dataframe tbody tr th:only-of-type {\n",
       "        vertical-align: middle;\n",
       "    }\n",
       "\n",
       "    .dataframe tbody tr th {\n",
       "        vertical-align: top;\n",
       "    }\n",
       "\n",
       "    .dataframe thead th {\n",
       "        text-align: right;\n",
       "    }\n",
       "</style>\n",
       "<table border=\"1\" class=\"dataframe\">\n",
       "  <thead>\n",
       "    <tr style=\"text-align: right;\">\n",
       "      <th></th>\n",
       "      <th>A</th>\n",
       "      <th>B</th>\n",
       "      <th>C</th>\n",
       "      <th>D</th>\n",
       "    </tr>\n",
       "  </thead>\n",
       "  <tbody>\n",
       "    <tr>\n",
       "      <th>2020-03-02</th>\n",
       "      <td>0.661154</td>\n",
       "      <td>0.381098</td>\n",
       "      <td>-1.137977</td>\n",
       "      <td>-1.171960</td>\n",
       "    </tr>\n",
       "    <tr>\n",
       "      <th>2020-03-03</th>\n",
       "      <td>0.990390</td>\n",
       "      <td>0.216612</td>\n",
       "      <td>-1.123231</td>\n",
       "      <td>0.242527</td>\n",
       "    </tr>\n",
       "    <tr>\n",
       "      <th>2020-03-07</th>\n",
       "      <td>1.379547</td>\n",
       "      <td>0.458591</td>\n",
       "      <td>-0.869197</td>\n",
       "      <td>0.302641</td>\n",
       "    </tr>\n",
       "    <tr>\n",
       "      <th>2020-03-10</th>\n",
       "      <td>0.992400</td>\n",
       "      <td>1.185481</td>\n",
       "      <td>0.025711</td>\n",
       "      <td>-1.434810</td>\n",
       "    </tr>\n",
       "  </tbody>\n",
       "</table>\n",
       "</div>"
      ],
      "text/plain": [
       "                   A         B         C         D\n",
       "2020-03-02  0.661154  0.381098 -1.137977 -1.171960\n",
       "2020-03-03  0.990390  0.216612 -1.123231  0.242527\n",
       "2020-03-07  1.379547  0.458591 -0.869197  0.302641\n",
       "2020-03-10  0.992400  1.185481  0.025711 -1.434810"
      ]
     },
     "execution_count": 58,
     "metadata": {},
     "output_type": "execute_result"
    }
   ],
   "source": [
    "# boolean条件，获取所有A列值大于0.1的元素\n",
    "df[df['A'] > 0.1]"
   ]
  }
 ],
 "metadata": {
  "kernelspec": {
   "display_name": "Python 3 (ipykernel)",
   "language": "python",
   "name": "python3"
  },
  "language_info": {
   "codemirror_mode": {
    "name": "ipython",
    "version": 3
   },
   "file_extension": ".py",
   "mimetype": "text/x-python",
   "name": "python",
   "nbconvert_exporter": "python",
   "pygments_lexer": "ipython3",
   "version": "3.8.17"
  }
 },
 "nbformat": 4,
 "nbformat_minor": 5
}
