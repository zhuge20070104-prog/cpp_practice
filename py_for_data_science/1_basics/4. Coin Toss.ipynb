{
 "cells": [
  {
   "cell_type": "code",
   "execution_count": 2,
   "id": "4c676fbc",
   "metadata": {},
   "outputs": [],
   "source": [
    "import random\n",
    "def coin_trail():\n",
    "    heads = 0\n",
    "    for i in range(100):\n",
    "        if random.random() <=0.5:\n",
    "            heads += 1\n",
    "    return heads"
   ]
  },
  {
   "cell_type": "code",
   "execution_count": 4,
   "id": "45a3f06c",
   "metadata": {},
   "outputs": [],
   "source": [
    "def simulate(n):\n",
    "    trials = []\n",
    "    for i in range(n):\n",
    "        trials.append(coin_trail())\n",
    "    return (sum(trials)/n)"
   ]
  },
  {
   "cell_type": "code",
   "execution_count": 6,
   "id": "3a490017",
   "metadata": {},
   "outputs": [
    {
     "data": {
      "text/plain": [
       "50.1"
      ]
     },
     "execution_count": 6,
     "metadata": {},
     "output_type": "execute_result"
    }
   ],
   "source": [
    "simulate(10)"
   ]
  },
  {
   "cell_type": "code",
   "execution_count": 8,
   "id": "3fd06d50",
   "metadata": {},
   "outputs": [
    {
     "data": {
      "text/plain": [
       "49.43"
      ]
     },
     "execution_count": 8,
     "metadata": {},
     "output_type": "execute_result"
    }
   ],
   "source": [
    "simulate(100)"
   ]
  },
  {
   "cell_type": "code",
   "execution_count": 10,
   "id": "2831f8d2",
   "metadata": {},
   "outputs": [
    {
     "data": {
      "text/plain": [
       "49.973"
      ]
     },
     "execution_count": 10,
     "metadata": {},
     "output_type": "execute_result"
    }
   ],
   "source": [
    "simulate(1000)"
   ]
  },
  {
   "cell_type": "code",
   "execution_count": 11,
   "id": "0e584cf8",
   "metadata": {},
   "outputs": [
    {
     "data": {
      "text/plain": [
       "50.009027"
      ]
     },
     "execution_count": 11,
     "metadata": {},
     "output_type": "execute_result"
    }
   ],
   "source": [
    "simulate(1000000)"
   ]
  }
 ],
 "metadata": {
  "kernelspec": {
   "display_name": "Python 3 (ipykernel)",
   "language": "python",
   "name": "python3"
  },
  "language_info": {
   "codemirror_mode": {
    "name": "ipython",
    "version": 3
   },
   "file_extension": ".py",
   "mimetype": "text/x-python",
   "name": "python",
   "nbconvert_exporter": "python",
   "pygments_lexer": "ipython3",
   "version": "3.8.17"
  }
 },
 "nbformat": 4,
 "nbformat_minor": 5
}
