{
 "cells": [
  {
   "cell_type": "code",
   "execution_count": 27,
   "id": "f62225c0",
   "metadata": {},
   "outputs": [
    {
     "data": {
      "text/plain": [
       "'./1_0_12_report'"
      ]
     },
     "execution_count": 27,
     "metadata": {},
     "output_type": "execute_result"
    }
   ],
   "source": [
    "import os\n",
    "PROJECT_REVISION = \"1.0.12\"\n",
    "def get_report_final_folder():\n",
    "    # From 1.0.5+final.1ecf7fed -->  1_0_5_final\n",
    "    split_part = PROJECT_REVISION.split(\"+\")\n",
    "    version = split_part[0].replace(\".\", \"_\")\n",
    "    is_final = False\n",
    "    if len(split_part) > 1:\n",
    "        is_final = (split_part[1].find(\"final\") >= 0)\n",
    "   \n",
    "    if is_final:\n",
    "        version += \"_final\"\n",
    "    final_folder_prefix = os.path.join(\"./\", version)\n",
    "    rel_report = version + \"_report\"\n",
    "    rel_log = version + \"_log\"\n",
    "    final_folder_report = final_folder_prefix + \"_report\"\n",
    "    final_folder_log = final_folder_prefix + \"_log\"\n",
    "    return final_folder_report\n",
    "\n",
    "get_report_final_folder()"
   ]
  }
 ],
 "metadata": {
  "kernelspec": {
   "display_name": "Python 3 (ipykernel)",
   "language": "python",
   "name": "python3"
  },
  "language_info": {
   "codemirror_mode": {
    "name": "ipython",
    "version": 3
   },
   "file_extension": ".py",
   "mimetype": "text/x-python",
   "name": "python",
   "nbconvert_exporter": "python",
   "pygments_lexer": "ipython3",
   "version": "3.8.17"
  }
 },
 "nbformat": 4,
 "nbformat_minor": 5
}
