{
 "cells": [
  {
   "cell_type": "code",
   "execution_count": 1,
   "id": "78a2d7d7",
   "metadata": {},
   "outputs": [
    {
     "data": {
      "text/plain": [
       "2401"
      ]
     },
     "execution_count": 1,
     "metadata": {},
     "output_type": "execute_result"
    }
   ],
   "source": [
    "# 7^4\n",
    "7 ** 4"
   ]
  },
  {
   "cell_type": "code",
   "execution_count": 2,
   "id": "25f9da83",
   "metadata": {},
   "outputs": [
    {
     "data": {
      "text/plain": [
       "['Hi', 'there', 'Fredric!']"
      ]
     },
     "execution_count": 2,
     "metadata": {},
     "output_type": "execute_result"
    }
   ],
   "source": [
    "# Split的string\n",
    "s = 'Hi there Fredric!'\n",
    "s.split()"
   ]
  },
  {
   "cell_type": "code",
   "execution_count": 3,
   "id": "16233bc1",
   "metadata": {},
   "outputs": [
    {
     "name": "stdout",
     "output_type": "stream",
     "text": [
      "The diameter of Earth is 12742 kilometers.\n"
     ]
    }
   ],
   "source": [
    "# 使用format打印字符串\n",
    "plant = 'Earth'\n",
    "diameter = 12742\n",
    "\n",
    "print('The diameter of {} is {} kilometers.'.format(plant, diameter))"
   ]
  },
  {
   "cell_type": "code",
   "execution_count": 4,
   "id": "2db36c5d",
   "metadata": {},
   "outputs": [],
   "source": [
    "# 使用索引获取hello\n",
    "lst = [1, 2, [3, 4], [5, [100, 200, ['hello']], 23, 11], 1, 7]"
   ]
  },
  {
   "cell_type": "code",
   "execution_count": 6,
   "id": "fe5f318a",
   "metadata": {},
   "outputs": [
    {
     "data": {
      "text/plain": [
       "'hello'"
      ]
     },
     "execution_count": 6,
     "metadata": {},
     "output_type": "execute_result"
    }
   ],
   "source": [
    "lst[3][1][2][0]"
   ]
  },
  {
   "cell_type": "code",
   "execution_count": 7,
   "id": "95680aa2",
   "metadata": {},
   "outputs": [
    {
     "data": {
      "text/plain": [
       "'hello'"
      ]
     },
     "execution_count": 7,
     "metadata": {},
     "output_type": "execute_result"
    }
   ],
   "source": [
    "# 抓取字典中的Hello\n",
    "\n",
    "d = {'k1': [1, 2, 3, {'tricky': ['oh', 'man', 'inception', {'target': [1, 2, 3, 'hello']}]}]}\n",
    "d['k1'][3]['tricky'][3]['target'][3]"
   ]
  },
  {
   "cell_type": "code",
   "execution_count": 8,
   "id": "478f4e94",
   "metadata": {},
   "outputs": [],
   "source": [
    "# tuple 和 list的主要区别\n",
    "# tuple 是不可变的"
   ]
  },
  {
   "cell_type": "code",
   "execution_count": 10,
   "id": "a31ffe23",
   "metadata": {},
   "outputs": [
    {
     "data": {
      "text/plain": [
       "'outlook.com'"
      ]
     },
     "execution_count": 10,
     "metadata": {},
     "output_type": "execute_result"
    }
   ],
   "source": [
    "# 创建一个函数，grep email的domain部分\n",
    "def domain_get(email):\n",
    "    return email.split('@')[1]\n",
    "domain_get('Fredric2010@outlook.com')"
   ]
  },
  {
   "cell_type": "code",
   "execution_count": 15,
   "id": "87812de2",
   "metadata": {},
   "outputs": [
    {
     "data": {
      "text/plain": [
       "True"
      ]
     },
     "execution_count": 15,
     "metadata": {},
     "output_type": "execute_result"
    }
   ],
   "source": [
    "# 查找字符串中的dog子字符串\n",
    "def find_dog(st):\n",
    "    return st.lower().find('dog') >= 0\n",
    "find_dog('This is a dog')"
   ]
  },
  {
   "cell_type": "code",
   "execution_count": 18,
   "id": "ecced040",
   "metadata": {},
   "outputs": [
    {
     "data": {
      "text/plain": [
       "True"
      ]
     },
     "execution_count": 18,
     "metadata": {},
     "output_type": "execute_result"
    }
   ],
   "source": [
    "# 另一个 find_dog的实现，查找有dog这个词\n",
    "def find_dog1(st):\n",
    "    return 'dog' in st.lower().split()\n",
    "find_dog1('is there a dog exist?')"
   ]
  },
  {
   "cell_type": "code",
   "execution_count": 19,
   "id": "818c2e39",
   "metadata": {},
   "outputs": [
    {
     "data": {
      "text/plain": [
       "5"
      ]
     },
     "execution_count": 19,
     "metadata": {},
     "output_type": "execute_result"
    }
   ],
   "source": [
    "# 计算dog这个词出现的次数\n",
    "def count_dog(st):\n",
    "    count = 0\n",
    "    for word in st.lower().split():\n",
    "        if word == 'dog':\n",
    "            count += 1\n",
    "    return count\n",
    "\n",
    "count_dog('How many dog are there in the sentence? dog dog dog dog')"
   ]
  },
  {
   "cell_type": "code",
   "execution_count": 20,
   "id": "4631de74",
   "metadata": {},
   "outputs": [
    {
     "data": {
      "text/plain": [
       "['soup', 'salad']"
      ]
     },
     "execution_count": 20,
     "metadata": {},
     "output_type": "execute_result"
    }
   ],
   "source": [
    "# 用lambda 表达式和filter 过滤以s开头的词语\n",
    "seq = ['soup', 'dog', 'salad', 'cat', 'great']\n",
    "list(filter(lambda s: s.startswith('s'), seq))"
   ]
  },
  {
   "cell_type": "code",
   "execution_count": 22,
   "id": "e7137d4a",
   "metadata": {},
   "outputs": [
    {
     "data": {
      "text/plain": [
       "['soup', 'salad']"
      ]
     },
     "execution_count": 22,
     "metadata": {},
     "output_type": "execute_result"
    }
   ],
   "source": [
    "# 第二个lambda 表达式实现\n",
    "list(filter(lambda s: s[0] == 's', seq))"
   ]
  },
  {
   "cell_type": "code",
   "execution_count": 23,
   "id": "576f1f26",
   "metadata": {},
   "outputs": [],
   "source": [
    "# 最后一个问题 [抓超速]\n",
    "'''You are driving a little too fast, and a police officer stops you. Write a function\n",
    "  to return one of 3 possible results: \"No ticket\", \"Small ticket\", or \"Big Ticket\". \n",
    "  If your speed is 60 or less, the result is \"No Ticket\". If speed is between 61 \n",
    "  and 80 inclusive, the result is \"Small Ticket\". If speed is 81 or more, the result is \"Big    Ticket\". Unless it is your birthday (encoded as a boolean value in the parameters of the function) -- on your birthday, your speed can be 5 higher in all \n",
    "  cases'''"
   ]
  },
  {
   "cell_type": "code",
   "execution_count": 39,
   "id": "8aac8770",
   "metadata": {},
   "outputs": [],
   "source": [
    "def caught_speeding(speed, is_birthday):\n",
    "    no_ticket_limit = 60\n",
    "    small_ticket_low_limit = 61\n",
    "    small_ticket_high_limit = 80\n",
    "    big_ticket_limit = 81\n",
    "    \n",
    "    if is_birthday:\n",
    "        no_ticket_limit += 5\n",
    "        small_ticket_low_limit += 5\n",
    "        small_ticket_high_limit += 5\n",
    "        big_ticket_limit += 5\n",
    "        \n",
    "    if speed <= no_ticket_limit:\n",
    "        return \"No ticket\"\n",
    "    elif speed >= small_ticket_low_limit and speed <= small_ticket_high_limit:\n",
    "        return \"Small ticket\"\n",
    "    else:\n",
    "        return \"Big ticket\"\n",
    "        "
   ]
  },
  {
   "cell_type": "code",
   "execution_count": 40,
   "id": "9bd4395a",
   "metadata": {},
   "outputs": [
    {
     "data": {
      "text/plain": [
       "'Small ticket'"
      ]
     },
     "execution_count": 40,
     "metadata": {},
     "output_type": "execute_result"
    }
   ],
   "source": [
    "caught_speeding(81, True)"
   ]
  },
  {
   "cell_type": "code",
   "execution_count": 41,
   "id": "91d39701",
   "metadata": {},
   "outputs": [
    {
     "data": {
      "text/plain": [
       "'Big ticket'"
      ]
     },
     "execution_count": 41,
     "metadata": {},
     "output_type": "execute_result"
    }
   ],
   "source": [
    "caught_speeding(81, False)"
   ]
  }
 ],
 "metadata": {
  "kernelspec": {
   "display_name": "Python 3 (ipykernel)",
   "language": "python",
   "name": "python3"
  },
  "language_info": {
   "codemirror_mode": {
    "name": "ipython",
    "version": 3
   },
   "file_extension": ".py",
   "mimetype": "text/x-python",
   "name": "python",
   "nbconvert_exporter": "python",
   "pygments_lexer": "ipython3",
   "version": "3.8.17"
  }
 },
 "nbformat": 4,
 "nbformat_minor": 5
}
